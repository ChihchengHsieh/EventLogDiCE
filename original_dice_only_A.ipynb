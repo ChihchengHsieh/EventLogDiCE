{
 "metadata": {
  "language_info": {
   "codemirror_mode": {
    "name": "ipython",
    "version": 3
   },
   "file_extension": ".py",
   "mimetype": "text/x-python",
   "name": "python",
   "nbconvert_exporter": "python",
   "pygments_lexer": "ipython3",
   "version": "3.8.10"
  },
  "orig_nbformat": 4,
  "kernelspec": {
   "name": "python3",
   "display_name": "Python 3.8.10 64-bit ('tf_mac': conda)"
  },
  "interpreter": {
   "hash": "5c622353f32ef24c8d83e5c3e334107c074e82d7c3e8ca52c56b9fc900ce33e6"
  }
 },
 "nbformat": 4,
 "nbformat_minor": 2,
 "cells": [
  {
   "cell_type": "code",
   "execution_count": 1,
   "metadata": {},
   "outputs": [],
   "source": [
    "from parameters.dataset import BPI2012Parameters\n",
    "from dataset import BPI2012Dataset\n",
    "from utils.print import print_block\n",
    "from utils.bpi2012 import remove_trail_steps, print_model_prediction_result, remove_tags_for_seq, generate_fake_df\n",
    "import tensorflow as tf\n",
    "from model import LSTMPredNextModel, LSTMScenarioCfModel\n",
    "import numpy as np\n",
    "from utils.print import print_block\n",
    "from model import OriginalDiCEWrapper\n",
    "import dice_ml\n",
    "import pandas as pd"
   ]
  },
  {
   "cell_type": "code",
   "execution_count": 2,
   "metadata": {},
   "outputs": [
    {
     "output_type": "stream",
     "name": "stdout",
     "text": [
      "\n========================================\n| Preprocessed data loaded successfully: ./data/preprocessed/BPI_Challenge_2012_with_resource/A_CompleteOnly \n========================================\n"
     ]
    }
   ],
   "source": [
    "dataset = BPI2012Dataset(BPI2012Parameters()) "
   ]
  },
  {
   "cell_type": "code",
   "execution_count": 3,
   "metadata": {},
   "outputs": [
    {
     "output_type": "stream",
     "name": "stdout",
     "text": [
      "\n",
      "====================Activity====================\n",
      "| [['<SOS>', 'A_SUBMITTED_COMPLETE', 'A_PARTLYSUBMITTED_COMPLETE', 'A_PREACCEPTED_COMPLETE', 'A_ACCEPTED_COMPLETE', 'A_FINALIZED_COMPLETE', 'A_APPROVED_COMPLETE', 'A_REGISTERED_COMPLETE', 'A_ACTIVATED_COMPLETE']] \n",
      "================================================\n",
      "\n",
      "====================Resource====================\n",
      "| [['<SOS>', '112', '112', '112', '11201', '11201', '10629', '10629', '10629']] \n",
      "================================================\n"
     ]
    }
   ],
   "source": [
    "trace_idx = 52\n",
    "_, example_activities, _, example_resources, example_amount, _ = dataset.collate_fn([trace_idx])\n",
    "print_block(dataset.activity_vocab.list_of_index_to_vocab_2d(example_activities),\"Activity\")\n",
    "print_block(dataset.resource_vocab.list_of_index_to_vocab_2d(example_resources),\"Resource\")"
   ]
  },
  {
   "cell_type": "code",
   "execution_count": 4,
   "metadata": {},
   "outputs": [
    {
     "output_type": "stream",
     "name": "stdout",
     "text": [
      "\n",
      "====================Activity (Tail removed)====================\n",
      "| ['<SOS>', 'A_SUBMITTED_COMPLETE', 'A_PARTLYSUBMITTED_COMPLETE', 'A_PREACCEPTED_COMPLETE', 'A_ACCEPTED_COMPLETE', 'A_FINALIZED_COMPLETE'] \n",
      "===============================================================\n",
      "\n",
      "====================Resource (Tail removed)====================\n",
      "| ['<SOS>', '112', '112', '112', '11201', '11201'] \n",
      "===============================================================\n"
     ]
    }
   ],
   "source": [
    "## Remove tails\n",
    "tail_length_to_remove = 3\n",
    "example_idx_activities, example_idx_resources = remove_trail_steps(example_activities, example_resources, tail_length_to_remove)\n",
    "example_vocab_activities = dataset.activity_vocab.list_of_index_to_vocab_2d(example_idx_activities)[0]\n",
    "example_vocab_resources = dataset.resource_vocab.list_of_index_to_vocab_2d(example_idx_resources)[0]\n",
    "print_block(example_vocab_activities, \"Activity (Tail removed)\")\n",
    "print_block(example_vocab_resources, \"Resource (Tail removed)\")"
   ]
  },
  {
   "cell_type": "code",
   "execution_count": 5,
   "metadata": {},
   "outputs": [
    {
     "output_type": "stream",
     "name": "stdout",
     "text": [
      "\n",
      "========================================\n",
      "| Model parameters loaded successfully from: ./SavedModels/0.8441_LSTMPredNextModel_A_CompleteOnly_2021-07-06 16:46:36.809124  \n",
      "========================================\n",
      "\n",
      "========================================\n",
      "| Vocab loaded successfully from: ./SavedModels/0.8441_LSTMPredNextModel_A_CompleteOnly_2021-07-06 16:46:36.809124  \n",
      "========================================\n",
      "\n",
      "========================================\n",
      "| Model loaded successfully from: ./SavedModels/0.8441_LSTMPredNextModel_A_CompleteOnly_2021-07-06 16:46:36.809124  \n",
      "========================================\n"
     ]
    }
   ],
   "source": [
    "pred_model = LSTMPredNextModel.load(\n",
    "    \"./SavedModels/%s\" % (\n",
    "    \"0.8441_LSTMPredNextModel_A_CompleteOnly_2021-07-06 16:46:36.809124\" \n",
    "    )\n",
    ")"
   ]
  },
  {
   "cell_type": "code",
   "execution_count": 6,
   "metadata": {},
   "outputs": [
    {
     "output_type": "stream",
     "name": "stdout",
     "text": [
      "\n",
      "========================================Predict result========================================\n",
      "| Predicted activity with highest probability (0.29) is \"A_CANCELLED_COMPLETE\" \n",
      "==============================================================================================\n",
      "\n",
      "\n",
      "\n",
      "<PAD>                         0.000014\n",
      "<EOS>                         0.129297\n",
      "<SOS>                         0.000019\n",
      "A_ACCEPTED_COMPLETE           0.000103\n",
      "A_ACTIVATED_COMPLETE          0.196369\n",
      "A_APPROVED_COMPLETE           0.170411\n",
      "A_CANCELLED_COMPLETE          0.294768\n",
      "A_DECLINED_COMPLETE           0.068447\n",
      "A_FINALIZED_COMPLETE          0.000009\n",
      "A_PARTLYSUBMITTED_COMPLETE    0.000004\n",
      "A_PREACCEPTED_COMPLETE        0.000042\n",
      "A_REGISTERED_COMPLETE         0.140504\n",
      "A_SUBMITTED_COMPLETE          0.000013\n",
      "Name: 0, dtype: float64\n"
     ]
    }
   ],
   "source": [
    "##### Get model output\n",
    "example_activities_input = tf.constant(example_idx_activities)\n",
    "example_resources_input = tf.constant(example_idx_resources)\n",
    "example_amount_input = tf.constant(example_amount)\n",
    "\n",
    "predicted_df = print_model_prediction_result(pred_model, example_activities_input, example_resources_input, example_amount_input)"
   ]
  },
  {
   "cell_type": "code",
   "execution_count": 7,
   "metadata": {},
   "outputs": [
    {
     "output_type": "execute_result",
     "data": {
      "text/plain": [
       "      <PAD>     <EOS>     <SOS>  A_ACCEPTED_COMPLETE  A_ACTIVATED_COMPLETE  \\\n",
       "0  0.000014  0.129297  0.000019             0.000103              0.196369   \n",
       "\n",
       "   A_APPROVED_COMPLETE  A_CANCELLED_COMPLETE  A_DECLINED_COMPLETE  \\\n",
       "0             0.170411              0.294768             0.068447   \n",
       "\n",
       "   A_FINALIZED_COMPLETE  A_PARTLYSUBMITTED_COMPLETE  A_PREACCEPTED_COMPLETE  \\\n",
       "0              0.000009                    0.000004                0.000042   \n",
       "\n",
       "   A_REGISTERED_COMPLETE  A_SUBMITTED_COMPLETE  \n",
       "0               0.140504              0.000013  "
      ],
      "text/html": "<div>\n<style scoped>\n    .dataframe tbody tr th:only-of-type {\n        vertical-align: middle;\n    }\n\n    .dataframe tbody tr th {\n        vertical-align: top;\n    }\n\n    .dataframe thead th {\n        text-align: right;\n    }\n</style>\n<table border=\"1\" class=\"dataframe\">\n  <thead>\n    <tr style=\"text-align: right;\">\n      <th></th>\n      <th>&lt;PAD&gt;</th>\n      <th>&lt;EOS&gt;</th>\n      <th>&lt;SOS&gt;</th>\n      <th>A_ACCEPTED_COMPLETE</th>\n      <th>A_ACTIVATED_COMPLETE</th>\n      <th>A_APPROVED_COMPLETE</th>\n      <th>A_CANCELLED_COMPLETE</th>\n      <th>A_DECLINED_COMPLETE</th>\n      <th>A_FINALIZED_COMPLETE</th>\n      <th>A_PARTLYSUBMITTED_COMPLETE</th>\n      <th>A_PREACCEPTED_COMPLETE</th>\n      <th>A_REGISTERED_COMPLETE</th>\n      <th>A_SUBMITTED_COMPLETE</th>\n    </tr>\n  </thead>\n  <tbody>\n    <tr>\n      <th>0</th>\n      <td>0.000014</td>\n      <td>0.129297</td>\n      <td>0.000019</td>\n      <td>0.000103</td>\n      <td>0.196369</td>\n      <td>0.170411</td>\n      <td>0.294768</td>\n      <td>0.068447</td>\n      <td>0.000009</td>\n      <td>0.000004</td>\n      <td>0.000042</td>\n      <td>0.140504</td>\n      <td>0.000013</td>\n    </tr>\n  </tbody>\n</table>\n</div>"
     },
     "metadata": {},
     "execution_count": 7
    }
   ],
   "source": [
    "predicted_df"
   ]
  },
  {
   "cell_type": "code",
   "execution_count": 8,
   "metadata": {},
   "outputs": [
    {
     "output_type": "stream",
     "name": "stdout",
     "text": [
      "\n",
      "==============================Example activities without tags==============================\n",
      "| ['A_SUBMITTED_COMPLETE', 'A_PARTLYSUBMITTED_COMPLETE', 'A_PREACCEPTED_COMPLETE', 'A_ACCEPTED_COMPLETE', 'A_FINALIZED_COMPLETE'] \n",
      "===========================================================================================\n",
      "\n",
      "==============================Example resources without tags==============================\n",
      "| ['112', '112', '112', '11201', '11201'] \n",
      "==========================================================================================\n",
      "\n",
      "=================================Amount=================================\n",
      "| [15500.0] \n",
      "========================================================================\n"
     ]
    }
   ],
   "source": [
    "no_need_tags = ['<EOS>', '<SOS>', '<PAD>']\n",
    "\n",
    "possible_activities = [ a for a in list(pred_model.activity_vocab.vocabs) if  not a in no_need_tags]\n",
    "possible_resources =  [ r for r in list(pred_model.resource_vocab.vocabs) if  not r in no_need_tags]\n",
    "\n",
    "example_vocab_activities_no_tag = remove_tags_for_seq(example_vocab_activities, no_need_tags)\n",
    "\n",
    "example_vocab_resources_no_tag = remove_tags_for_seq(example_vocab_resources, no_need_tags)\n",
    "\n",
    "# transform to possible dim\n",
    "example_idx_activities_no_tag = [ possible_activities.index(v)   for v in example_vocab_activities_no_tag ]\n",
    "\n",
    "example_idx_resources_no_tag = [\n",
    "possible_resources.index(v)   for v in example_vocab_resources_no_tag    \n",
    "]\n",
    "\n",
    "example_trace_len_no_tag = len(example_vocab_activities_no_tag)\n",
    "#### Determine feature names for DiCE ####\n",
    "activity_feature_names = np.array([\"activity_step_%d\" % (i+1) for i in range(example_trace_len_no_tag)])\n",
    "resource_feature_names = np.array([\"resource_step_%d\" % (i+1) for i in range(example_trace_len_no_tag)])\n",
    "possbile_amount = [min(dataset.df[\"amount\"]), max(dataset.df[\"amount\"])]\n",
    "\n",
    "print_block(example_vocab_activities_no_tag ,title=\"Example activities without tags\", num_marks = 30)\n",
    "print_block(example_vocab_resources_no_tag ,title=\"Example resources without tags\", num_marks = 30)\n",
    "print_block(example_amount, title=\"=================Amount=================\", num_marks=16)"
   ]
  },
  {
   "cell_type": "code",
   "execution_count": 9,
   "metadata": {},
   "outputs": [
    {
     "output_type": "stream",
     "name": "stdout",
     "text": [
      "\n====================Desired activity====================\n| A_APPROVED_COMPLETE \n========================================================\n"
     ]
    }
   ],
   "source": [
    "############ Setting up desired activity ############\n",
    "desired_activity = 'A_APPROVED_COMPLETE' # A_DECLINED_COMPLETE, A_APPROVED_COMPLETE\n",
    "print_block(desired_activity, \"Desired activity\")\n",
    "\n",
    "dice_binary_model = OriginalDiCEWrapper(\n",
    "    model=pred_model,\n",
    "    activity_vocab=pred_model.activity_vocab,\n",
    "    resource_vocab=pred_model.resource_vocab,\n",
    "    desired=pred_model.activity_vocab.vocab_to_index(desired_activity),\n",
    "    trace_length = example_trace_len_no_tag,\n",
    "    possible_amount=possbile_amount,\n",
    "    possible_resources=possible_resources,\n",
    "    possible_activities=possible_activities \n",
    ")"
   ]
  },
  {
   "cell_type": "code",
   "execution_count": 10,
   "metadata": {},
   "outputs": [],
   "source": [
    "fake_df = generate_fake_df(5000, activity_feature_names, resource_feature_names, possible_activities, possible_resources, possbile_amount, example_trace_len_no_tag)\n",
    "d = dice_ml.Data(dataframe=fake_df, outcome_name=\"predicted\",continuous_features = ['amount'])\n",
    "m = dice_ml.Model(model=dice_binary_model, backend=\"TF2\")\n",
    "exp = dice_ml.Dice(d, m)"
   ]
  },
  {
   "cell_type": "code",
   "execution_count": 11,
   "metadata": {},
   "outputs": [],
   "source": [
    "### Prepare input df\n",
    "feature_names = activity_feature_names.tolist() + resource_feature_names.tolist() + ['amount']\n",
    "query_instance = [example_vocab_activities_no_tag + example_vocab_resources_no_tag + example_amount]\n",
    "example_df = pd.DataFrame(query_instance, columns= feature_names)"
   ]
  },
  {
   "cell_type": "code",
   "execution_count": 15,
   "metadata": {},
   "outputs": [
    {
     "output_type": "execute_result",
     "data": {
      "text/plain": [
       "        activity_step_1             activity_step_2         activity_step_3  \\\n",
       "0  A_SUBMITTED_COMPLETE  A_PARTLYSUBMITTED_COMPLETE  A_PREACCEPTED_COMPLETE   \n",
       "\n",
       "       activity_step_4       activity_step_5 resource_step_1 resource_step_2  \\\n",
       "0  A_ACCEPTED_COMPLETE  A_FINALIZED_COMPLETE             112             112   \n",
       "\n",
       "  resource_step_3 resource_step_4 resource_step_5   amount  \n",
       "0             112           11201           11201  15500.0  "
      ],
      "text/html": "<div>\n<style scoped>\n    .dataframe tbody tr th:only-of-type {\n        vertical-align: middle;\n    }\n\n    .dataframe tbody tr th {\n        vertical-align: top;\n    }\n\n    .dataframe thead th {\n        text-align: right;\n    }\n</style>\n<table border=\"1\" class=\"dataframe\">\n  <thead>\n    <tr style=\"text-align: right;\">\n      <th></th>\n      <th>activity_step_1</th>\n      <th>activity_step_2</th>\n      <th>activity_step_3</th>\n      <th>activity_step_4</th>\n      <th>activity_step_5</th>\n      <th>resource_step_1</th>\n      <th>resource_step_2</th>\n      <th>resource_step_3</th>\n      <th>resource_step_4</th>\n      <th>resource_step_5</th>\n      <th>amount</th>\n    </tr>\n  </thead>\n  <tbody>\n    <tr>\n      <th>0</th>\n      <td>A_SUBMITTED_COMPLETE</td>\n      <td>A_PARTLYSUBMITTED_COMPLETE</td>\n      <td>A_PREACCEPTED_COMPLETE</td>\n      <td>A_ACCEPTED_COMPLETE</td>\n      <td>A_FINALIZED_COMPLETE</td>\n      <td>112</td>\n      <td>112</td>\n      <td>112</td>\n      <td>11201</td>\n      <td>11201</td>\n      <td>15500.0</td>\n    </tr>\n  </tbody>\n</table>\n</div>"
     },
     "metadata": {},
     "execution_count": 15
    }
   ],
   "source": [
    "example_df"
   ]
  },
  {
   "cell_type": "code",
   "execution_count": 20,
   "metadata": {},
   "outputs": [
    {
     "output_type": "execute_result",
     "data": {
      "text/plain": [
       "[15500.0]"
      ]
     },
     "metadata": {},
     "execution_count": 20
    }
   ],
   "source": [
    "example_amount"
   ]
  },
  {
   "cell_type": "code",
   "execution_count": 30,
   "metadata": {},
   "outputs": [
    {
     "output_type": "stream",
     "name": "stdout",
     "text": [
      "step 1,  loss=0\n"
     ]
    },
    {
     "output_type": "error",
     "ename": "KeyboardInterrupt",
     "evalue": "",
     "traceback": [
      "\u001b[0;31m---------------------------------------------------------------------------\u001b[0m",
      "\u001b[0;31mKeyboardInterrupt\u001b[0m                         Traceback (most recent call last)",
      "\u001b[0;32m<ipython-input-30-f6f84bbe6e26>\u001b[0m in \u001b[0;36m<module>\u001b[0;34m\u001b[0m\n\u001b[0;32m----> 1\u001b[0;31m dice_exp = exp.generate_counterfactuals(\n\u001b[0m\u001b[1;32m      2\u001b[0m         \u001b[0mexample_df\u001b[0m\u001b[0;34m,\u001b[0m\u001b[0;34m\u001b[0m\u001b[0;34m\u001b[0m\u001b[0m\n\u001b[1;32m      3\u001b[0m         \u001b[0mtotal_CFs\u001b[0m\u001b[0;34m=\u001b[0m\u001b[0;36m1\u001b[0m\u001b[0;34m,\u001b[0m\u001b[0;34m\u001b[0m\u001b[0;34m\u001b[0m\u001b[0m\n\u001b[1;32m      4\u001b[0m         \u001b[0mverbose\u001b[0m\u001b[0;34m=\u001b[0m\u001b[0;32mTrue\u001b[0m\u001b[0;34m,\u001b[0m\u001b[0;34m\u001b[0m\u001b[0;34m\u001b[0m\u001b[0m\n\u001b[1;32m      5\u001b[0m         \u001b[0mmin_iter\u001b[0m\u001b[0;34m=\u001b[0m\u001b[0;36m100\u001b[0m\u001b[0;34m,\u001b[0m\u001b[0;34m\u001b[0m\u001b[0;34m\u001b[0m\u001b[0m\n",
      "\u001b[0;32m~/miniforge3/envs/tf_mac/lib/python3.8/site-packages/dice_ml/explainer_interfaces/dice_tensorflow2.py\u001b[0m in \u001b[0;36mgenerate_counterfactuals\u001b[0;34m(self, query_instance, total_CFs, desired_class, proximity_weight, diversity_weight, categorical_penalty, algorithm, features_to_vary, permitted_range, yloss_type, diversity_loss_type, feature_weights, optimizer, learning_rate, min_iter, max_iter, project_iter, loss_diff_thres, loss_converge_maxiter, verbose, init_near_query_instance, tie_random, stopping_threshold, posthoc_sparsity_param, posthoc_sparsity_algorithm)\u001b[0m\n\u001b[1;32m    127\u001b[0m \u001b[0;34m\u001b[0m\u001b[0m\n\u001b[1;32m    128\u001b[0m         \u001b[0mfinal_cfs_df\u001b[0m\u001b[0;34m,\u001b[0m \u001b[0mtest_instance_df\u001b[0m\u001b[0;34m,\u001b[0m \u001b[0mfinal_cfs_df_sparse\u001b[0m \u001b[0;34m=\u001b[0m\u001b[0;31m \u001b[0m\u001b[0;31m\\\u001b[0m\u001b[0;34m\u001b[0m\u001b[0;34m\u001b[0m\u001b[0m\n\u001b[0;32m--> 129\u001b[0;31m             self.find_counterfactuals(query_instance, desired_class, optimizer,\n\u001b[0m\u001b[1;32m    130\u001b[0m                                       \u001b[0mlearning_rate\u001b[0m\u001b[0;34m,\u001b[0m \u001b[0mmin_iter\u001b[0m\u001b[0;34m,\u001b[0m \u001b[0mmax_iter\u001b[0m\u001b[0;34m,\u001b[0m \u001b[0mproject_iter\u001b[0m\u001b[0;34m,\u001b[0m\u001b[0;34m\u001b[0m\u001b[0;34m\u001b[0m\u001b[0m\n\u001b[1;32m    131\u001b[0m                                       \u001b[0mloss_diff_thres\u001b[0m\u001b[0;34m,\u001b[0m \u001b[0mloss_converge_maxiter\u001b[0m\u001b[0;34m,\u001b[0m \u001b[0mverbose\u001b[0m\u001b[0;34m,\u001b[0m\u001b[0;34m\u001b[0m\u001b[0;34m\u001b[0m\u001b[0m\n",
      "\u001b[0;32m~/miniforge3/envs/tf_mac/lib/python3.8/site-packages/dice_ml/explainer_interfaces/dice_tensorflow2.py\u001b[0m in \u001b[0;36mfind_counterfactuals\u001b[0;34m(self, query_instance, desired_class, optimizer, learning_rate, min_iter, max_iter, project_iter, loss_diff_thres, loss_converge_maxiter, verbose, init_near_query_instance, tie_random, stopping_threshold, posthoc_sparsity_param, posthoc_sparsity_algorithm)\u001b[0m\n\u001b[1;32m    479\u001b[0m                 \u001b[0;31m# compute loss and tape the variables history\u001b[0m\u001b[0;34m\u001b[0m\u001b[0;34m\u001b[0m\u001b[0;34m\u001b[0m\u001b[0m\n\u001b[1;32m    480\u001b[0m                 \u001b[0;32mwith\u001b[0m \u001b[0mtf\u001b[0m\u001b[0;34m.\u001b[0m\u001b[0mGradientTape\u001b[0m\u001b[0;34m(\u001b[0m\u001b[0;34m)\u001b[0m \u001b[0;32mas\u001b[0m \u001b[0mtape\u001b[0m\u001b[0;34m:\u001b[0m\u001b[0;34m\u001b[0m\u001b[0;34m\u001b[0m\u001b[0m\n\u001b[0;32m--> 481\u001b[0;31m                     \u001b[0mloss_value\u001b[0m \u001b[0;34m=\u001b[0m \u001b[0mself\u001b[0m\u001b[0;34m.\u001b[0m\u001b[0mcompute_loss\u001b[0m\u001b[0;34m(\u001b[0m\u001b[0;34m)\u001b[0m\u001b[0;34m\u001b[0m\u001b[0;34m\u001b[0m\u001b[0m\n\u001b[0m\u001b[1;32m    482\u001b[0m \u001b[0;34m\u001b[0m\u001b[0m\n\u001b[1;32m    483\u001b[0m                 \u001b[0;31m# get gradients\u001b[0m\u001b[0;34m\u001b[0m\u001b[0;34m\u001b[0m\u001b[0;34m\u001b[0m\u001b[0m\n",
      "\u001b[0;32m~/miniforge3/envs/tf_mac/lib/python3.8/site-packages/dice_ml/explainer_interfaces/dice_tensorflow2.py\u001b[0m in \u001b[0;36mcompute_loss\u001b[0;34m(self)\u001b[0m\n\u001b[1;32m    313\u001b[0m     \u001b[0;32mdef\u001b[0m \u001b[0mcompute_loss\u001b[0m\u001b[0;34m(\u001b[0m\u001b[0mself\u001b[0m\u001b[0;34m)\u001b[0m\u001b[0;34m:\u001b[0m\u001b[0;34m\u001b[0m\u001b[0;34m\u001b[0m\u001b[0m\n\u001b[1;32m    314\u001b[0m         \u001b[0;34m\"\"\"Computes the overall loss\"\"\"\u001b[0m\u001b[0;34m\u001b[0m\u001b[0;34m\u001b[0m\u001b[0m\n\u001b[0;32m--> 315\u001b[0;31m         \u001b[0mself\u001b[0m\u001b[0;34m.\u001b[0m\u001b[0myloss\u001b[0m \u001b[0;34m=\u001b[0m \u001b[0mself\u001b[0m\u001b[0;34m.\u001b[0m\u001b[0mcompute_yloss\u001b[0m\u001b[0;34m(\u001b[0m\u001b[0;34m)\u001b[0m\u001b[0;34m\u001b[0m\u001b[0;34m\u001b[0m\u001b[0m\n\u001b[0m\u001b[1;32m    316\u001b[0m         \u001b[0mself\u001b[0m\u001b[0;34m.\u001b[0m\u001b[0mproximity_loss\u001b[0m \u001b[0;34m=\u001b[0m \u001b[0mself\u001b[0m\u001b[0;34m.\u001b[0m\u001b[0mcompute_proximity_loss\u001b[0m\u001b[0;34m(\u001b[0m\u001b[0;34m)\u001b[0m \u001b[0;32mif\u001b[0m \u001b[0mself\u001b[0m\u001b[0;34m.\u001b[0m\u001b[0mproximity_weight\u001b[0m \u001b[0;34m>\u001b[0m \u001b[0;36m0\u001b[0m \u001b[0;32melse\u001b[0m \u001b[0;36m0.0\u001b[0m\u001b[0;34m\u001b[0m\u001b[0;34m\u001b[0m\u001b[0m\n\u001b[1;32m    317\u001b[0m         \u001b[0mself\u001b[0m\u001b[0;34m.\u001b[0m\u001b[0mdiversity_loss\u001b[0m \u001b[0;34m=\u001b[0m \u001b[0mself\u001b[0m\u001b[0;34m.\u001b[0m\u001b[0mcompute_diversity_loss\u001b[0m\u001b[0;34m(\u001b[0m\u001b[0;34m)\u001b[0m \u001b[0;32mif\u001b[0m \u001b[0mself\u001b[0m\u001b[0;34m.\u001b[0m\u001b[0mdiversity_weight\u001b[0m \u001b[0;34m>\u001b[0m \u001b[0;36m0\u001b[0m \u001b[0;32melse\u001b[0m \u001b[0;36m0.0\u001b[0m\u001b[0;34m\u001b[0m\u001b[0;34m\u001b[0m\u001b[0m\n",
      "\u001b[0;32m~/miniforge3/envs/tf_mac/lib/python3.8/site-packages/dice_ml/explainer_interfaces/dice_tensorflow2.py\u001b[0m in \u001b[0;36mcompute_yloss\u001b[0;34m(self)\u001b[0m\n\u001b[1;32m    239\u001b[0m                 temp_logits = tf.compat.v1.log((tf.abs(\n\u001b[1;32m    240\u001b[0m                     self.model.get_output(\n\u001b[0;32m--> 241\u001b[0;31m                         self.cfs[i]) - 0.000001))/(1 - tf.abs(self.model.get_output(self.cfs[i]) - 0.000001)))\n\u001b[0m\u001b[1;32m    242\u001b[0m                 \u001b[0mtemp_logits\u001b[0m \u001b[0;34m=\u001b[0m \u001b[0mtemp_logits\u001b[0m\u001b[0;34m[\u001b[0m\u001b[0;34m:\u001b[0m\u001b[0;34m,\u001b[0m \u001b[0;34m(\u001b[0m\u001b[0mself\u001b[0m\u001b[0;34m.\u001b[0m\u001b[0mnum_output_nodes\u001b[0m\u001b[0;34m-\u001b[0m\u001b[0;36m1\u001b[0m\u001b[0;34m)\u001b[0m\u001b[0;34m:\u001b[0m\u001b[0;34m]\u001b[0m\u001b[0;34m\u001b[0m\u001b[0;34m\u001b[0m\u001b[0m\n\u001b[1;32m    243\u001b[0m                 temp_loss = tf.compat.v1.losses.hinge_loss(\n",
      "\u001b[0;32m~/miniforge3/envs/tf_mac/lib/python3.8/site-packages/dice_ml/model_interfaces/keras_tensorflow_model.py\u001b[0m in \u001b[0;36mget_output\u001b[0;34m(self, input_tensor, training, transform_data)\u001b[0m\n\u001b[1;32m     36\u001b[0m \u001b[0;34m\u001b[0m\u001b[0m\n\u001b[1;32m     37\u001b[0m         \u001b[0;32mif\u001b[0m \u001b[0mself\u001b[0m\u001b[0;34m.\u001b[0m\u001b[0mbackend\u001b[0m \u001b[0;34m==\u001b[0m \u001b[0;34m'TF2'\u001b[0m\u001b[0;34m:\u001b[0m\u001b[0;34m\u001b[0m\u001b[0;34m\u001b[0m\u001b[0m\n\u001b[0;32m---> 38\u001b[0;31m             \u001b[0;32mreturn\u001b[0m \u001b[0mself\u001b[0m\u001b[0;34m.\u001b[0m\u001b[0mmodel\u001b[0m\u001b[0;34m(\u001b[0m\u001b[0minput_tensor\u001b[0m\u001b[0;34m,\u001b[0m \u001b[0mtraining\u001b[0m\u001b[0;34m=\u001b[0m\u001b[0mtraining\u001b[0m\u001b[0;34m)\u001b[0m\u001b[0;34m\u001b[0m\u001b[0;34m\u001b[0m\u001b[0m\n\u001b[0m\u001b[1;32m     39\u001b[0m         \u001b[0;32melse\u001b[0m\u001b[0;34m:\u001b[0m\u001b[0;34m\u001b[0m\u001b[0;34m\u001b[0m\u001b[0m\n\u001b[1;32m     40\u001b[0m             \u001b[0;32mreturn\u001b[0m \u001b[0mself\u001b[0m\u001b[0;34m.\u001b[0m\u001b[0mmodel\u001b[0m\u001b[0;34m(\u001b[0m\u001b[0minput_tensor\u001b[0m\u001b[0;34m)\u001b[0m\u001b[0;34m\u001b[0m\u001b[0;34m\u001b[0m\u001b[0m\n",
      "\u001b[0;32m~/miniforge3/envs/tf_mac/lib/python3.8/site-packages/tensorflow/python/keras/engine/base_layer.py\u001b[0m in \u001b[0;36m__call__\u001b[0;34m(self, *args, **kwargs)\u001b[0m\n\u001b[1;32m    979\u001b[0m     \u001b[0;31m# called multiple times.\u001b[0m\u001b[0;34m\u001b[0m\u001b[0;34m\u001b[0m\u001b[0;34m\u001b[0m\u001b[0m\n\u001b[1;32m    980\u001b[0m     \u001b[0;32mif\u001b[0m \u001b[0;32mnot\u001b[0m \u001b[0mcall_context\u001b[0m\u001b[0;34m.\u001b[0m\u001b[0min_call\u001b[0m\u001b[0;34m:\u001b[0m\u001b[0;34m\u001b[0m\u001b[0;34m\u001b[0m\u001b[0m\n\u001b[0;32m--> 981\u001b[0;31m       \u001b[0mself\u001b[0m\u001b[0;34m.\u001b[0m\u001b[0m_clear_losses\u001b[0m\u001b[0;34m(\u001b[0m\u001b[0;34m)\u001b[0m\u001b[0;34m\u001b[0m\u001b[0;34m\u001b[0m\u001b[0m\n\u001b[0m\u001b[1;32m    982\u001b[0m \u001b[0;34m\u001b[0m\u001b[0m\n\u001b[1;32m    983\u001b[0m     \u001b[0meager\u001b[0m \u001b[0;34m=\u001b[0m \u001b[0mcontext\u001b[0m\u001b[0;34m.\u001b[0m\u001b[0mexecuting_eagerly\u001b[0m\u001b[0;34m(\u001b[0m\u001b[0;34m)\u001b[0m\u001b[0;34m\u001b[0m\u001b[0;34m\u001b[0m\u001b[0m\n",
      "\u001b[0;32m~/miniforge3/envs/tf_mac/lib/python3.8/site-packages/tensorflow/python/keras/engine/base_layer.py\u001b[0m in \u001b[0;36m_clear_losses\u001b[0;34m(self)\u001b[0m\n\u001b[1;32m   1605\u001b[0m       \u001b[0mself\u001b[0m\u001b[0;34m.\u001b[0m\u001b[0m_thread_local\u001b[0m\u001b[0;34m.\u001b[0m\u001b[0m_eager_losses\u001b[0m \u001b[0;34m=\u001b[0m \u001b[0;34m[\u001b[0m\u001b[0;34m]\u001b[0m\u001b[0;34m\u001b[0m\u001b[0;34m\u001b[0m\u001b[0m\n\u001b[1;32m   1606\u001b[0m     \u001b[0;32melse\u001b[0m\u001b[0;34m:\u001b[0m\u001b[0;34m\u001b[0m\u001b[0;34m\u001b[0m\u001b[0m\n\u001b[0;32m-> 1607\u001b[0;31m       \u001b[0;32mfor\u001b[0m \u001b[0mlayer\u001b[0m \u001b[0;32min\u001b[0m \u001b[0mself\u001b[0m\u001b[0;34m.\u001b[0m\u001b[0m_flatten_layers\u001b[0m\u001b[0;34m(\u001b[0m\u001b[0;34m)\u001b[0m\u001b[0;34m:\u001b[0m\u001b[0;34m\u001b[0m\u001b[0;34m\u001b[0m\u001b[0m\n\u001b[0m\u001b[1;32m   1608\u001b[0m         \u001b[0mlayer\u001b[0m\u001b[0;34m.\u001b[0m\u001b[0m_thread_local\u001b[0m\u001b[0;34m.\u001b[0m\u001b[0m_eager_losses\u001b[0m \u001b[0;34m=\u001b[0m \u001b[0;34m[\u001b[0m\u001b[0;34m]\u001b[0m\u001b[0;34m\u001b[0m\u001b[0;34m\u001b[0m\u001b[0m\n\u001b[1;32m   1609\u001b[0m \u001b[0;34m\u001b[0m\u001b[0m\n",
      "\u001b[0;32m~/miniforge3/envs/tf_mac/lib/python3.8/site-packages/tensorflow/python/keras/engine/base_layer.py\u001b[0m in \u001b[0;36m_flatten_layers\u001b[0;34m(self, recursive, include_self)\u001b[0m\n\u001b[1;32m   2914\u001b[0m \u001b[0;34m\u001b[0m\u001b[0m\n\u001b[1;32m   2915\u001b[0m         \u001b[0mlayer_or_container_id\u001b[0m \u001b[0;34m=\u001b[0m \u001b[0mid\u001b[0m\u001b[0;34m(\u001b[0m\u001b[0mlayer_or_container\u001b[0m\u001b[0;34m)\u001b[0m\u001b[0;34m\u001b[0m\u001b[0;34m\u001b[0m\u001b[0m\n\u001b[0;32m-> 2916\u001b[0;31m         \u001b[0;32mif\u001b[0m \u001b[0mlayer_or_container_id\u001b[0m \u001b[0;32min\u001b[0m \u001b[0mseen_object_ids\u001b[0m\u001b[0;34m:\u001b[0m\u001b[0;34m\u001b[0m\u001b[0;34m\u001b[0m\u001b[0m\n\u001b[0m\u001b[1;32m   2917\u001b[0m           \u001b[0;32mcontinue\u001b[0m\u001b[0;34m\u001b[0m\u001b[0;34m\u001b[0m\u001b[0m\n\u001b[1;32m   2918\u001b[0m         \u001b[0mseen_object_ids\u001b[0m\u001b[0;34m.\u001b[0m\u001b[0madd\u001b[0m\u001b[0;34m(\u001b[0m\u001b[0mlayer_or_container_id\u001b[0m\u001b[0;34m)\u001b[0m\u001b[0;34m\u001b[0m\u001b[0;34m\u001b[0m\u001b[0m\n",
      "\u001b[0;31mKeyboardInterrupt\u001b[0m: "
     ]
    }
   ],
   "source": [
    "dice_exp = exp.generate_counterfactuals(\n",
    "        example_df,\n",
    "        total_CFs=1,\n",
    "        verbose=True,\n",
    "        min_iter=100,\n",
    "        max_iter=2000,\n",
    "        features_to_vary=[\n",
    "            'amount',\n",
    "            # *activity_feature_names.tolist(),\n",
    "            # *resource_feature_names.tolist(),\n",
    "        ],\n",
    "        # desired_class=\"opposite\",\n",
    "        # yloss_type= \"log_loss\" # log_loss, hinge_loss, l2_loss\n",
    "        # algorithm = \"DiverseCF\", # DiverseCF, RandomInitCF\n",
    "        # proximity_weight=0.5, # 0.5,\n",
    "        # diversity_weight=1,# 1.0,\n",
    "        # init_near_query_instance=True,\n",
    "        # tie_random = True,\n",
    "        # categorical_penalty = 1,\n",
    "        # learning_rate=0.0005,\n",
    "    )"
   ]
  },
  {
   "cell_type": "code",
   "execution_count": null,
   "metadata": {},
   "outputs": [],
   "source": [
    "dice_exp.visualize_as_dataframe(show_only_changes=True, display_sparse_df=False)"
   ]
  },
  {
   "cell_type": "code",
   "execution_count": null,
   "metadata": {},
   "outputs": [],
   "source": [
    "######## Print the example trace ########\n",
    "print_big(list(example_df.iloc[0]), \"Original\", num_marks = 50)"
   ]
  },
  {
   "cell_type": "code",
   "execution_count": null,
   "metadata": {},
   "outputs": [],
   "source": [
    "######## Print the counterfactual trace ########\n",
    "if len(dice_exp.final_cfs_df) > 0:\n",
    "    print_big(list(dice_exp.final_cfs_df.iloc[0][:-1]), \"Counterfactual\", num_marks=50)\n",
    "else:\n",
    "    print_big(\"Not found!\", \"Counterfactual\")"
   ]
  },
  {
   "cell_type": "code",
   "execution_count": null,
   "metadata": {},
   "outputs": [],
   "source": []
  },
  {
   "cell_type": "code",
   "execution_count": null,
   "metadata": {},
   "outputs": [],
   "source": []
  }
 ]
}