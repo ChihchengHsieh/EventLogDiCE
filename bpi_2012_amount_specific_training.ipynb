{
 "cells": [
  {
   "cell_type": "code",
   "execution_count": 1,
   "id": "4ee5af2d",
   "metadata": {},
   "outputs": [],
   "source": [
    "from dataset import BPI2012Dataset\n",
    "from parameters.dataset import BPI2012Parameters\n",
    "from utils.save import get_json_dict\n",
    "from parameters.training import TrainingParameters, LossParameters, OptimizerParameters\n",
    "from parameters.model import LSTMPredNextAmountSpecificModelParameters\n",
    "from model import LSTMPredNextAmountSpecificModel\n",
    "from controller import TrainingController"
   ]
  },
  {
   "cell_type": "code",
   "execution_count": 2,
   "id": "d7911c87",
   "metadata": {},
   "outputs": [],
   "source": [
    "bpi_2012_parms = BPI2012Parameters()"
   ]
  },
  {
   "cell_type": "code",
   "execution_count": 3,
   "id": "60f12aee",
   "metadata": {},
   "outputs": [
    {
     "output_type": "execute_result",
     "data": {
      "text/plain": [
       "{'file_path': './data/event_logs/BPI_Challenge_2012.xes',\n",
       " 'preprocessed_folder_path': './data/preprocessed/BPI_Challenge_2012_with_resource',\n",
       " 'include_types': ['A', 'O', 'W'],\n",
       " 'include_complete_only': True}"
      ]
     },
     "metadata": {},
     "execution_count": 3
    }
   ],
   "source": [
    "get_json_dict(bpi_2012_parms)"
   ]
  },
  {
   "cell_type": "code",
   "execution_count": 4,
   "id": "237655d5",
   "metadata": {},
   "outputs": [
    {
     "output_type": "stream",
     "name": "stdout",
     "text": [
      "\n========================================\n| Preprocessed data loaded successfully: ./data/preprocessed/BPI_Challenge_2012_with_resource/AOW_CompleteOnly \n========================================\n"
     ]
    }
   ],
   "source": [
    "dataset = BPI2012Dataset(bpi_2012_parms)"
   ]
  },
  {
   "cell_type": "code",
   "execution_count": 5,
   "id": "f47471ae",
   "metadata": {},
   "outputs": [],
   "source": [
    "model_params = LSTMPredNextAmountSpecificModelParameters()"
   ]
  },
  {
   "cell_type": "code",
   "execution_count": 6,
   "id": "78d54543",
   "metadata": {},
   "outputs": [
    {
     "output_type": "execute_result",
     "data": {
      "text/plain": [
       "{'activity_embedding_dim': 32,\n",
       " 'resource_embedding_dim': 128,\n",
       " 'lstm_hidden': 64,\n",
       " 'dense_dim': 64,\n",
       " 'dropout': 0.1}"
      ]
     },
     "metadata": {},
     "execution_count": 6
    }
   ],
   "source": [
    "get_json_dict(model_params)"
   ]
  },
  {
   "cell_type": "code",
   "execution_count": 7,
   "id": "845823b7",
   "metadata": {},
   "outputs": [],
   "source": [
    "model = LSTMPredNextAmountSpecificModel(\n",
    "    activity_vocab = dataset.activity_vocab,\n",
    "    resource_vocab = dataset.resource_vocab,\n",
    "    parameters = model_params\n",
    ")"
   ]
  },
  {
   "cell_type": "code",
   "execution_count": 8,
   "id": "53664c2e",
   "metadata": {},
   "outputs": [],
   "source": [
    "train_params = TrainingParameters(\n",
    "    stop_epoch=20,\n",
    ")"
   ]
  },
  {
   "cell_type": "code",
   "execution_count": 9,
   "id": "23e75ede",
   "metadata": {},
   "outputs": [
    {
     "output_type": "execute_result",
     "data": {
      "text/plain": [
       "{'stop_epoch': 20,\n",
       " 'batch_size': 128,\n",
       " 'verbose_freq': 250,\n",
       " 'run_validation_freq': 80,\n",
       " 'train_test_split_portion': [0.8, 0.1],\n",
       " 'random_seed': 12345}"
      ]
     },
     "metadata": {},
     "execution_count": 9
    }
   ],
   "source": [
    "get_json_dict(train_params)"
   ]
  },
  {
   "cell_type": "code",
   "execution_count": 10,
   "id": "5ac86e22",
   "metadata": {},
   "outputs": [],
   "source": [
    "loss_params = LossParameters()"
   ]
  },
  {
   "cell_type": "code",
   "execution_count": 11,
   "id": "1e3ae48c",
   "metadata": {},
   "outputs": [
    {
     "output_type": "execute_result",
     "data": {
      "text/plain": [
       "{'loss': 'CrossEntropy'}"
      ]
     },
     "metadata": {},
     "execution_count": 11
    }
   ],
   "source": [
    "get_json_dict(loss_params)"
   ]
  },
  {
   "cell_type": "code",
   "execution_count": 12,
   "id": "19671c4c",
   "metadata": {},
   "outputs": [],
   "source": [
    "optim_params = OptimizerParameters()"
   ]
  },
  {
   "cell_type": "code",
   "execution_count": 13,
   "id": "a3ac0004",
   "metadata": {},
   "outputs": [
    {
     "output_type": "execute_result",
     "data": {
      "text/plain": [
       "{'optimizer': 'Adam',\n",
       " 'learning_rate': 0.005,\n",
       " 'l2': 1e-10,\n",
       " 'lr_scheduler': 'ExponentialDecay',\n",
       " 'lr_step_scheduler_step': 800,\n",
       " 'lr_setp_scheduler_gamma': 0.8,\n",
       " 'lr_exp_decay_scheduler_step': 1000,\n",
       " 'lr_exp_decay_scheduler_rate': 0.96,\n",
       " 'lr_exp_decay_scheduler_staircase': True,\n",
       " 'SGD_momentum': 0.9}"
      ]
     },
     "metadata": {},
     "execution_count": 13
    }
   ],
   "source": [
    "get_json_dict(optim_params)"
   ]
  },
  {
   "cell_type": "code",
   "execution_count": 14,
   "id": "51d8e392",
   "metadata": {},
   "outputs": [
    {
     "output_type": "stream",
     "name": "stdout",
     "text": [
      "\n========================================\n| Running on /job:localhost/replica:0/task:0/device:CPU:0  \n========================================\n"
     ]
    }
   ],
   "source": [
    "controller = TrainingController(\n",
    "    dataset,\n",
    "    model,\n",
    "    train_params,\n",
    "    optim_params,\n",
    "    loss_params,\n",
    ")"
   ]
  },
  {
   "cell_type": "code",
   "execution_count": 15,
   "metadata": {},
   "outputs": [
    {
     "output_type": "stream",
     "name": "stdout",
     "text": [
      "Model: \"LSTMPredNextAmountSpecificModel\"\n_________________________________________________________________\nLayer (type)                 Output Shape              Param #   \n=================================================================\nembedding (Embedding)        multiple                  832       \n_________________________________________________________________\nembedding_1 (Embedding)      multiple                  9216      \n_________________________________________________________________\nlstm (LSTM)                  multiple                  24832     \n_________________________________________________________________\nlstm_1 (LSTM)                multiple                  33024     \n_________________________________________________________________\nlstm_2 (LSTM)                multiple                  49408     \n_________________________________________________________________\nlstm_3 (LSTM)                multiple                  33024     \n_________________________________________________________________\nsequential (Sequential)      (1, 64)                   4544      \n_________________________________________________________________\nsequential_1 (Sequential)    (1, 1, 26)                15066     \n=================================================================\nTotal params: 169,946\nTrainable params: 169,306\nNon-trainable params: 640\n_________________________________________________________________\n"
     ]
    }
   ],
   "source": [
    "controller.model_info()"
   ]
  },
  {
   "cell_type": "code",
   "execution_count": 16,
   "id": "3b7b98db",
   "metadata": {},
   "outputs": [
    {
     "output_type": "stream",
     "name": "stdout",
     "text": [
      "\n",
      "========================================\n",
      "| Training records in logs/gradient_tape/20210701-202017 \n",
      "========================================\n",
      "\n",
      "========================================\n",
      "| Total epochs: 20 \n",
      "========================================\n",
      "\n",
      "========================================\n",
      "| Total steps: 1640 \n",
      "========================================\n",
      "\n",
      "========================================\n",
      "| Start epoch 0 \n",
      "========================================\n",
      "\n",
      "========================================\n",
      "| Evaluation result | Loss [0.7198] | Accuracy [0.0730]  \n",
      "========================================\n",
      "\n",
      "========================================\n",
      "| Start epoch 1 \n",
      "========================================\n",
      "\n",
      "========================================\n",
      "| Evaluation result | Loss [0.6927] | Accuracy [0.0829]  \n",
      "========================================\n",
      "\n",
      "========================================\n",
      "| Start epoch 2 \n",
      "========================================\n",
      "\n",
      "========================================\n",
      "| Evaluation result | Loss [0.4801] | Accuracy [0.3648]  \n",
      "========================================\n",
      "\n",
      "========================================\n",
      "| Start epoch 3 \n",
      "========================================\n",
      "\n",
      "========================================\n",
      "| Evaluation result | Loss [0.2513] | Accuracy [0.5823]  \n",
      "========================================\n",
      "\n",
      "========================================\n",
      "| Start epoch 4 \n",
      "========================================\n",
      "\n",
      "========================================\n",
      "| Evaluation result | Loss [0.1442] | Accuracy [0.8147]  \n",
      "========================================\n",
      "\n",
      "========================================\n",
      "| Start epoch 5 \n",
      "========================================\n",
      "\n",
      "========================================\n",
      "| Evaluation result | Loss [0.1249] | Accuracy [0.8228]  \n",
      "========================================\n",
      "\n",
      "========================================\n",
      "| Start epoch 6 \n",
      "========================================\n",
      "\n",
      "========================================\n",
      "| Evaluation result | Loss [0.1223] | Accuracy [0.8241]  \n",
      "========================================\n",
      "\n",
      "========================================\n",
      "| Start epoch 7 \n",
      "========================================\n",
      "\n",
      "========================================\n",
      "| Evaluation result | Loss [0.1212] | Accuracy [0.8250]  \n",
      "========================================\n",
      "\n",
      "========================================\n",
      "| Start epoch 8 \n",
      "========================================\n",
      "\n",
      "========================================\n",
      "| Evaluation result | Loss [0.1218] | Accuracy [0.8231]  \n",
      "========================================\n",
      "\n",
      "========================================\n",
      "| Start epoch 9 \n",
      "========================================\n",
      "\n",
      "========================================\n",
      "| Evaluation result | Loss [0.1201] | Accuracy [0.8240]  \n",
      "========================================\n",
      "\n",
      "========================================\n",
      "| Start epoch 10 \n",
      "========================================\n",
      "\n",
      "========================================\n",
      "| Evaluation result | Loss [0.1206] | Accuracy [0.8237]  \n",
      "========================================\n",
      "\n",
      "========================================\n",
      "| Start epoch 11 \n",
      "========================================\n",
      "\n",
      "========================================\n",
      "| Evaluation result | Loss [0.1212] | Accuracy [0.8245]  \n",
      "========================================\n",
      "\n",
      "========================================\n",
      "| Start epoch 12 \n",
      "========================================\n",
      "\n",
      "========================================\n",
      "| Evaluation result | Loss [0.1217] | Accuracy [0.8229]  \n",
      "========================================\n",
      "\n",
      "========================================\n",
      "| Start epoch 13 \n",
      "========================================\n",
      "\n",
      "========================================\n",
      "| Evaluation result | Loss [0.1219] | Accuracy [0.8219]  \n",
      "========================================\n",
      "\n",
      "========================================\n",
      "| Start epoch 14 \n",
      "========================================\n",
      "\n",
      "========================================\n",
      "| Evaluation result | Loss [0.1224] | Accuracy [0.8225]  \n",
      "========================================\n",
      "\n",
      "========================================\n",
      "| Start epoch 15 \n",
      "========================================\n",
      "\n",
      "========================================\n",
      "| Evaluation result | Loss [0.1221] | Accuracy [0.8223]  \n",
      "========================================\n",
      "\n",
      "========================================\n",
      "| Start epoch 16 \n",
      "========================================\n",
      "\n",
      "========================================\n",
      "| Evaluation result | Loss [0.1232] | Accuracy [0.8201]  \n",
      "========================================\n",
      "\n",
      "========================================\n",
      "| Start epoch 17 \n",
      "========================================\n",
      "\n",
      "========================================\n",
      "| Evaluation result | Loss [0.1238] | Accuracy [0.8187]  \n",
      "========================================\n",
      "\n",
      "========================================\n",
      "| Start epoch 18 \n",
      "========================================\n",
      "\n",
      "========================================\n",
      "| Evaluation result | Loss [0.1260] | Accuracy [0.8193]  \n",
      "========================================\n",
      "\n",
      "========================================\n",
      "| Start epoch 19 \n",
      "========================================\n",
      "\n",
      "========================================\n",
      "| Evaluation result | Loss [0.1303] | Accuracy [0.7965]  \n",
      "========================================\n",
      "\n",
      "========================================\n",
      "| Performing Testing ... \n",
      "========================================\n",
      "\n",
      "========================================\n",
      "| Evaluation result | Loss [0.1209] | Accuracy [0.8175]  \n",
      "========================================\n"
     ]
    }
   ],
   "source": [
    "# tensorboard --logdir logs/gradient_tape --host localhost --port 8088\n",
    "test_accuracy = controller.train()"
   ]
  },
  {
   "cell_type": "code",
   "execution_count": 17,
   "metadata": {},
   "outputs": [],
   "source": [
    "# test_accuracy = controller.perform_eval_on_testset()"
   ]
  },
  {
   "cell_type": "code",
   "execution_count": 18,
   "id": "2f7636c8",
   "metadata": {},
   "outputs": [],
   "source": [
    "save_folder_path = model.get_folder_path(\"bpi_2012_amount_specific_training.ipynb\", test_accuracy , dataset.info_str())"
   ]
  },
  {
   "cell_type": "code",
   "execution_count": 19,
   "id": "4ea831cb",
   "metadata": {
    "scrolled": true
   },
   "outputs": [
    {
     "output_type": "stream",
     "name": "stdout",
     "text": [
      "\n",
      "========================================\n",
      "| Parameters saved successfully to: ./SavedModels/0.8175_LSTMPredNextAmountSpecificModel_AOW_CompleteOnly_2021-07-01 20:45:16.353467  \n",
      "========================================\n",
      "\n",
      "========================================\n",
      "| Vocabs saved successfully to: ./SavedModels/0.8175_LSTMPredNextAmountSpecificModel_AOW_CompleteOnly_2021-07-01 20:45:16.353467  \n",
      "========================================\n",
      "\n",
      "========================================\n",
      "| Model saved successfully to: ./SavedModels/0.8175_LSTMPredNextAmountSpecificModel_AOW_CompleteOnly_2021-07-01 20:45:16.353467  \n",
      "========================================\n"
     ]
    }
   ],
   "source": [
    "controller.save_parameters(save_folder_path)\n",
    "model.save(save_folder_path)"
   ]
  },
  {
   "cell_type": "code",
   "execution_count": 20,
   "id": "def3c421",
   "metadata": {},
   "outputs": [],
   "source": [
    "# controller.load_parameters(savet_folder_path)\n",
    "# model.load(save_folder_path)"
   ]
  },
  {
   "cell_type": "code",
   "execution_count": null,
   "id": "4543973c",
   "metadata": {},
   "outputs": [],
   "source": []
  }
 ],
 "metadata": {
  "kernelspec": {
   "name": "python3",
   "display_name": "Python 3.8.10 64-bit ('tf_mac': conda)"
  },
  "language_info": {
   "codemirror_mode": {
    "name": "ipython",
    "version": 3
   },
   "file_extension": ".py",
   "mimetype": "text/x-python",
   "name": "python",
   "nbconvert_exporter": "python",
   "pygments_lexer": "ipython3",
   "version": "3.8.10"
  },
  "interpreter": {
   "hash": "5c622353f32ef24c8d83e5c3e334107c074e82d7c3e8ca52c56b9fc900ce33e6"
  }
 },
 "nbformat": 4,
 "nbformat_minor": 5
}