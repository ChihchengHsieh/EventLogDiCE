{
 "cells": [
  {
   "cell_type": "code",
   "execution_count": 1,
   "id": "a796c1d2",
   "metadata": {},
   "outputs": [],
   "source": [
    "from dataset import BPI2012ScenarioDataset\n",
    "from parameters.dataset import BPI2012ScenarioParameters\n",
    "from utils.save import get_json_dict\n",
    "from parameters.training import TrainingParameters, LossParameters, OptimizerParameters\n",
    "from parameters.model import LSTMScenarioCfWithResourceModelParameters\n",
    "from model import LSTMScenarioCfWithResourceModel\n",
    "from controller import TrainingController\n",
    "from parameters.enum import SelectableLoss "
   ]
  },
  {
   "cell_type": "code",
   "execution_count": 2,
   "id": "0a236dcd",
   "metadata": {},
   "outputs": [],
   "source": [
    "bpi_2012_scenario_parms = BPI2012ScenarioParameters()"
   ]
  },
  {
   "cell_type": "code",
   "execution_count": 3,
   "id": "d8bd8a07",
   "metadata": {},
   "outputs": [
    {
     "output_type": "execute_result",
     "data": {
      "text/plain": [
       "{'file_path': './data/event_logs/BPI_Challenge_2012.xes',\n",
       " 'preprocessed_folder_path': './data/preprocessed/BPI_Challenge_2012_scenario',\n",
       " 'include_types': ['A', 'O', 'W'],\n",
       " 'include_complete_only': True,\n",
       " 'sample_times': 20}"
      ]
     },
     "metadata": {},
     "execution_count": 3
    }
   ],
   "source": [
    "get_json_dict(bpi_2012_scenario_parms)"
   ]
  },
  {
   "cell_type": "code",
   "execution_count": 4,
   "id": "df693d06",
   "metadata": {},
   "outputs": [
    {
     "output_type": "stream",
     "name": "stdout",
     "text": [
      "\n========================================\n| Preprocessed data loaded successfully: ./data/preprocessed/BPI_Challenge_2012_scenario/AOW_CompleteOnly_20_times \n========================================\n"
     ]
    }
   ],
   "source": [
    "dataset = BPI2012ScenarioDataset(bpi_2012_scenario_parms)"
   ]
  },
  {
   "cell_type": "code",
   "execution_count": 5,
   "id": "6380d1b7",
   "metadata": {},
   "outputs": [],
   "source": [
    "model_params = LSTMScenarioCfWithResourceModelParameters()"
   ]
  },
  {
   "cell_type": "code",
   "execution_count": 6,
   "id": "a01e69b6",
   "metadata": {},
   "outputs": [
    {
     "output_type": "execute_result",
     "data": {
      "text/plain": [
       "{'activity_embedding_dim': 32,\n",
       " 'resource_embedding_dim': 128,\n",
       " 'lstm_hidden': 64,\n",
       " 'dense_dim': 64,\n",
       " 'dropout': 0.1}"
      ]
     },
     "metadata": {},
     "execution_count": 6
    }
   ],
   "source": [
    "get_json_dict(model_params)"
   ]
  },
  {
   "cell_type": "code",
   "execution_count": 7,
   "id": "d7015a6a",
   "metadata": {},
   "outputs": [],
   "source": [
    "model = LSTMScenarioCfWithResourceModel(\n",
    "    activity_vocab = dataset.activity_vocab,\n",
    "    resource_vocab = dataset.resource_vocab,\n",
    "    parameters = model_params\n",
    ")"
   ]
  },
  {
   "cell_type": "code",
   "execution_count": 8,
   "id": "090cd815",
   "metadata": {},
   "outputs": [],
   "source": [
    "train_params = TrainingParameters(\n",
    "    stop_epoch=1,\n",
    ")"
   ]
  },
  {
   "cell_type": "code",
   "execution_count": 9,
   "id": "f9887020",
   "metadata": {},
   "outputs": [
    {
     "output_type": "execute_result",
     "data": {
      "text/plain": [
       "{'stop_epoch': 1,\n",
       " 'batch_size': 128,\n",
       " 'verbose_freq': 250,\n",
       " 'run_validation_freq': 80,\n",
       " 'train_test_split_portion': [0.8, 0.1],\n",
       " 'random_seed': 12345}"
      ]
     },
     "metadata": {},
     "execution_count": 9
    }
   ],
   "source": [
    "get_json_dict(train_params)"
   ]
  },
  {
   "cell_type": "code",
   "execution_count": 10,
   "id": "42d02bf7",
   "metadata": {},
   "outputs": [],
   "source": [
    "loss_params = LossParameters(\n",
    "    loss = SelectableLoss.BCE\n",
    ")"
   ]
  },
  {
   "cell_type": "code",
   "execution_count": 11,
   "id": "aba331c0",
   "metadata": {},
   "outputs": [
    {
     "output_type": "execute_result",
     "data": {
      "text/plain": [
       "{'loss': 'BCE'}"
      ]
     },
     "metadata": {},
     "execution_count": 11
    }
   ],
   "source": [
    "get_json_dict(loss_params)"
   ]
  },
  {
   "cell_type": "code",
   "execution_count": 12,
   "id": "d49ef567",
   "metadata": {},
   "outputs": [],
   "source": [
    "optim_params = OptimizerParameters()"
   ]
  },
  {
   "cell_type": "code",
   "execution_count": 13,
   "id": "1f11d848",
   "metadata": {},
   "outputs": [
    {
     "output_type": "execute_result",
     "data": {
      "text/plain": [
       "{'optimizer': 'Adam',\n",
       " 'learning_rate': 0.005,\n",
       " 'l2': 1e-10,\n",
       " 'lr_scheduler': 'ExponentialDecay',\n",
       " 'lr_step_scheduler_step': 800,\n",
       " 'lr_setp_scheduler_gamma': 0.8,\n",
       " 'lr_exp_decay_scheduler_step': 1000,\n",
       " 'lr_exp_decay_scheduler_rate': 0.96,\n",
       " 'lr_exp_decay_scheduler_staircase': True,\n",
       " 'SGD_momentum': 0.9}"
      ]
     },
     "metadata": {},
     "execution_count": 13
    }
   ],
   "source": [
    "get_json_dict(optim_params)"
   ]
  },
  {
   "cell_type": "code",
   "execution_count": 14,
   "id": "084618f5",
   "metadata": {},
   "outputs": [
    {
     "output_type": "stream",
     "name": "stdout",
     "text": [
      "\n========================================\n| Running on /job:localhost/replica:0/task:0/device:CPU:0  \n========================================\n"
     ]
    }
   ],
   "source": [
    "controller = TrainingController(\n",
    "    dataset,\n",
    "    model,\n",
    "    train_params,\n",
    "    optim_params,\n",
    "    loss_params,\n",
    ")"
   ]
  },
  {
   "cell_type": "code",
   "execution_count": 15,
   "metadata": {},
   "outputs": [
    {
     "output_type": "stream",
     "name": "stdout",
     "text": [
      "Model: \"LSTMScenarioCfWithResourceModel\"\n_________________________________________________________________\nLayer (type)                 Output Shape              Param #   \n=================================================================\nembedding (Embedding)        multiple                  832       \n_________________________________________________________________\nembedding_1 (Embedding)      multiple                  9216      \n_________________________________________________________________\nlstm (LSTM)                  multiple                  24832     \n_________________________________________________________________\nlstm_1 (LSTM)                multiple                  33024     \n_________________________________________________________________\nlstm_2 (LSTM)                multiple                  49408     \n_________________________________________________________________\nlstm_3 (LSTM)                multiple                  33024     \n_________________________________________________________________\nsequential (Sequential)      (1, 1, 1)                 9157      \n=================================================================\nTotal params: 159,493\nTrainable params: 159,107\nNon-trainable params: 386\n_________________________________________________________________\n"
     ]
    }
   ],
   "source": [
    "controller.model_info()"
   ]
  },
  {
   "cell_type": "code",
   "execution_count": 16,
   "id": "d6014d6d",
   "metadata": {},
   "outputs": [
    {
     "output_type": "stream",
     "name": "stdout",
     "text": [
      "\n",
      "========================================\n",
      "| Training records in logs/gradient_tape/20210701-204856 \n",
      "========================================\n",
      "\n",
      "========================================\n",
      "| Total epochs: 1 \n",
      "========================================\n",
      "\n",
      "========================================\n",
      "| Total steps: 3272 \n",
      "========================================\n",
      "\n",
      "========================================\n",
      "| Start epoch 0 \n",
      "========================================\n",
      "\n",
      "========================================\n",
      "| Evaluation result | Loss [0.2815] | Accuracy [0.8672]  \n",
      "========================================\n",
      "\n",
      "========================================\n",
      "| Evaluation result | Loss [0.2952] | Accuracy [0.8748]  \n",
      "========================================\n",
      "\n",
      "========================================\n",
      "| Evaluation result | Loss [0.1614] | Accuracy [0.9236]  \n",
      "========================================\n",
      "\n",
      "========================================\n",
      "| Evaluation result | Loss [0.0904] | Accuracy [0.9587]  \n",
      "========================================\n",
      "\n",
      "========================================\n",
      "| Evaluation result | Loss [0.0535] | Accuracy [0.9615]  \n",
      "========================================\n",
      "\n",
      "========================================\n",
      "| Evaluation result | Loss [0.0528] | Accuracy [0.9614]  \n",
      "========================================\n",
      "\n",
      "========================================\n",
      "| Evaluation result | Loss [0.0446] | Accuracy [0.9821]  \n",
      "========================================\n",
      "\n",
      "========================================\n",
      "| Evaluation result | Loss [0.0354] | Accuracy [0.9858]  \n",
      "========================================\n",
      "\n",
      "========================================\n",
      "| Evaluation result | Loss [0.0343] | Accuracy [0.9854]  \n",
      "========================================\n",
      "\n",
      "========================================\n",
      "| Evaluation result | Loss [0.0335] | Accuracy [0.9851]  \n",
      "========================================\n",
      "\n",
      "========================================\n",
      "| Evaluation result | Loss [0.0335] | Accuracy [0.9852]  \n",
      "========================================\n",
      "\n",
      "========================================\n",
      "| Evaluation result | Loss [0.0334] | Accuracy [0.9851]  \n",
      "========================================\n",
      "\n",
      "========================================\n",
      "| Evaluation result | Loss [0.0337] | Accuracy [0.9850]  \n",
      "========================================\n",
      "\n",
      "========================================\n",
      "| Evaluation result | Loss [0.0329] | Accuracy [0.9856]  \n",
      "========================================\n",
      "\n",
      "========================================\n",
      "| Evaluation result | Loss [0.0328] | Accuracy [0.9851]  \n",
      "========================================\n",
      "\n",
      "========================================\n",
      "| Evaluation result | Loss [0.0327] | Accuracy [0.9856]  \n",
      "========================================\n",
      "\n",
      "========================================\n",
      "| Evaluation result | Loss [0.0327] | Accuracy [0.9856]  \n",
      "========================================\n",
      "\n",
      "========================================\n",
      "| Evaluation result | Loss [0.0327] | Accuracy [0.9859]  \n",
      "========================================\n",
      "\n",
      "========================================\n",
      "| Evaluation result | Loss [0.0328] | Accuracy [0.9854]  \n",
      "========================================\n",
      "\n",
      "========================================\n",
      "| Evaluation result | Loss [0.0327] | Accuracy [0.9857]  \n",
      "========================================\n",
      "\n",
      "========================================\n",
      "| Evaluation result | Loss [0.0328] | Accuracy [0.9851]  \n",
      "========================================\n",
      "\n",
      "========================================\n",
      "| Evaluation result | Loss [0.0328] | Accuracy [0.9852]  \n",
      "========================================\n",
      "\n",
      "========================================\n",
      "| Evaluation result | Loss [0.0325] | Accuracy [0.9857]  \n",
      "========================================\n",
      "\n",
      "========================================\n",
      "| Evaluation result | Loss [0.0327] | Accuracy [0.9853]  \n",
      "========================================\n",
      "\n",
      "========================================\n",
      "| Evaluation result | Loss [0.0327] | Accuracy [0.9852]  \n",
      "========================================\n",
      "\n",
      "========================================\n",
      "| Evaluation result | Loss [0.0325] | Accuracy [0.9852]  \n",
      "========================================\n",
      "\n",
      "========================================\n",
      "| Evaluation result | Loss [0.0325] | Accuracy [0.9859]  \n",
      "========================================\n",
      "\n",
      "========================================\n",
      "| Evaluation result | Loss [0.0325] | Accuracy [0.9858]  \n",
      "========================================\n",
      "\n",
      "========================================\n",
      "| Evaluation result | Loss [0.0328] | Accuracy [0.9857]  \n",
      "========================================\n",
      "\n",
      "========================================\n",
      "| Evaluation result | Loss [0.0328] | Accuracy [0.9855]  \n",
      "========================================\n",
      "\n",
      "========================================\n",
      "| Evaluation result | Loss [0.0327] | Accuracy [0.9856]  \n",
      "========================================\n",
      "\n",
      "========================================\n",
      "| Evaluation result | Loss [0.0325] | Accuracy [0.9852]  \n",
      "========================================\n",
      "\n",
      "========================================\n",
      "| Evaluation result | Loss [0.0324] | Accuracy [0.9858]  \n",
      "========================================\n",
      "\n",
      "========================================\n",
      "| Evaluation result | Loss [0.0325] | Accuracy [0.9856]  \n",
      "========================================\n",
      "\n",
      "========================================\n",
      "| Evaluation result | Loss [0.0325] | Accuracy [0.9856]  \n",
      "========================================\n",
      "\n",
      "========================================\n",
      "| Evaluation result | Loss [0.0327] | Accuracy [0.9856]  \n",
      "========================================\n",
      "\n",
      "========================================\n",
      "| Evaluation result | Loss [0.0325] | Accuracy [0.9859]  \n",
      "========================================\n",
      "\n",
      "========================================\n",
      "| Evaluation result | Loss [0.0327] | Accuracy [0.9856]  \n",
      "========================================\n",
      "\n",
      "========================================\n",
      "| Evaluation result | Loss [0.0324] | Accuracy [0.9854]  \n",
      "========================================\n",
      "\n",
      "========================================\n",
      "| Evaluation result | Loss [0.0325] | Accuracy [0.9856]  \n",
      "========================================\n",
      "\n",
      "========================================\n",
      "| Performing Testing ... \n",
      "========================================\n",
      "\n",
      "========================================\n",
      "| Evaluation result | Loss [0.0326] | Accuracy [0.9857]  \n",
      "========================================\n"
     ]
    }
   ],
   "source": [
    "test_accuracy = controller.train()"
   ]
  },
  {
   "cell_type": "code",
   "execution_count": 17,
   "metadata": {},
   "outputs": [],
   "source": [
    "# test_accuracy = controller.perform_eval_on_testset()"
   ]
  },
  {
   "cell_type": "code",
   "execution_count": 18,
   "id": "25ee8f69",
   "metadata": {},
   "outputs": [],
   "source": [
    "save_folder_path = model.get_folder_path(\"bpi2012_scenario_training.ipynb\", test_accuracy, dataset.info_str())"
   ]
  },
  {
   "cell_type": "code",
   "execution_count": 19,
   "metadata": {},
   "outputs": [
    {
     "output_type": "stream",
     "name": "stdout",
     "text": [
      "\n",
      "========================================\n",
      "| Parameters saved successfully to: ./SavedModels/0.9857_LSTMScenarioCfWithResourceModel_AOW_CompleteOnly_20_times_2021-07-01 23:50:36.530541  \n",
      "========================================\n",
      "\n",
      "========================================\n",
      "| Vocabs saved successfully to: ./SavedModels/0.9857_LSTMScenarioCfWithResourceModel_AOW_CompleteOnly_20_times_2021-07-01 23:50:36.530541  \n",
      "========================================\n",
      "\n",
      "========================================\n",
      "| Model saved successfully to: ./SavedModels/0.9857_LSTMScenarioCfWithResourceModel_AOW_CompleteOnly_20_times_2021-07-01 23:50:36.530541  \n",
      "========================================\n"
     ]
    }
   ],
   "source": [
    "controller.save_parameters(save_folder_path)\n",
    "model.save(save_folder_path)"
   ]
  },
  {
   "cell_type": "code",
   "execution_count": 20,
   "id": "a8ddc014",
   "metadata": {},
   "outputs": [],
   "source": [
    "# controller.load_parameters(save_folder_path)\n",
    "# model.load(save_folder_path)"
   ]
  },
  {
   "cell_type": "code",
   "execution_count": null,
   "metadata": {},
   "outputs": [],
   "source": []
  }
 ],
 "metadata": {
  "kernelspec": {
   "name": "python3",
   "display_name": "Python 3.8.10 64-bit ('tf_mac': conda)"
  },
  "language_info": {
   "codemirror_mode": {
    "name": "ipython",
    "version": 3
   },
   "file_extension": ".py",
   "mimetype": "text/x-python",
   "name": "python",
   "nbconvert_exporter": "python",
   "pygments_lexer": "ipython3",
   "version": "3.8.10"
  },
  "interpreter": {
   "hash": "5c622353f32ef24c8d83e5c3e334107c074e82d7c3e8ca52c56b9fc900ce33e6"
  }
 },
 "nbformat": 4,
 "nbformat_minor": 5
}