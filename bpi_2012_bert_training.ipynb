{
 "metadata": {
  "language_info": {
   "codemirror_mode": {
    "name": "ipython",
    "version": 3
   },
   "file_extension": ".py",
   "mimetype": "text/x-python",
   "name": "python",
   "nbconvert_exporter": "python",
   "pygments_lexer": "ipython3",
   "version": "3.8.10"
  },
  "orig_nbformat": 4,
  "kernelspec": {
   "name": "python3",
   "display_name": "Python 3.8.10 64-bit ('tf_mac': conda)"
  },
  "interpreter": {
   "hash": "5c622353f32ef24c8d83e5c3e334107c074e82d7c3e8ca52c56b9fc900ce33e6"
  }
 },
 "nbformat": 4,
 "nbformat_minor": 2,
 "cells": [
  {
   "cell_type": "code",
   "execution_count": 1,
   "metadata": {},
   "outputs": [],
   "source": [
    "from dataset import BPI2012Dataset\n",
    "from parameters.dataset import BPI2012Parameters\n",
    "from utils.save import get_json_dict\n",
    "from parameters.training import TrainingParameters, LossParameters, OptimizerParameters\n",
    "from parameters.model import PredNextBERTParameters\n",
    "from model import PredNextBERT\n",
    "from controller import TrainingController"
   ]
  },
  {
   "cell_type": "code",
   "execution_count": 2,
   "metadata": {},
   "outputs": [],
   "source": [
    "bpi_2012_parms = BPI2012Parameters()"
   ]
  },
  {
   "cell_type": "code",
   "execution_count": 3,
   "metadata": {},
   "outputs": [
    {
     "output_type": "execute_result",
     "data": {
      "text/plain": [
       "{'file_path': './data/event_logs/BPI_Challenge_2012.xes',\n",
       " 'preprocessed_folder_path': './data/preprocessed/BPI_Challenge_2012_with_resource',\n",
       " 'include_types': ['A', 'O', 'W'],\n",
       " 'include_complete_only': True}"
      ]
     },
     "metadata": {},
     "execution_count": 3
    }
   ],
   "source": [
    "get_json_dict(bpi_2012_parms)"
   ]
  },
  {
   "cell_type": "code",
   "execution_count": 4,
   "metadata": {},
   "outputs": [
    {
     "output_type": "stream",
     "name": "stdout",
     "text": [
      "\n========================================\n| Preprocessed data loaded successfully: ./data/preprocessed/BPI_Challenge_2012_with_resource/AOW_CompleteOnly \n========================================\n"
     ]
    }
   ],
   "source": [
    "dataset = BPI2012Dataset(bpi_2012_parms)"
   ]
  },
  {
   "cell_type": "code",
   "execution_count": 5,
   "metadata": {},
   "outputs": [],
   "source": [
    "model_params = PredNextBERTParameters()"
   ]
  },
  {
   "cell_type": "code",
   "execution_count": 6,
   "metadata": {},
   "outputs": [
    {
     "output_type": "execute_result",
     "data": {
      "text/plain": [
       "{'num_layers': 4,\n",
       " 'model_dim': 32,\n",
       " 'feed_forward_dim': 64,\n",
       " 'num_heads': 4,\n",
       " 'dropout_rate': 0.1}"
      ]
     },
     "metadata": {},
     "execution_count": 6
    }
   ],
   "source": [
    "get_json_dict(model_params)"
   ]
  },
  {
   "cell_type": "code",
   "execution_count": 7,
   "metadata": {},
   "outputs": [],
   "source": [
    "model = PredNextBERT(\n",
    "    activity_vocab = dataset.activity_vocab,\n",
    "    parameters = model_params\n",
    ")"
   ]
  },
  {
   "cell_type": "code",
   "execution_count": 8,
   "metadata": {},
   "outputs": [],
   "source": [
    "train_params = TrainingParameters(\n",
    "    stop_epoch=50,\n",
    ")"
   ]
  },
  {
   "cell_type": "code",
   "execution_count": 9,
   "metadata": {},
   "outputs": [
    {
     "output_type": "execute_result",
     "data": {
      "text/plain": [
       "{'stop_epoch': 1,\n",
       " 'batch_size': 128,\n",
       " 'verbose_freq': 250,\n",
       " 'run_validation_freq': 80,\n",
       " 'train_test_split_portion': [0.8, 0.1],\n",
       " 'random_seed': 12345}"
      ]
     },
     "metadata": {},
     "execution_count": 9
    }
   ],
   "source": [
    "get_json_dict(train_params)"
   ]
  },
  {
   "cell_type": "code",
   "execution_count": 10,
   "metadata": {},
   "outputs": [],
   "source": [
    "from parameters.enum import SelectableLoss, SelectableLrScheduler, SelectableOptimizer"
   ]
  },
  {
   "cell_type": "code",
   "execution_count": 11,
   "metadata": {},
   "outputs": [],
   "source": [
    "loss_params = LossParameters(\n",
    "    loss=SelectableLoss.CrossEntropy,\n",
    "    from_logits=True\n",
    ")"
   ]
  },
  {
   "cell_type": "code",
   "execution_count": 12,
   "metadata": {},
   "outputs": [
    {
     "output_type": "execute_result",
     "data": {
      "text/plain": [
       "{'loss': 'CrossEntropy', 'from_logits': True}"
      ]
     },
     "metadata": {},
     "execution_count": 12
    }
   ],
   "source": [
    "get_json_dict(loss_params)"
   ]
  },
  {
   "cell_type": "code",
   "execution_count": 13,
   "metadata": {},
   "outputs": [],
   "source": [
    "optim_params = OptimizerParameters(\n",
    "    optimizer=SelectableOptimizer.Adam,\n",
    "    lr_scheduler=SelectableLrScheduler.BERTScheduler,\n",
    ")"
   ]
  },
  {
   "cell_type": "code",
   "execution_count": 14,
   "metadata": {},
   "outputs": [
    {
     "output_type": "execute_result",
     "data": {
      "text/plain": [
       "{'optimizer': 'Adam',\n",
       " 'learning_rate': 0.005,\n",
       " 'l2': 1e-10,\n",
       " 'lr_scheduler': 'BERTScheduler',\n",
       " 'lr_step_scheduler_step': 800,\n",
       " 'lr_setp_scheduler_gamma': 0.8,\n",
       " 'lr_exp_decay_scheduler_step': 1000,\n",
       " 'lr_exp_decay_scheduler_rate': 0.96,\n",
       " 'lr_exp_decay_scheduler_staircase': True,\n",
       " 'SGD_momentum': 0.9}"
      ]
     },
     "metadata": {},
     "execution_count": 14
    }
   ],
   "source": [
    "get_json_dict(optim_params)"
   ]
  },
  {
   "cell_type": "code",
   "execution_count": 15,
   "metadata": {},
   "outputs": [
    {
     "output_type": "stream",
     "name": "stdout",
     "text": [
      "\n========================================\n| Running on /job:localhost/replica:0/task:0/device:CPU:0  \n========================================\n"
     ]
    }
   ],
   "source": [
    "controller = TrainingController(\n",
    "    dataset,\n",
    "    model,\n",
    "    train_params,\n",
    "    optim_params,\n",
    "    loss_params,\n",
    ")"
   ]
  },
  {
   "cell_type": "code",
   "execution_count": 16,
   "metadata": {},
   "outputs": [
    {
     "output_type": "stream",
     "name": "stdout",
     "text": [
      "Model: \"PredNextBERT\"\n_________________________________________________________________\nLayer (type)                 Output Shape              Param #   \n=================================================================\npredict_next_encoder (Predic multiple                  35008     \n_________________________________________________________________\ndense_24 (Dense)             multiple                  858       \n=================================================================\nTotal params: 35,866\nTrainable params: 35,866\nNon-trainable params: 0\n_________________________________________________________________\n"
     ]
    }
   ],
   "source": [
    "controller.model_info()"
   ]
  },
  {
   "cell_type": "code",
   "execution_count": 17,
   "metadata": {},
   "outputs": [
    {
     "output_type": "stream",
     "name": "stdout",
     "text": [
      "\n",
      "========================================\n",
      "| Training records in logs/gradient_tape/20210704-053341 \n",
      "========================================\n",
      "\n",
      "========================================\n",
      "| Total epochs: 1 \n",
      "========================================\n",
      "\n",
      "========================================\n",
      "| Total steps: 82 \n",
      "========================================\n",
      "\n",
      "========================================\n",
      "| Start epoch 0 \n",
      "========================================\n",
      "\n",
      "========================================\n",
      "| Evaluation result | Loss [3.0305] | Accuracy [0.0503]  \n",
      "========================================\n",
      "\n",
      "========================================\n",
      "| Performing Testing ... \n",
      "========================================\n",
      "\n",
      "========================================\n",
      "| Evaluation result | Loss [3.0148] | Accuracy [0.0482]  \n",
      "========================================\n"
     ]
    }
   ],
   "source": [
    "test_accuracy = controller.train()"
   ]
  },
  {
   "cell_type": "code",
   "execution_count": 19,
   "metadata": {},
   "outputs": [],
   "source": [
    "save_folder_path = model.get_folder_path(\"bpi_2012_bert_training.ipynb\", test_accuracy , dataset.info_str())"
   ]
  },
  {
   "cell_type": "code",
   "execution_count": 20,
   "metadata": {},
   "outputs": [
    {
     "output_type": "stream",
     "name": "stdout",
     "text": [
      "\n",
      "========================================\n",
      "| Parameters saved successfully to: ./SavedModels/0.0482_PredNextBERT_AOW_CompleteOnly_2021-07-04 05:48:56.605147  \n",
      "========================================\n",
      "\n",
      "========================================\n",
      "| Vocabs saved successfully to: ./SavedModels/0.0482_PredNextBERT_AOW_CompleteOnly_2021-07-04 05:48:56.605147  \n",
      "========================================\n",
      "\n",
      "========================================\n",
      "| Model saved successfully to: ./SavedModels/0.0482_PredNextBERT_AOW_CompleteOnly_2021-07-04 05:48:56.605147  \n",
      "========================================\n"
     ]
    }
   ],
   "source": [
    "controller.save_parameters(save_folder_path)\n",
    "model.save(save_folder_path)"
   ]
  },
  {
   "cell_type": "code",
   "execution_count": 24,
   "metadata": {},
   "outputs": [
    {
     "output_type": "stream",
     "name": "stdout",
     "text": [
      "\n",
      "========================================\n",
      "| Model parameters loaded successfully from: ./SavedModels/0.0482_PredNextBERT_AOW_CompleteOnly_2021-07-04 05:48:56.605147  \n",
      "========================================\n",
      "\n",
      "========================================\n",
      "| Vocab loaded successfully from: ./SavedModels/0.0482_PredNextBERT_AOW_CompleteOnly_2021-07-04 05:48:56.605147  \n",
      "========================================\n",
      "\n",
      "========================================\n",
      "| Model loaded successfully from: ./SavedModels/0.0482_PredNextBERT_AOW_CompleteOnly_2021-07-04 05:48:56.605147  \n",
      "========================================\n"
     ]
    },
    {
     "output_type": "execute_result",
     "data": {
      "text/plain": [
       "<model.PredNextBERT.PredNextBERT at 0x295e1cf70>"
      ]
     },
     "metadata": {},
     "execution_count": 24
    }
   ],
   "source": [
    "# controller.load_parameters(save_folder_path)\n",
    "# model.load(save_folder_path)"
   ]
  },
  {
   "cell_type": "code",
   "execution_count": null,
   "metadata": {},
   "outputs": [],
   "source": []
  }
 ]
}