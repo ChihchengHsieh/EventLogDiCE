{
 "metadata": {
  "language_info": {
   "codemirror_mode": {
    "name": "ipython",
    "version": 3
   },
   "file_extension": ".py",
   "mimetype": "text/x-python",
   "name": "python",
   "nbconvert_exporter": "python",
   "pygments_lexer": "ipython3",
   "version": "3.8.10"
  },
  "orig_nbformat": 4,
  "kernelspec": {
   "name": "python3",
   "display_name": "Python 3.8.10 64-bit ('tf_mac': conda)"
  },
  "interpreter": {
   "hash": "5c622353f32ef24c8d83e5c3e334107c074e82d7c3e8ca52c56b9fc900ce33e6"
  }
 },
 "nbformat": 4,
 "nbformat_minor": 2,
 "cells": [
  {
   "cell_type": "code",
   "execution_count": 1,
   "metadata": {},
   "outputs": [],
   "source": [
    "from parameters.dataset import BPI2012Parameters\n",
    "from dataset import BPI2012Dataset\n",
    "from utils.print import print_block\n",
    "from utils.bpi2012 import remove_trail_steps, print_model_prediction_result, remove_tags_for_seq\n",
    "import tensorflow as tf\n",
    "from model import LSTMPredNextAmountSpecificModel, LSTMScenarioCfWithResourceModel\n",
    "import numpy as np\n",
    "from dice import EventLogDiCE"
   ]
  },
  {
   "cell_type": "code",
   "execution_count": 2,
   "metadata": {},
   "outputs": [
    {
     "output_type": "stream",
     "name": "stdout",
     "text": [
      "\n========================================\n| Preprocessed data loaded successfully: ./data/preprocessed/BPI_Challenge_2012_with_resource/AOW_CompleteOnly \n========================================\n"
     ]
    }
   ],
   "source": [
    "dataset = BPI2012Dataset(BPI2012Parameters()) "
   ]
  },
  {
   "cell_type": "code",
   "execution_count": 3,
   "metadata": {},
   "outputs": [
    {
     "output_type": "stream",
     "name": "stdout",
     "text": [
      "\n",
      "====================Activity====================\n",
      "| [['<SOS>', 'A_SUBMITTED_COMPLETE', 'A_PARTLYSUBMITTED_COMPLETE', 'A_PREACCEPTED_COMPLETE', 'W_Completeren aanvraag_COMPLETE', 'W_Completeren aanvraag_COMPLETE', 'A_ACCEPTED_COMPLETE', 'A_FINALIZED_COMPLETE', 'O_SELECTED_COMPLETE', 'O_CREATED_COMPLETE', 'O_SENT_COMPLETE', 'W_Completeren aanvraag_COMPLETE', 'O_SENT_BACK_COMPLETE', 'W_Nabellen offertes_COMPLETE', 'O_ACCEPTED_COMPLETE', 'A_APPROVED_COMPLETE', 'A_REGISTERED_COMPLETE', 'A_ACTIVATED_COMPLETE', 'W_Valideren aanvraag_COMPLETE']] \n",
      "================================================\n",
      "\n",
      "====================Resource====================\n",
      "| [['<SOS>', '112', '112', '112', '11180', '11201', '11201', '11201', '11201', '11201', '11201', '11201', '11049', '11049', '10629', '10629', '10629', '10629', '10629']] \n",
      "================================================\n"
     ]
    }
   ],
   "source": [
    "trace_idx = 52\n",
    "_, example_activities, _, example_resources, example_amount, _ = dataset.collate_fn([trace_idx])\n",
    "print_block(dataset.activity_vocab.list_of_index_to_vocab_2d(example_activities),\"Activity\")\n",
    "print_block(dataset.resource_vocab.list_of_index_to_vocab_2d(example_resources),\"Resource\")"
   ]
  },
  {
   "cell_type": "code",
   "execution_count": 4,
   "metadata": {},
   "outputs": [
    {
     "output_type": "stream",
     "name": "stdout",
     "text": [
      "\n",
      "====================Activity (Tail removed)====================\n",
      "| ['<SOS>', 'A_SUBMITTED_COMPLETE', 'A_PARTLYSUBMITTED_COMPLETE', 'A_PREACCEPTED_COMPLETE', 'W_Completeren aanvraag_COMPLETE', 'W_Completeren aanvraag_COMPLETE', 'A_ACCEPTED_COMPLETE', 'A_FINALIZED_COMPLETE'] \n",
      "===============================================================\n",
      "\n",
      "====================Resource (Tail removed)====================\n",
      "| ['<SOS>', '112', '112', '112', '11180', '11201', '11201', '11201'] \n",
      "===============================================================\n"
     ]
    }
   ],
   "source": [
    "## Remove tails\n",
    "tail_length_to_remove = 11\n",
    "example_idx_activities, example_idx_resources = remove_trail_steps(example_activities, example_resources, tail_length_to_remove)\n",
    "example_vocab_activities = dataset.activity_vocab.list_of_index_to_vocab_2d(example_idx_activities)[0]\n",
    "example_vocab_resources = dataset.resource_vocab.list_of_index_to_vocab_2d(example_idx_resources)[0]\n",
    "print_block(example_vocab_activities, \"Activity (Tail removed)\")\n",
    "print_block(example_vocab_resources, \"Resource (Tail removed)\")"
   ]
  },
  {
   "cell_type": "code",
   "execution_count": 5,
   "metadata": {},
   "outputs": [
    {
     "output_type": "stream",
     "name": "stdout",
     "text": [
      "\n",
      "========================================\n",
      "| Model parameters loaded successfully from: ./SavedModels/0.8159_LSTMPredNextAmountSpecificModel_AOW_CompleteOnly_2021-06-29 18:25:07.216254  \n",
      "========================================\n",
      "\n",
      "========================================\n",
      "| Vocab loaded successfully from: ./SavedModels/0.8159_LSTMPredNextAmountSpecificModel_AOW_CompleteOnly_2021-06-29 18:25:07.216254  \n",
      "========================================\n",
      "\n",
      "========================================\n",
      "| Model loaded successfully from: ./SavedModels/0.8159_LSTMPredNextAmountSpecificModel_AOW_CompleteOnly_2021-06-29 18:25:07.216254  \n",
      "========================================\n"
     ]
    }
   ],
   "source": [
    "pred_model = LSTMPredNextAmountSpecificModel.load(\n",
    "    \"./SavedModels/%s\" % (\n",
    "    \"0.8159_LSTMPredNextAmountSpecificModel_AOW_CompleteOnly_2021-06-29 18:25:07.216254\" \n",
    "    )\n",
    ")"
   ]
  },
  {
   "cell_type": "code",
   "execution_count": 6,
   "metadata": {},
   "outputs": [
    {
     "output_type": "stream",
     "name": "stdout",
     "text": [
      "Model: \"LSTMPredNextAmountSpecificModel\"\n_________________________________________________________________\nLayer (type)                 Output Shape              Param #   \n=================================================================\nembedding (Embedding)        multiple                  832       \n_________________________________________________________________\nembedding_1 (Embedding)      multiple                  9216      \n_________________________________________________________________\nlstm (LSTM)                  multiple                  24832     \n_________________________________________________________________\nlstm_1 (LSTM)                multiple                  49408     \n_________________________________________________________________\nsequential (Sequential)      (1, 64)                   4544      \n_________________________________________________________________\nsequential_1 (Sequential)    (1, 1, 26)                15066     \n=================================================================\nTotal params: 103,898\nTrainable params: 103,258\nNon-trainable params: 640\n_________________________________________________________________\n"
     ]
    }
   ],
   "source": [
    "_ = pred_model(**pred_model.get_example_input())\n",
    "pred_model.summary()"
   ]
  },
  {
   "cell_type": "code",
   "execution_count": 7,
   "metadata": {},
   "outputs": [
    {
     "output_type": "stream",
     "name": "stdout",
     "text": [
      "\n",
      "========================================Predict result========================================\n",
      "| Predicted activity with highest probability (1.00) is \"O_SELECTED_COMPLETE\" \n",
      "==============================================================================================\n",
      "\n",
      "\n",
      "\n",
      "<PAD>                                      9.458650e-11\n",
      "<EOS>                                      1.162047e-11\n",
      "<SOS>                                      1.214198e-09\n",
      "A_ACCEPTED_COMPLETE                        1.298703e-08\n",
      "A_ACTIVATED_COMPLETE                       3.833323e-09\n",
      "A_APPROVED_COMPLETE                        7.352894e-09\n",
      "A_CANCELLED_COMPLETE                       1.139191e-04\n",
      "A_DECLINED_COMPLETE                        1.029128e-06\n",
      "A_FINALIZED_COMPLETE                       2.934446e-05\n",
      "A_PARTLYSUBMITTED_COMPLETE                 2.463539e-10\n",
      "A_PREACCEPTED_COMPLETE                     9.000219e-11\n",
      "A_REGISTERED_COMPLETE                      1.219479e-10\n",
      "A_SUBMITTED_COMPLETE                       2.929607e-10\n",
      "O_ACCEPTED_COMPLETE                        1.501033e-10\n",
      "O_CANCELLED_COMPLETE                       4.711716e-09\n",
      "O_CREATED_COMPLETE                         5.534542e-05\n",
      "O_DECLINED_COMPLETE                        4.675891e-10\n",
      "O_SELECTED_COMPLETE                        9.997944e-01\n",
      "O_SENT_BACK_COMPLETE                       5.258974e-10\n",
      "O_SENT_COMPLETE                            1.164806e-07\n",
      "W_Afhandelen leads_COMPLETE                1.094385e-08\n",
      "W_Beoordelen fraude_COMPLETE               1.853643e-09\n",
      "W_Completeren aanvraag_COMPLETE            5.772594e-06\n",
      "W_Nabellen incomplete dossiers_COMPLETE    9.320448e-11\n",
      "W_Nabellen offertes_COMPLETE               8.144634e-11\n",
      "W_Valideren aanvraag_COMPLETE              5.907909e-10\n",
      "Name: 0, dtype: float64\n"
     ]
    }
   ],
   "source": [
    "##### Get model output\n",
    "example_activities_input = tf.constant(example_idx_activities)\n",
    "example_resources_input = tf.constant(example_idx_resources)\n",
    "example_amount_input = tf.constant(example_amount)\n",
    "\n",
    "predicted_df = print_model_prediction_result(pred_model, example_activities_input, example_resources_input, example_amount_input)"
   ]
  },
  {
   "cell_type": "code",
   "execution_count": 8,
   "metadata": {},
   "outputs": [
    {
     "output_type": "execute_result",
     "data": {
      "text/plain": [
       "          <PAD>         <EOS>         <SOS>  A_ACCEPTED_COMPLETE  \\\n",
       "0  9.458650e-11  1.162047e-11  1.214198e-09         1.298703e-08   \n",
       "\n",
       "   A_ACTIVATED_COMPLETE  A_APPROVED_COMPLETE  A_CANCELLED_COMPLETE  \\\n",
       "0          3.833323e-09         7.352894e-09              0.000114   \n",
       "\n",
       "   A_DECLINED_COMPLETE  A_FINALIZED_COMPLETE  A_PARTLYSUBMITTED_COMPLETE  ...  \\\n",
       "0             0.000001              0.000029                2.463539e-10  ...   \n",
       "\n",
       "   O_DECLINED_COMPLETE  O_SELECTED_COMPLETE  O_SENT_BACK_COMPLETE  \\\n",
       "0         4.675891e-10             0.999794          5.258974e-10   \n",
       "\n",
       "   O_SENT_COMPLETE  W_Afhandelen leads_COMPLETE  W_Beoordelen fraude_COMPLETE  \\\n",
       "0     1.164806e-07                 1.094385e-08                  1.853643e-09   \n",
       "\n",
       "   W_Completeren aanvraag_COMPLETE  W_Nabellen incomplete dossiers_COMPLETE  \\\n",
       "0                         0.000006                             9.320448e-11   \n",
       "\n",
       "   W_Nabellen offertes_COMPLETE  W_Valideren aanvraag_COMPLETE  \n",
       "0                  8.144634e-11                   5.907909e-10  \n",
       "\n",
       "[1 rows x 26 columns]"
      ],
      "text/html": "<div>\n<style scoped>\n    .dataframe tbody tr th:only-of-type {\n        vertical-align: middle;\n    }\n\n    .dataframe tbody tr th {\n        vertical-align: top;\n    }\n\n    .dataframe thead th {\n        text-align: right;\n    }\n</style>\n<table border=\"1\" class=\"dataframe\">\n  <thead>\n    <tr style=\"text-align: right;\">\n      <th></th>\n      <th>&lt;PAD&gt;</th>\n      <th>&lt;EOS&gt;</th>\n      <th>&lt;SOS&gt;</th>\n      <th>A_ACCEPTED_COMPLETE</th>\n      <th>A_ACTIVATED_COMPLETE</th>\n      <th>A_APPROVED_COMPLETE</th>\n      <th>A_CANCELLED_COMPLETE</th>\n      <th>A_DECLINED_COMPLETE</th>\n      <th>A_FINALIZED_COMPLETE</th>\n      <th>A_PARTLYSUBMITTED_COMPLETE</th>\n      <th>...</th>\n      <th>O_DECLINED_COMPLETE</th>\n      <th>O_SELECTED_COMPLETE</th>\n      <th>O_SENT_BACK_COMPLETE</th>\n      <th>O_SENT_COMPLETE</th>\n      <th>W_Afhandelen leads_COMPLETE</th>\n      <th>W_Beoordelen fraude_COMPLETE</th>\n      <th>W_Completeren aanvraag_COMPLETE</th>\n      <th>W_Nabellen incomplete dossiers_COMPLETE</th>\n      <th>W_Nabellen offertes_COMPLETE</th>\n      <th>W_Valideren aanvraag_COMPLETE</th>\n    </tr>\n  </thead>\n  <tbody>\n    <tr>\n      <th>0</th>\n      <td>9.458650e-11</td>\n      <td>1.162047e-11</td>\n      <td>1.214198e-09</td>\n      <td>1.298703e-08</td>\n      <td>3.833323e-09</td>\n      <td>7.352894e-09</td>\n      <td>0.000114</td>\n      <td>0.000001</td>\n      <td>0.000029</td>\n      <td>2.463539e-10</td>\n      <td>...</td>\n      <td>4.675891e-10</td>\n      <td>0.999794</td>\n      <td>5.258974e-10</td>\n      <td>1.164806e-07</td>\n      <td>1.094385e-08</td>\n      <td>1.853643e-09</td>\n      <td>0.000006</td>\n      <td>9.320448e-11</td>\n      <td>8.144634e-11</td>\n      <td>5.907909e-10</td>\n    </tr>\n  </tbody>\n</table>\n<p>1 rows × 26 columns</p>\n</div>"
     },
     "metadata": {},
     "execution_count": 8
    }
   ],
   "source": [
    "predicted_df"
   ]
  },
  {
   "cell_type": "code",
   "execution_count": 9,
   "metadata": {},
   "outputs": [
    {
     "output_type": "stream",
     "name": "stdout",
     "text": [
      "\n",
      "==============================Example activities without tags==============================\n",
      "| ['A_SUBMITTED_COMPLETE', 'A_PARTLYSUBMITTED_COMPLETE', 'A_PREACCEPTED_COMPLETE', 'W_Completeren aanvraag_COMPLETE', 'W_Completeren aanvraag_COMPLETE', 'A_ACCEPTED_COMPLETE', 'A_FINALIZED_COMPLETE'] \n",
      "===========================================================================================\n",
      "\n",
      "==============================Example resources without tags==============================\n",
      "| ['112', '112', '112', '11180', '11201', '11201', '11201'] \n",
      "==========================================================================================\n",
      "\n",
      "=================================Amount=================================\n",
      "| [15500.0] \n",
      "========================================================================\n"
     ]
    }
   ],
   "source": [
    "no_need_tags = ['<EOS>', '<SOS>', '<PAD>']\n",
    "\n",
    "possible_activities = [ a for a in list(pred_model.activity_vocab.vocabs) if  not a in no_need_tags]\n",
    "possible_resources =  [ r for r in list(pred_model.resource_vocab.vocabs) if  not r in no_need_tags]\n",
    "\n",
    "example_vocab_activities_no_tag = remove_tags_for_seq(example_vocab_activities, no_need_tags)\n",
    "\n",
    "example_vocab_resources_no_tag = remove_tags_for_seq(example_vocab_resources, no_need_tags)\n",
    "\n",
    "# transform to possible dim\n",
    "example_idx_activities_no_tag = [ possible_activities.index(v)   for v in example_vocab_activities_no_tag ]\n",
    "\n",
    "example_idx_resources_no_tag = [\n",
    "possible_resources.index(v)   for v in example_vocab_resources_no_tag    \n",
    "]\n",
    "\n",
    "example_trace_len_no_tag = len(example_vocab_activities_no_tag)\n",
    "#### Determine feature names for DiCE ####\n",
    "activity_feature_names = np.array([\"activity_step_%d\" % (i+1) for i in range(example_trace_len_no_tag)])\n",
    "resource_feature_names = np.array([\"resource_step_%d\" % (i+1) for i in range(example_trace_len_no_tag)])\n",
    "possbile_amount = [min(dataset.df[\"amount\"]), max(dataset.df[\"amount\"])]\n",
    "\n",
    "print_block(example_vocab_activities_no_tag ,title=\"Example activities without tags\", num_marks = 30)\n",
    "print_block(example_vocab_resources_no_tag ,title=\"Example resources without tags\", num_marks = 30)\n",
    "print_block(example_amount, title=\"=================Amount=================\", num_marks=16)"
   ]
  },
  {
   "cell_type": "code",
   "execution_count": 10,
   "metadata": {},
   "outputs": [
    {
     "output_type": "stream",
     "name": "stdout",
     "text": [
      "\n",
      "========================================\n",
      "| Model parameters loaded successfully from: ./SavedModels/0.9855_LSTMScenarioCfWithResourceModel_AOW_CompleteOnly_20_times_2021-06-29 10:12:02.918758  \n",
      "========================================\n",
      "\n",
      "========================================\n",
      "| Vocab loaded successfully from: ./SavedModels/0.9855_LSTMScenarioCfWithResourceModel_AOW_CompleteOnly_20_times_2021-06-29 10:12:02.918758  \n",
      "========================================\n",
      "\n",
      "========================================\n",
      "| Model loaded successfully from: ./SavedModels/0.9855_LSTMScenarioCfWithResourceModel_AOW_CompleteOnly_20_times_2021-06-29 10:12:02.918758  \n",
      "========================================\n"
     ]
    }
   ],
   "source": [
    "scenario_model = LSTMScenarioCfWithResourceModel.load(\n",
    "    \"./SavedModels/%s\" % (\"0.9855_LSTMScenarioCfWithResourceModel_AOW_CompleteOnly_20_times_2021-06-29 10:12:02.918758\" \n",
    "    )\n",
    ")"
   ]
  },
  {
   "cell_type": "code",
   "execution_count": 11,
   "metadata": {},
   "outputs": [
    {
     "output_type": "stream",
     "name": "stdout",
     "text": [
      "Model: \"LSTMScenarioCfWithResourceModel\"\n_________________________________________________________________\nLayer (type)                 Output Shape              Param #   \n=================================================================\nembedding_2 (Embedding)      multiple                  832       \n_________________________________________________________________\nembedding_3 (Embedding)      multiple                  9216      \n_________________________________________________________________\nlstm_2 (LSTM)                multiple                  24832     \n_________________________________________________________________\nlstm_3 (LSTM)                multiple                  49408     \n_________________________________________________________________\nsequential_2 (Sequential)    (1, 1, 1)                 9157      \n=================================================================\nTotal params: 93,445\nTrainable params: 93,059\nNon-trainable params: 386\n_________________________________________________________________\n"
     ]
    }
   ],
   "source": [
    "_ = scenario_model(**scenario_model.get_example_input())\n",
    "scenario_model.summary()"
   ]
  },
  {
   "cell_type": "code",
   "execution_count": 12,
   "metadata": {},
   "outputs": [],
   "source": [
    "dice = EventLogDiCE(\n",
    "    dataset.activity_vocab,\n",
    "    dataset.resource_vocab,\n",
    "    possbile_amount,\n",
    "    possible_activities,\n",
    "    possible_resources, \n",
    "    pred_model,\n",
    "    scenario_model\n",
    "    )"
   ]
  },
  {
   "cell_type": "code",
   "execution_count": 26,
   "metadata": {
    "tags": []
   },
   "outputs": [
    {
     "output_type": "stream",
     "name": "stdout",
     "text": [
      "\n",
      "====================Model Prediction====================\n",
      "| Prediction: [O_SELECTED_COMPLETE(17)] | Desired: [A_DECLINED_COMPLETE(7)] \n",
      "========================================================\n",
      "\n",
      "====================Counterfactual Process====================\n",
      "| [0] ==========> [1] \n",
      "==============================================================\n",
      "\n",
      "====================Step 20 Loss====================\n",
      "| Total [13126.87] | Scenario [65.58] | Class [1.61] | Category [8380.76] | Distance [371.75] \n",
      "====================================================\n",
      "\n",
      "====================Step 20 CF predicted====================\n",
      "| Invalid: O_SELECTED_COMPLETE (17) | Valid: A_REGISTERED_COMPLETE (11) \n",
      "============================================================\n",
      "\n",
      "====================Step 40 Loss====================\n",
      "| Total [12968.29] | Scenario [64.79] | Class [1.98] | Category [8323.50] | Distance [661.50] \n",
      "====================================================\n",
      "\n",
      "====================Step 40 CF predicted====================\n",
      "| Invalid: O_SELECTED_COMPLETE (17) | Valid: A_APPROVED_COMPLETE (5) \n",
      "============================================================\n",
      "\n",
      "====================Step 60 Loss====================\n",
      "| Total [13128.74] | Scenario [65.59] | Class [1.95] | Category [8480.31] | Distance [1176.25] \n",
      "====================================================\n",
      "\n",
      "====================Step 60 CF predicted====================\n",
      "| Invalid: O_SELECTED_COMPLETE (17) | Valid: A_APPROVED_COMPLETE (5) \n",
      "============================================================\n",
      "\n",
      "====================Step 80 Loss====================\n",
      "| Total [11847.69] | Scenario [59.18] | Class [2.20] | Category [10210.77] | Distance [1897.25] \n",
      "====================================================\n",
      "\n",
      "====================Step 80 CF predicted====================\n",
      "| Invalid: O_SELECTED_COMPLETE (17) | Valid: A_REGISTERED_COMPLETE (11) \n",
      "============================================================\n",
      "\n",
      "====================Step 100 Loss====================\n",
      "| Total [15575.88] | Scenario [77.83] | Class [1.71] | Category [8735.49] | Distance [2757.50] \n",
      "=====================================================\n",
      "\n",
      "====================Step 100 CF predicted====================\n",
      "| Invalid: O_SELECTED_COMPLETE (17) | Valid: A_APPROVED_COMPLETE (5) \n",
      "=============================================================\n",
      "\n",
      "====================Step 120 Loss====================\n",
      "| Total [12247.97] | Scenario [61.18] | Class [2.08] | Category [9516.25] | Distance [3887.75] \n",
      "=====================================================\n",
      "\n",
      "====================Step 120 CF predicted====================\n",
      "| Invalid: A_DECLINED_COMPLETE (7) | Valid: W_Valideren aanvraag_COMPLETE (25) \n",
      "=============================================================\n",
      "\n",
      "====================Step 140 Loss====================\n",
      "| Total [12002.39] | Scenario [59.95] | Class [2.20] | Category [10660.99] | Distance [5201.00] \n",
      "=====================================================\n",
      "\n",
      "====================Step 140 CF predicted====================\n",
      "| Invalid: O_SELECTED_COMPLETE (17) | Valid: W_Valideren aanvraag_COMPLETE (25) \n",
      "=============================================================\n",
      "\n",
      "====================Step 160 Loss====================\n",
      "| Total [14131.61] | Scenario [70.59] | Class [2.08] | Category [11372.23] | Distance [6703.75] \n",
      "=====================================================\n",
      "\n",
      "====================Step 160 CF predicted====================\n",
      "| Invalid: O_SELECTED_COMPLETE (17) | Valid: W_Valideren aanvraag_COMPLETE (25) \n",
      "=============================================================\n",
      "\n",
      "====================Step 180 Loss====================\n",
      "| Total [13206.35] | Scenario [65.98] | Class [2.20] | Category [8914.94] | Distance [8374.50] \n",
      "=====================================================\n",
      "\n",
      "====================Step 180 CF predicted====================\n",
      "| Invalid: O_SELECTED_COMPLETE (17) | Valid: W_Valideren aanvraag_COMPLETE (25) \n",
      "=============================================================\n",
      "\n",
      "====================Step 200 Loss====================\n",
      "| Total [13094.80] | Scenario [65.41] | Class [2.20] | Category [10933.88] | Distance [10297.00] \n",
      "=====================================================\n",
      "\n",
      "====================Step 200 CF predicted====================\n",
      "| Invalid: O_SELECTED_COMPLETE (17) | Valid: W_Valideren aanvraag_COMPLETE (25) \n",
      "=============================================================\n",
      "\n",
      "====================Step 220 Loss====================\n",
      "| Total [13583.49] | Scenario [67.85] | Class [2.02] | Category [12451.51] | Distance [12401.00] \n",
      "=====================================================\n",
      "\n",
      "====================Step 220 CF predicted====================\n",
      "| Invalid: O_SELECTED_COMPLETE (17) | Valid: W_Valideren aanvraag_COMPLETE (25) \n",
      "=============================================================\n",
      "\n",
      "====================Step 240 Loss====================\n",
      "| Total [11802.14] | Scenario [58.96] | Class [1.95] | Category [7202.50] | Distance [14657.00] \n",
      "=====================================================\n",
      "\n",
      "====================Step 240 CF predicted====================\n",
      "| Invalid: O_SELECTED_COMPLETE (17) | Valid: A_APPROVED_COMPLETE (5) \n",
      "=============================================================\n",
      "\n",
      "====================Step 260 Loss====================\n",
      "| Total [11583.26] | Scenario [57.86] | Class [1.95] | Category [9228.50] | Distance [17172.50] \n",
      "=====================================================\n",
      "\n",
      "====================Step 260 CF predicted====================\n",
      "| Invalid: O_SELECTED_COMPLETE (17) | Valid: A_APPROVED_COMPLETE (5) \n",
      "=============================================================\n",
      "\n",
      "====================Step 280 Loss====================\n",
      "| Total [13476.15] | Scenario [67.33] | Class [1.93] | Category [7692.49] | Distance [19859.50] \n",
      "=====================================================\n",
      "\n",
      "====================Step 280 CF predicted====================\n",
      "| Invalid: A_DECLINED_COMPLETE (7) | Valid: A_APPROVED_COMPLETE (5) \n",
      "=============================================================\n",
      "\n",
      "====================Step 300 Loss====================\n",
      "| Total [12718.18] | Scenario [63.53] | Class [2.00] | Category [11123.76] | Distance [22806.25] \n",
      "=====================================================\n",
      "\n",
      "====================Step 300 CF predicted====================\n",
      "| Invalid: O_SELECTED_COMPLETE (17) | Valid: W_Valideren aanvraag_COMPLETE (25) \n",
      "=============================================================\n",
      "\n",
      "====================Step 320 Loss====================\n",
      "| Total [11319.79] | Scenario [56.54] | Class [2.08] | Category [9674.49] | Distance [25892.00] \n",
      "=====================================================\n",
      "\n",
      "====================Step 320 CF predicted====================\n",
      "| Invalid: O_SELECTED_COMPLETE (17) | Valid: W_Valideren aanvraag_COMPLETE (25) \n",
      "=============================================================\n",
      "\n",
      "====================Step 340 Loss====================\n",
      "| Total [13880.90] | Scenario [69.33] | Class [2.08] | Category [11942.99] | Distance [29201.00] \n",
      "=====================================================\n",
      "\n",
      "====================Step 340 CF predicted====================\n",
      "| Invalid: O_SELECTED_COMPLETE (17) | Valid: W_Valideren aanvraag_COMPLETE (25) \n",
      "=============================================================\n",
      "\n",
      "====================! Counterfactual with low scenario score found in step [352] 🙈 !====================\n",
      "| Running time: 36.68 \n",
      "========================================================================================================\n",
      "\n",
      "====================Input Amount====================\n",
      "| [15500.] \n",
      "====================================================\n",
      "\n",
      "====================Input Activities====================\n",
      "| ['A_SUBMITTED_COMPLETE', 'A_PARTLYSUBMITTED_COMPLETE', 'A_PREACCEPTED_COMPLETE', 'W_Completeren aanvraag_COMPLETE', 'W_Completeren aanvraag_COMPLETE', 'A_ACCEPTED_COMPLETE', 'A_FINALIZED_COMPLETE'] \n",
      "========================================================\n",
      "\n",
      "====================Input Resource====================\n",
      "| ['112', '112', '112', '11180', '11201', '11201', '11201'] \n",
      "======================================================\n",
      "\n",
      "====================Valid CF Amount====================\n",
      "| 15324.0 \n",
      "=======================================================\n",
      "\n",
      "====================Valid CF Activities====================\n",
      "| ['O_ACCEPTED_COMPLETE', 'O_CANCELLED_COMPLETE', 'O_CANCELLED_COMPLETE', 'O_CANCELLED_COMPLETE', 'A_ACTIVATED_COMPLETE', 'A_CANCELLED_COMPLETE', 'A_FINALIZED_COMPLETE'] \n",
      "===========================================================\n",
      "\n",
      "====================Valid CF Resource====================\n",
      "| ['10124', '10124', '10125', '10124', '10124', '10138', '10138'] \n",
      "=========================================================\n",
      "\n",
      "====================Valid CF scenario output====================\n",
      "| [0.7 0.  0.  0.  0.  0.  0.  0. ] \n",
      "================================================================\n"
     ]
    }
   ],
   "source": [
    "cf_out = dice.run_pls(\n",
    "    ## Input\n",
    "    example_amount_input.numpy(),\n",
    "    example_idx_activities_no_tag,\n",
    "    example_idx_resources_no_tag,\n",
    "    desired_vocab = \"A_DECLINED_COMPLETE\",\n",
    "    \n",
    "    ## Weight\n",
    "    class_loss_weight = 1,\n",
    "    scenario_weight = 200,\n",
    "    distance_loss_weight = 1e-8,\n",
    "    cat_loss_weight = 1e-3,\n",
    "    \n",
    "    ## Training parameters\n",
    "    scenario_threshold = 0.3,\n",
    "    scenario_ask_to_continue=True,\n",
    "    max_iter=1000,\n",
    "    lr=0.5,\n",
    "\n",
    "    ## Updating fields\n",
    "    updating_amount_cf=False,\n",
    "    updating_activity_cf=False,\n",
    "    # updating_resource_cf=False,\n",
    "    \n",
    "    ## Options\n",
    "    use_valid_cf_only=False,\n",
    "    use_sampling=True,\n",
    "    class_using_hinge_loss=False,\n",
    "    scenario_using_hinge_loss=False,\n",
    "    use_clipping=True, \n",
    ")"
   ]
  },
  {
   "cell_type": "code",
   "execution_count": null,
   "metadata": {},
   "outputs": [],
   "source": []
  }
 ]
}