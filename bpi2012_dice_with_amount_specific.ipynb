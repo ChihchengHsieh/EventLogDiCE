{
 "metadata": {
  "language_info": {
   "codemirror_mode": {
    "name": "ipython",
    "version": 3
   },
   "file_extension": ".py",
   "mimetype": "text/x-python",
   "name": "python",
   "nbconvert_exporter": "python",
   "pygments_lexer": "ipython3",
   "version": "3.8.10"
  },
  "orig_nbformat": 4,
  "kernelspec": {
   "name": "python3",
   "display_name": "Python 3.8.10 64-bit ('tf_mac': conda)"
  },
  "interpreter": {
   "hash": "5c622353f32ef24c8d83e5c3e334107c074e82d7c3e8ca52c56b9fc900ce33e6"
  }
 },
 "nbformat": 4,
 "nbformat_minor": 2,
 "cells": [
  {
   "cell_type": "code",
   "execution_count": 1,
   "metadata": {},
   "outputs": [],
   "source": [
    "from parameters.dataset import BPI2012Parameters\n",
    "from dataset import BPI2012Dataset\n",
    "from utils.print import print_block\n",
    "from utils.bpi2012 import remove_trail_steps, print_model_prediction_result, remove_tags_for_seq\n",
    "import tensorflow as tf\n",
    "from model import LSTMPredNextAmountSpecificModel, LSTMScenarioCfWithResourceModel\n",
    "import numpy as np\n",
    "from model import DiCEDefferientiableWrapper \n",
    "from dice import EventLogDiCE"
   ]
  },
  {
   "cell_type": "code",
   "execution_count": 2,
   "metadata": {},
   "outputs": [
    {
     "output_type": "stream",
     "name": "stdout",
     "text": [
      "\n========================================\n| Preprocessed data loaded successfully: ./data/preprocessed/BPI_Challenge_2012_with_resource/AOW_CompleteOnly \n========================================\n"
     ]
    }
   ],
   "source": [
    "dataset = BPI2012Dataset(BPI2012Parameters()) "
   ]
  },
  {
   "cell_type": "code",
   "execution_count": 3,
   "metadata": {},
   "outputs": [
    {
     "output_type": "stream",
     "name": "stdout",
     "text": [
      "\n",
      "====================Activity====================\n",
      "| [['<SOS>', 'A_SUBMITTED_COMPLETE', 'A_PARTLYSUBMITTED_COMPLETE', 'A_PREACCEPTED_COMPLETE', 'W_Completeren aanvraag_COMPLETE', 'W_Completeren aanvraag_COMPLETE', 'A_ACCEPTED_COMPLETE', 'A_FINALIZED_COMPLETE', 'O_SELECTED_COMPLETE', 'O_CREATED_COMPLETE', 'O_SENT_COMPLETE', 'W_Completeren aanvraag_COMPLETE', 'O_SENT_BACK_COMPLETE', 'W_Nabellen offertes_COMPLETE', 'O_ACCEPTED_COMPLETE', 'A_APPROVED_COMPLETE', 'A_REGISTERED_COMPLETE', 'A_ACTIVATED_COMPLETE', 'W_Valideren aanvraag_COMPLETE']] \n",
      "================================================\n",
      "\n",
      "====================Resource====================\n",
      "| [['<SOS>', '112', '112', '112', '11180', '11201', '11201', '11201', '11201', '11201', '11201', '11201', '11049', '11049', '10629', '10629', '10629', '10629', '10629']] \n",
      "================================================\n"
     ]
    }
   ],
   "source": [
    "trace_idx = 52\n",
    "_, example_activities, _, example_resources, example_amount, _ = dataset.collate_fn([trace_idx])\n",
    "print_block(dataset.activity_vocab.list_of_index_to_vocab_2d(example_activities),\"Activity\")\n",
    "print_block(dataset.resource_vocab.list_of_index_to_vocab_2d(example_resources),\"Resource\")"
   ]
  },
  {
   "cell_type": "code",
   "execution_count": 4,
   "metadata": {},
   "outputs": [
    {
     "output_type": "stream",
     "name": "stdout",
     "text": [
      "\n",
      "====================Activity (Tail removed)====================\n",
      "| ['<SOS>', 'A_SUBMITTED_COMPLETE', 'A_PARTLYSUBMITTED_COMPLETE', 'A_PREACCEPTED_COMPLETE', 'W_Completeren aanvraag_COMPLETE', 'W_Completeren aanvraag_COMPLETE', 'A_ACCEPTED_COMPLETE', 'A_FINALIZED_COMPLETE'] \n",
      "===============================================================\n",
      "\n",
      "====================Resource (Tail removed)====================\n",
      "| ['<SOS>', '112', '112', '112', '11180', '11201', '11201', '11201'] \n",
      "===============================================================\n"
     ]
    }
   ],
   "source": [
    "## Remove tails\n",
    "tail_length_to_remove = 11\n",
    "example_idx_activities, example_idx_resources = remove_trail_steps(example_activities, example_resources, tail_length_to_remove)\n",
    "example_vocab_activities = dataset.activity_vocab.list_of_index_to_vocab_2d(example_idx_activities)[0]\n",
    "example_vocab_resources = dataset.resource_vocab.list_of_index_to_vocab_2d(example_idx_resources)[0]\n",
    "print_block(example_vocab_activities, \"Activity (Tail removed)\")\n",
    "print_block(example_vocab_resources, \"Resource (Tail removed)\")"
   ]
  },
  {
   "cell_type": "code",
   "execution_count": 5,
   "metadata": {},
   "outputs": [
    {
     "output_type": "stream",
     "name": "stdout",
     "text": [
      "\n",
      "========================================\n",
      "| Model parameters loaded successfully from: ./SavedModels/0.8159_LSTMPredNextAmountSpecificModel_AOW_CompleteOnly_2021-06-29 18:25:07.216254  \n",
      "========================================\n",
      "\n",
      "========================================\n",
      "| Vocab loaded successfully from: ./SavedModels/0.8159_LSTMPredNextAmountSpecificModel_AOW_CompleteOnly_2021-06-29 18:25:07.216254  \n",
      "========================================\n",
      "\n",
      "========================================\n",
      "| Model loaded successfully from: ./SavedModels/0.8159_LSTMPredNextAmountSpecificModel_AOW_CompleteOnly_2021-06-29 18:25:07.216254  \n",
      "========================================\n"
     ]
    }
   ],
   "source": [
    "pred_model = LSTMPredNextAmountSpecificModel.load(\n",
    "    \"./SavedModels/%s\" % (\n",
    "    \"0.8159_LSTMPredNextAmountSpecificModel_AOW_CompleteOnly_2021-06-29 18:25:07.216254\" \n",
    "    )\n",
    ")"
   ]
  },
  {
   "cell_type": "code",
   "execution_count": 6,
   "metadata": {},
   "outputs": [
    {
     "output_type": "stream",
     "name": "stdout",
     "text": [
      "Model: \"LSTMPredNextAmountSpecificModel\"\n_________________________________________________________________\nLayer (type)                 Output Shape              Param #   \n=================================================================\nembedding (Embedding)        multiple                  832       \n_________________________________________________________________\nembedding_1 (Embedding)      multiple                  9216      \n_________________________________________________________________\nlstm (LSTM)                  multiple                  24832     \n_________________________________________________________________\nlstm_1 (LSTM)                multiple                  49408     \n_________________________________________________________________\nsequential (Sequential)      (1, 64)                   4544      \n_________________________________________________________________\nsequential_1 (Sequential)    (1, 1, 26)                15066     \n=================================================================\nTotal params: 103,898\nTrainable params: 103,258\nNon-trainable params: 640\n_________________________________________________________________\n"
     ]
    }
   ],
   "source": [
    "_ = pred_model(**pred_model.get_example_input())\n",
    "pred_model.summary()"
   ]
  },
  {
   "cell_type": "code",
   "execution_count": 7,
   "metadata": {},
   "outputs": [
    {
     "output_type": "stream",
     "name": "stdout",
     "text": [
      "\n",
      "========================================Predict result========================================\n",
      "| Predicted activity with highest probability (1.00) is \"O_SELECTED_COMPLETE\" \n",
      "==============================================================================================\n",
      "\n",
      "\n",
      "\n",
      "<PAD>                                      9.458650e-11\n",
      "<EOS>                                      1.162047e-11\n",
      "<SOS>                                      1.214198e-09\n",
      "A_ACCEPTED_COMPLETE                        1.298703e-08\n",
      "A_ACTIVATED_COMPLETE                       3.833323e-09\n",
      "A_APPROVED_COMPLETE                        7.352894e-09\n",
      "A_CANCELLED_COMPLETE                       1.139191e-04\n",
      "A_DECLINED_COMPLETE                        1.029128e-06\n",
      "A_FINALIZED_COMPLETE                       2.934446e-05\n",
      "A_PARTLYSUBMITTED_COMPLETE                 2.463539e-10\n",
      "A_PREACCEPTED_COMPLETE                     9.000219e-11\n",
      "A_REGISTERED_COMPLETE                      1.219479e-10\n",
      "A_SUBMITTED_COMPLETE                       2.929607e-10\n",
      "O_ACCEPTED_COMPLETE                        1.501033e-10\n",
      "O_CANCELLED_COMPLETE                       4.711716e-09\n",
      "O_CREATED_COMPLETE                         5.534542e-05\n",
      "O_DECLINED_COMPLETE                        4.675891e-10\n",
      "O_SELECTED_COMPLETE                        9.997944e-01\n",
      "O_SENT_BACK_COMPLETE                       5.258974e-10\n",
      "O_SENT_COMPLETE                            1.164806e-07\n",
      "W_Afhandelen leads_COMPLETE                1.094385e-08\n",
      "W_Beoordelen fraude_COMPLETE               1.853643e-09\n",
      "W_Completeren aanvraag_COMPLETE            5.772594e-06\n",
      "W_Nabellen incomplete dossiers_COMPLETE    9.320448e-11\n",
      "W_Nabellen offertes_COMPLETE               8.144634e-11\n",
      "W_Valideren aanvraag_COMPLETE              5.907909e-10\n",
      "Name: 0, dtype: float64\n"
     ]
    }
   ],
   "source": [
    "##### Get model output\n",
    "example_activities_input = tf.constant(example_idx_activities)\n",
    "example_resources_input = tf.constant(example_idx_resources)\n",
    "example_amount_input = tf.constant(example_amount)\n",
    "\n",
    "predicted_df = print_model_prediction_result(pred_model, example_activities_input, example_resources_input, example_amount_input)"
   ]
  },
  {
   "cell_type": "code",
   "execution_count": 8,
   "metadata": {},
   "outputs": [
    {
     "output_type": "execute_result",
     "data": {
      "text/plain": [
       "          <PAD>         <EOS>         <SOS>  A_ACCEPTED_COMPLETE  \\\n",
       "0  9.458650e-11  1.162047e-11  1.214198e-09         1.298703e-08   \n",
       "\n",
       "   A_ACTIVATED_COMPLETE  A_APPROVED_COMPLETE  A_CANCELLED_COMPLETE  \\\n",
       "0          3.833323e-09         7.352894e-09              0.000114   \n",
       "\n",
       "   A_DECLINED_COMPLETE  A_FINALIZED_COMPLETE  A_PARTLYSUBMITTED_COMPLETE  ...  \\\n",
       "0             0.000001              0.000029                2.463539e-10  ...   \n",
       "\n",
       "   O_DECLINED_COMPLETE  O_SELECTED_COMPLETE  O_SENT_BACK_COMPLETE  \\\n",
       "0         4.675891e-10             0.999794          5.258974e-10   \n",
       "\n",
       "   O_SENT_COMPLETE  W_Afhandelen leads_COMPLETE  W_Beoordelen fraude_COMPLETE  \\\n",
       "0     1.164806e-07                 1.094385e-08                  1.853643e-09   \n",
       "\n",
       "   W_Completeren aanvraag_COMPLETE  W_Nabellen incomplete dossiers_COMPLETE  \\\n",
       "0                         0.000006                             9.320448e-11   \n",
       "\n",
       "   W_Nabellen offertes_COMPLETE  W_Valideren aanvraag_COMPLETE  \n",
       "0                  8.144634e-11                   5.907909e-10  \n",
       "\n",
       "[1 rows x 26 columns]"
      ],
      "text/html": "<div>\n<style scoped>\n    .dataframe tbody tr th:only-of-type {\n        vertical-align: middle;\n    }\n\n    .dataframe tbody tr th {\n        vertical-align: top;\n    }\n\n    .dataframe thead th {\n        text-align: right;\n    }\n</style>\n<table border=\"1\" class=\"dataframe\">\n  <thead>\n    <tr style=\"text-align: right;\">\n      <th></th>\n      <th>&lt;PAD&gt;</th>\n      <th>&lt;EOS&gt;</th>\n      <th>&lt;SOS&gt;</th>\n      <th>A_ACCEPTED_COMPLETE</th>\n      <th>A_ACTIVATED_COMPLETE</th>\n      <th>A_APPROVED_COMPLETE</th>\n      <th>A_CANCELLED_COMPLETE</th>\n      <th>A_DECLINED_COMPLETE</th>\n      <th>A_FINALIZED_COMPLETE</th>\n      <th>A_PARTLYSUBMITTED_COMPLETE</th>\n      <th>...</th>\n      <th>O_DECLINED_COMPLETE</th>\n      <th>O_SELECTED_COMPLETE</th>\n      <th>O_SENT_BACK_COMPLETE</th>\n      <th>O_SENT_COMPLETE</th>\n      <th>W_Afhandelen leads_COMPLETE</th>\n      <th>W_Beoordelen fraude_COMPLETE</th>\n      <th>W_Completeren aanvraag_COMPLETE</th>\n      <th>W_Nabellen incomplete dossiers_COMPLETE</th>\n      <th>W_Nabellen offertes_COMPLETE</th>\n      <th>W_Valideren aanvraag_COMPLETE</th>\n    </tr>\n  </thead>\n  <tbody>\n    <tr>\n      <th>0</th>\n      <td>9.458650e-11</td>\n      <td>1.162047e-11</td>\n      <td>1.214198e-09</td>\n      <td>1.298703e-08</td>\n      <td>3.833323e-09</td>\n      <td>7.352894e-09</td>\n      <td>0.000114</td>\n      <td>0.000001</td>\n      <td>0.000029</td>\n      <td>2.463539e-10</td>\n      <td>...</td>\n      <td>4.675891e-10</td>\n      <td>0.999794</td>\n      <td>5.258974e-10</td>\n      <td>1.164806e-07</td>\n      <td>1.094385e-08</td>\n      <td>1.853643e-09</td>\n      <td>0.000006</td>\n      <td>9.320448e-11</td>\n      <td>8.144634e-11</td>\n      <td>5.907909e-10</td>\n    </tr>\n  </tbody>\n</table>\n<p>1 rows × 26 columns</p>\n</div>"
     },
     "metadata": {},
     "execution_count": 8
    }
   ],
   "source": [
    "predicted_df"
   ]
  },
  {
   "cell_type": "code",
   "execution_count": 9,
   "metadata": {},
   "outputs": [
    {
     "output_type": "stream",
     "name": "stdout",
     "text": [
      "\n",
      "==============================Example activities without tags==============================\n",
      "| ['A_SUBMITTED_COMPLETE', 'A_PARTLYSUBMITTED_COMPLETE', 'A_PREACCEPTED_COMPLETE', 'W_Completeren aanvraag_COMPLETE', 'W_Completeren aanvraag_COMPLETE', 'A_ACCEPTED_COMPLETE', 'A_FINALIZED_COMPLETE'] \n",
      "===========================================================================================\n",
      "\n",
      "==============================Example resources without tags==============================\n",
      "| ['112', '112', '112', '11180', '11201', '11201', '11201'] \n",
      "==========================================================================================\n",
      "\n",
      "=================================Amount=================================\n",
      "| [15500.0] \n",
      "========================================================================\n"
     ]
    }
   ],
   "source": [
    "no_need_tags = ['<EOS>', '<SOS>', '<PAD>']\n",
    "\n",
    "possible_activities = [ a for a in list(pred_model.activity_vocab.vocabs) if  not a in no_need_tags]\n",
    "possible_resources =  [ r for r in list(pred_model.resource_vocab.vocabs) if  not r in no_need_tags]\n",
    "\n",
    "example_vocab_activities_no_tag = remove_tags_for_seq(example_vocab_activities, no_need_tags)\n",
    "\n",
    "example_vocab_resources_no_tag = remove_tags_for_seq(example_vocab_resources, no_need_tags)\n",
    "\n",
    "# transform to possible dim\n",
    "example_idx_activities_no_tag = [ possible_activities.index(v)   for v in example_vocab_activities_no_tag ]\n",
    "\n",
    "example_idx_resources_no_tag = [\n",
    "possible_resources.index(v)   for v in example_vocab_resources_no_tag    \n",
    "]\n",
    "\n",
    "example_trace_len_no_tag = len(example_vocab_activities_no_tag)\n",
    "#### Determine feature names for DiCE ####\n",
    "activity_feature_names = np.array([\"activity_step_%d\" % (i+1) for i in range(example_trace_len_no_tag)])\n",
    "resource_feature_names = np.array([\"resource_step_%d\" % (i+1) for i in range(example_trace_len_no_tag)])\n",
    "possbile_amount = [min(dataset.df[\"amount\"]), max(dataset.df[\"amount\"])]\n",
    "\n",
    "print_block(example_vocab_activities_no_tag ,title=\"Example activities without tags\", num_marks = 30)\n",
    "print_block(example_vocab_resources_no_tag ,title=\"Example resources without tags\", num_marks = 30)\n",
    "print_block(example_amount, title=\"=================Amount=================\", num_marks=16)"
   ]
  },
  {
   "cell_type": "code",
   "execution_count": 10,
   "metadata": {},
   "outputs": [],
   "source": [
    "dice_wrapper = DiCEDefferientiableWrapper(\n",
    "    model=pred_model,\n",
    "    activity_vocab=pred_model.activity_vocab,\n",
    "    resource_vocab=pred_model.resource_vocab,\n",
    "    trace_length = example_trace_len_no_tag,\n",
    "    sos_idx_activity=pred_model.activity_vocab.vocab_to_index(\"<SOS>\"),\n",
    "    sos_idx_resource= pred_model.resource_vocab.vocab_to_index('<SOS>'),\n",
    "    amount_min = possbile_amount[0],\n",
    "    amount_max = possbile_amount[1],\n",
    "    possible_resources=possible_resources,\n",
    "    possible_activities=possible_activities \n",
    ")"
   ]
  },
  {
   "cell_type": "code",
   "execution_count": 11,
   "metadata": {},
   "outputs": [
    {
     "output_type": "stream",
     "name": "stdout",
     "text": [
      "\n",
      "========================================\n",
      "| Model parameters loaded successfully from: ./SavedModels/0.9855_LSTMScenarioCfWithResourceModel_AOW_CompleteOnly_20_times_2021-06-29 10:12:02.918758  \n",
      "========================================\n",
      "\n",
      "========================================\n",
      "| Vocab loaded successfully from: ./SavedModels/0.9855_LSTMScenarioCfWithResourceModel_AOW_CompleteOnly_20_times_2021-06-29 10:12:02.918758  \n",
      "========================================\n",
      "\n",
      "========================================\n",
      "| Model loaded successfully from: ./SavedModels/0.9855_LSTMScenarioCfWithResourceModel_AOW_CompleteOnly_20_times_2021-06-29 10:12:02.918758  \n",
      "========================================\n"
     ]
    }
   ],
   "source": [
    "scenario_model = LSTMScenarioCfWithResourceModel.load(\n",
    "    \"./SavedModels/%s\" % (\"0.9855_LSTMScenarioCfWithResourceModel_AOW_CompleteOnly_20_times_2021-06-29 10:12:02.918758\" \n",
    "    )\n",
    ")"
   ]
  },
  {
   "cell_type": "code",
   "execution_count": 12,
   "metadata": {},
   "outputs": [
    {
     "output_type": "stream",
     "name": "stdout",
     "text": [
      "Model: \"LSTMScenarioCfWithResourceModel\"\n_________________________________________________________________\nLayer (type)                 Output Shape              Param #   \n=================================================================\nembedding_2 (Embedding)      multiple                  832       \n_________________________________________________________________\nembedding_3 (Embedding)      multiple                  9216      \n_________________________________________________________________\nlstm_2 (LSTM)                multiple                  24832     \n_________________________________________________________________\nlstm_3 (LSTM)                multiple                  49408     \n_________________________________________________________________\nsequential_2 (Sequential)    (1, 1, 1)                 9157      \n=================================================================\nTotal params: 93,445\nTrainable params: 93,059\nNon-trainable params: 386\n_________________________________________________________________\n"
     ]
    }
   ],
   "source": [
    "_ = scenario_model(**scenario_model.get_example_input())\n",
    "scenario_model.summary()"
   ]
  },
  {
   "cell_type": "code",
   "execution_count": 13,
   "metadata": {},
   "outputs": [],
   "source": [
    "dice = EventLogDiCE(\n",
    "    dataset.activity_vocab,\n",
    "    dataset.resource_vocab,\n",
    "    possbile_amount,\n",
    "    possible_activities,\n",
    "    possible_resources, \n",
    "    dice_wrapper,\n",
    "    scenario_model\n",
    "    )"
   ]
  },
  {
   "cell_type": "code",
   "execution_count": 34,
   "metadata": {
    "tags": []
   },
   "outputs": [
    {
     "output_type": "stream",
     "name": "stdout",
     "text": [
      "\n",
      "====================Model Prediction====================\n",
      "| Prediction: [O_SELECTED_COMPLETE(17)] | Desired: [A_DECLINED_COMPLETE(7)] \n",
      "========================================================\n",
      "\n",
      "====================Counterfactual Process====================\n",
      "| [0] ==========> [1] \n",
      "==============================================================\n",
      "\n",
      "====================Step 20 Loss====================\n",
      "| Total [54340528.00] | Scenario [54.34] | Class [2.07] | Category [9879.00] | Distance [407.50] \n",
      "====================================================\n",
      "\n",
      "====================Step 20 CF predicted====================\n",
      "| Invalid: A_DECLINED_COMPLETE (7) | Valid: O_SENT_BACK_COMPLETE (18) \n",
      "============================================================\n",
      "\n",
      "====================Step 40 Loss====================\n",
      "| Total [61656628.00] | Scenario [61.66] | Class [1.95] | Category [12599.00] | Distance [714.00] \n",
      "====================================================\n",
      "\n",
      "====================Step 40 CF predicted====================\n",
      "| Invalid: A_DECLINED_COMPLETE (7) | Valid: <EOS> (1) \n",
      "============================================================\n",
      "\n",
      "====================Step 60 Loss====================\n",
      "| Total [62551080.00] | Scenario [62.55] | Class [1.98] | Category [10581.50] | Distance [1204.00] \n",
      "====================================================\n",
      "\n",
      "====================Step 60 CF predicted====================\n",
      "| Invalid: A_DECLINED_COMPLETE (7) | Valid: W_Valideren aanvraag_COMPLETE (25) \n",
      "============================================================\n",
      "\n",
      "====================Step 80 Loss====================\n",
      "| Total [61295296.00] | Scenario [61.30] | Class [2.08] | Category [10201.24] | Distance [1896.25] \n",
      "====================================================\n",
      "\n",
      "====================Step 80 CF predicted====================\n",
      "| Invalid: A_DECLINED_COMPLETE (7) | Valid: O_SELECTED_COMPLETE (17) \n",
      "============================================================\n",
      "\n",
      "====================!Counterfactual Found in step [91]!====================\n",
      "| Running time: 17.93 \n",
      "===========================================================================\n",
      "\n",
      "====================Input Amount====================\n",
      "| [15500.] \n",
      "====================================================\n",
      "\n",
      "====================Input Activities====================\n",
      "| ['A_SUBMITTED_COMPLETE', 'A_PARTLYSUBMITTED_COMPLETE', 'A_PREACCEPTED_COMPLETE', 'W_Completeren aanvraag_COMPLETE', 'W_Completeren aanvraag_COMPLETE', 'A_ACCEPTED_COMPLETE', 'A_FINALIZED_COMPLETE'] \n",
      "========================================================\n",
      "\n",
      "====================Input Resource====================\n",
      "| ['112', '112', '112', '11180', '11201', '11201', '11201'] \n",
      "======================================================\n",
      "\n",
      "====================Valid CF Amount====================\n",
      "| 15454.5 \n",
      "=======================================================\n",
      "\n",
      "====================Valid CF Activities====================\n",
      "| ['O_CANCELLED_COMPLETE', 'A_CANCELLED_COMPLETE', 'A_SUBMITTED_COMPLETE', 'O_ACCEPTED_COMPLETE', 'O_CANCELLED_COMPLETE', 'A_REGISTERED_COMPLETE', 'A_SUBMITTED_COMPLETE'] \n",
      "===========================================================\n",
      "\n",
      "====================Valid CF Resource====================\n",
      "| ['10138', '10188', '10188', '10228', '10138', '10609', '10125'] \n",
      "=========================================================\n",
      "\n",
      "====================Valid CF scenario output====================\n",
      "| [0.7 0.  0.  0.  0.  0.  0.  0. ] \n",
      "================================================================\n",
      "\n",
      "====================!Counterfactual Found in step [93]!====================\n",
      "| Running time: 18.35 \n",
      "===========================================================================\n",
      "\n",
      "====================Input Amount====================\n",
      "| [15500.] \n",
      "====================================================\n",
      "\n",
      "====================Input Activities====================\n",
      "| ['A_SUBMITTED_COMPLETE', 'A_PARTLYSUBMITTED_COMPLETE', 'A_PREACCEPTED_COMPLETE', 'W_Completeren aanvraag_COMPLETE', 'W_Completeren aanvraag_COMPLETE', 'A_ACCEPTED_COMPLETE', 'A_FINALIZED_COMPLETE'] \n",
      "========================================================\n",
      "\n",
      "====================Input Resource====================\n",
      "| ['112', '112', '112', '11180', '11201', '11201', '11201'] \n",
      "======================================================\n",
      "\n",
      "====================Valid CF Amount====================\n",
      "| 15453.5 \n",
      "=======================================================\n",
      "\n",
      "====================Valid CF Activities====================\n",
      "| ['A_ACTIVATED_COMPLETE', 'A_CANCELLED_COMPLETE', 'A_SUBMITTED_COMPLETE', 'A_REGISTERED_COMPLETE', 'O_CANCELLED_COMPLETE', 'A_REGISTERED_COMPLETE', 'A_SUBMITTED_COMPLETE'] \n",
      "===========================================================\n",
      "\n",
      "====================Valid CF Resource====================\n",
      "| ['10188', '10188', '10138', '10138', '10138', '10138', '10138'] \n",
      "=========================================================\n",
      "\n",
      "====================Valid CF scenario output====================\n",
      "| [0.7 0.  0.  0.  0.  0.  0.  0. ] \n",
      "================================================================\n",
      "\n",
      "====================Step 100 Loss====================\n",
      "| Total [72460216.00] | Scenario [72.46] | Class [1.79] | Category [11379.75] | Distance [2791.75] \n",
      "=====================================================\n",
      "\n",
      "====================Step 100 CF predicted====================\n",
      "| Invalid: A_DECLINED_COMPLETE (7) | Valid: <EOS> (1) \n",
      "=============================================================\n",
      "\n",
      "====================Step 120 Loss====================\n",
      "| Total [65175056.00] | Scenario [65.17] | Class [1.79] | Category [12393.24] | Distance [3909.25] \n",
      "=====================================================\n",
      "\n",
      "====================Step 120 CF predicted====================\n",
      "| Invalid: A_DECLINED_COMPLETE (7) | Valid: W_Valideren aanvraag_COMPLETE (25) \n",
      "=============================================================\n",
      "\n",
      "====================Step 140 Loss====================\n",
      "| Total [61685096.00] | Scenario [61.68] | Class [2.01] | Category [9834.23] | Distance [5209.25] \n",
      "=====================================================\n",
      "\n",
      "====================Step 140 CF predicted====================\n",
      "| Invalid: A_DECLINED_COMPLETE (7) | Valid: W_Valideren aanvraag_COMPLETE (25) \n",
      "=============================================================\n",
      "\n",
      "====================Step 160 Loss====================\n",
      "| Total [65441768.00] | Scenario [65.44] | Class [1.79] | Category [11197.49] | Distance [6702.00] \n",
      "=====================================================\n",
      "\n",
      "====================Step 160 CF predicted====================\n",
      "| Invalid: A_DECLINED_COMPLETE (7) | Valid: <EOS> (1) \n",
      "=============================================================\n",
      "\n",
      "====================!Counterfactual Found in step [166]!====================\n",
      "| Running time: 33.08 \n",
      "============================================================================\n",
      "\n",
      "====================Input Amount====================\n",
      "| [15500.] \n",
      "====================================================\n",
      "\n",
      "====================Input Activities====================\n",
      "| ['A_SUBMITTED_COMPLETE', 'A_PARTLYSUBMITTED_COMPLETE', 'A_PREACCEPTED_COMPLETE', 'W_Completeren aanvraag_COMPLETE', 'W_Completeren aanvraag_COMPLETE', 'A_ACCEPTED_COMPLETE', 'A_FINALIZED_COMPLETE'] \n",
      "========================================================\n",
      "\n",
      "====================Input Resource====================\n",
      "| ['112', '112', '112', '11180', '11201', '11201', '11201'] \n",
      "======================================================\n",
      "\n",
      "====================Valid CF Amount====================\n",
      "| 15417.0 \n",
      "=======================================================\n",
      "\n",
      "====================Valid CF Activities====================\n",
      "| ['A_FINALIZED_COMPLETE', 'O_CANCELLED_COMPLETE', 'A_SUBMITTED_COMPLETE', 'O_CANCELLED_COMPLETE', 'O_CANCELLED_COMPLETE', 'O_CANCELLED_COMPLETE', 'A_ACTIVATED_COMPLETE'] \n",
      "===========================================================\n",
      "\n",
      "====================Valid CF Resource====================\n",
      "| ['10188', '10124', '10124', '10609', '10138', '10138', '10124'] \n",
      "=========================================================\n",
      "\n",
      "====================Valid CF scenario output====================\n",
      "| [0.7 0.  0.  0.  0.  0.  0.  0. ] \n",
      "================================================================\n",
      "\n",
      "====================Step 180 Loss====================\n",
      "| Total [65673480.00] | Scenario [65.67] | Class [2.08] | Category [9372.49] | Distance [8392.50] \n",
      "=====================================================\n",
      "\n",
      "====================Step 180 CF predicted====================\n",
      "| Invalid: A_DECLINED_COMPLETE (7) | Valid: W_Valideren aanvraag_COMPLETE (25) \n",
      "=============================================================\n",
      "\n",
      "====================Input Amount====================\n",
      "| [15500.] \n",
      "====================================================\n",
      "\n",
      "====================Input Activities====================\n",
      "| ['A_SUBMITTED_COMPLETE', 'A_PARTLYSUBMITTED_COMPLETE', 'A_PREACCEPTED_COMPLETE', 'W_Completeren aanvraag_COMPLETE', 'W_Completeren aanvraag_COMPLETE', 'A_ACCEPTED_COMPLETE', 'A_FINALIZED_COMPLETE'] \n",
      "========================================================\n",
      "\n",
      "====================Input Resource====================\n",
      "| ['112', '112', '112', '11180', '11201', '11201', '11201'] \n",
      "======================================================\n",
      "\n",
      "====================Current CF Amount====================\n",
      "| 15400.0 \n",
      "=========================================================\n",
      "\n",
      "====================Current CF Activities====================\n",
      "| ['O_CANCELLED_COMPLETE', 'O_CANCELLED_COMPLETE', 'A_SUBMITTED_COMPLETE', 'O_CANCELLED_COMPLETE', 'O_CANCELLED_COMPLETE', 'O_CANCELLED_COMPLETE', 'A_CANCELLED_COMPLETE'] \n",
      "=============================================================\n",
      "\n",
      "====================Current CF Resource====================\n",
      "| ['10124', '10188', '10138', '10138', '10138', '10125', '10188'] \n",
      "===========================================================\n"
     ]
    }
   ],
   "source": [
    "cf_out = dice.run_pls(\n",
    "    ## Input\n",
    "    example_amount_input.numpy(),\n",
    "    example_idx_activities_no_tag,\n",
    "    example_idx_resources_no_tag,\n",
    "    desired_vocab = \"A_DECLINED_COMPLETE\",\n",
    "    \n",
    "    ## Weight\n",
    "    class_loss_weight = 2,\n",
    "    scenario_weight = 1e6,\n",
    "    distance_loss_weight = 1e-8,\n",
    "    cat_loss_weight = 1e-2,\n",
    "    \n",
    "    ## Training parameters\n",
    "    scenario_threshold = 0.1,\n",
    "    max_iter=200,\n",
    "    lr=0.5,\n",
    "    \n",
    "    ## Options\n",
    "    use_valid_cf_only=False,\n",
    "    use_sampling=True,\n",
    "    class_using_hinge_loss=False,\n",
    "    scenario_using_hinge_loss=False,\n",
    "    use_clipping=True, \n",
    ")"
   ]
  },
  {
   "cell_type": "code",
   "execution_count": null,
   "metadata": {},
   "outputs": [],
   "source": []
  }
 ]
}