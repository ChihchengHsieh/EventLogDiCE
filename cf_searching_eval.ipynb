{
 "cells": [
  {
   "cell_type": "code",
   "execution_count": 1,
   "source": [
    "import json\n",
    "import textdistance\n",
    "import pandas as pd"
   ],
   "outputs": [],
   "metadata": {}
  },
  {
   "cell_type": "code",
   "execution_count": 2,
   "source": [
    "input_activities = ['<SOS>', 'A_SUBMITTED_COMPLETE', 'A_PARTLYSUBMITTED_COMPLETE', 'A_PREACCEPTED_COMPLETE', 'W_Completeren aanvraag_COMPLETE', 'W_Completeren aanvraag_COMPLETE', 'A_ACCEPTED_COMPLETE', 'A_FINALIZED_COMPLETE', 'O_SELECTED_COMPLETE', 'O_CREATED_COMPLETE', 'O_SENT_COMPLETE', 'W_Completeren aanvraag_COMPLETE', 'O_SENT_BACK_COMPLETE', 'W_Nabellen offertes_COMPLETE', 'O_ACCEPTED_COMPLETE', 'A_APPROVED_COMPLETE', 'A_REGISTERED_COMPLETE', 'A_ACTIVATED_COMPLETE', 'W_Valideren aanvraag_COMPLETE']\n",
    "input_resources = ['<SOS>', '112', '112', '112', '11180', '11201', '11201', '11201', '11201', '11201', '11201', '11201', '11049', '11049', '10629', '10629', '10629', '10629', '10629']\n",
    "input_amount = 15500.0"
   ],
   "outputs": [],
   "metadata": {}
  },
  {
   "cell_type": "code",
   "execution_count": 3,
   "source": [
    "def pad_length(x, to_length, padding_value=None):\n",
    "    return x + ([padding_value]* (to_length - len(x)))\n",
    "\n",
    "def get_L2(x, y):\n",
    "    max_length = max(len(x), len(y))\n",
    "    padded_x = pad_length(x, max_length)\n",
    "    padded_y = pad_length(y, max_length)\n",
    "    assert(len(padded_x) == len(padded_y))\n",
    "\n",
    "    distance = sum([0 if padded_x[idx] == padded_y[idx] else 1 for idx in range(len(padded_x))])\n",
    "\n",
    "    return distance ** (1/2)\n"
   ],
   "outputs": [],
   "metadata": {}
  },
  {
   "cell_type": "code",
   "execution_count": 4,
   "source": [
    "all_results = {}"
   ],
   "outputs": [],
   "metadata": {}
  },
  {
   "cell_type": "code",
   "execution_count": 5,
   "source": [
    "all_ground_truth_vocabs = [\"A_ACCEPTED_COMPLETE\", \"A_APPROVED_COMPLETE\", \"A_FINALIZED_COMPLETE\"]\n",
    "# ground_truth_vocab = \"A_ACCEPTED_COMPLETE\" # [\"A_ACCEPTED_COMPLETE\", \"A_APPROVED_COMPLETE\", \"A_FINALIZED_COMPLETE\", ]\n",
    "for ground_truth_vocab in all_ground_truth_vocabs:\n",
    "    idx = input_activities.index(ground_truth_vocab)\n",
    "    milestone_activities = input_activities[:idx]\n",
    "    milestone_resources = input_resources[:idx]\n",
    "    milestone_amount = input_amount\n",
    "\n",
    "    same_amount_file_name =  f'cf_{ground_truth_vocab}_Amount_{input_amount}_ReplaceAmount_None_result'\n",
    "    amount_replace_file_name= f'cf_{ground_truth_vocab}_Amount_None_ReplaceAmount_{input_amount}_result'\n",
    "    case_amonut_file_name = f'cf_{ground_truth_vocab}_Amount_None_ReplaceAmount_None_result'\n",
    "\n",
    "    for file_name in [same_amount_file_name, amount_replace_file_name, case_amonut_file_name]:\n",
    "        result_df = pd.read_csv(f'./cf_searching_result/{file_name}.csv')\n",
    "\n",
    "        result_df['activity_sparcity'] = result_df['activity_vocab'].apply(lambda x: textdistance.levenshtein.distance(milestone_activities, json.loads(x.replace('\\'', \"\\\"\"))))\n",
    "        result_df['resource_sparcity'] = result_df['resource_vocab'].apply(lambda x: textdistance.levenshtein.distance(milestone_resources, json.loads(x.replace('\\'', \"\\\"\"))))\n",
    "        result_df['sparcity'] = result_df['activity_sparcity'] + result_df['resource_sparcity'] \n",
    "\n",
    "        result_df['activity_proximity'] = result_df['activity_vocab'].apply(lambda x: get_L2(milestone_activities,json.loads(x.replace('\\'', \"\\\"\"))))\n",
    "        result_df['resource_proximity'] = result_df['resource_vocab'].apply(lambda x: get_L2(milestone_resources,json.loads(x.replace('\\'', \"\\\"\"))))\n",
    "        result_df['proximity'] = ((result_df['activity_proximity']**2) + (result_df['resource_proximity']**2))**(1/2)\n",
    "\n",
    "        result_df.to_csv(f'./cf_searching_eval/{file_name}_eval.csv')\n",
    "        all_results[file_name] = result_df.copy(deep=True)"
   ],
   "outputs": [],
   "metadata": {}
  },
  {
   "cell_type": "code",
   "execution_count": 10,
   "source": [
    "eval_cols = ['activity_proximity', 'resource_proximity', 'activity_sparcity', 'resource_sparcity']"
   ],
   "outputs": [],
   "metadata": {}
  },
  {
   "cell_type": "code",
   "execution_count": 11,
   "source": [
    "eval_results = {}\n",
    "\n",
    "for col in eval_cols:\n",
    "    eval_results[col] = []"
   ],
   "outputs": [],
   "metadata": {}
  },
  {
   "cell_type": "code",
   "execution_count": 15,
   "source": [
    "for k in all_results.keys():\n",
    "    for col in eval_cols:\n",
    "        eval_results[col] = eval_results[col] + all_results[k][col].tolist()"
   ],
   "outputs": [],
   "metadata": {}
  },
  {
   "cell_type": "code",
   "execution_count": 18,
   "source": [
    "import numpy as np"
   ],
   "outputs": [],
   "metadata": {}
  },
  {
   "cell_type": "code",
   "execution_count": 20,
   "source": [
    "for k in eval_results.keys():\n",
    "    print(f\"{k}: {np.mean(eval_results[k])}\")"
   ],
   "outputs": [
    {
     "output_type": "stream",
     "name": "stdout",
     "text": [
      "activity_proximity: 2.3531804328705026\n",
      "resource_proximity: 2.656455064429225\n",
      "activity_sparcity: 5.4492207139265965\n",
      "resource_sparcity: 8.294746103569633\n"
     ]
    }
   ],
   "metadata": {}
  },
  {
   "cell_type": "code",
   "execution_count": null,
   "source": [],
   "outputs": [],
   "metadata": {}
  }
 ],
 "metadata": {
  "orig_nbformat": 4,
  "language_info": {
   "name": "python",
   "version": "3.8.10",
   "mimetype": "text/x-python",
   "codemirror_mode": {
    "name": "ipython",
    "version": 3
   },
   "pygments_lexer": "ipython3",
   "nbconvert_exporter": "python",
   "file_extension": ".py"
  },
  "kernelspec": {
   "name": "python3",
   "display_name": "Python 3.8.10 64-bit ('tf_mac': conda)"
  },
  "interpreter": {
   "hash": "5c622353f32ef24c8d83e5c3e334107c074e82d7c3e8ca52c56b9fc900ce33e6"
  }
 },
 "nbformat": 4,
 "nbformat_minor": 2
}