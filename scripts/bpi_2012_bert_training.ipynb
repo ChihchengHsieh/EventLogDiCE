{
 "metadata": {
  "language_info": {
   "codemirror_mode": {
    "name": "ipython",
    "version": 3
   },
   "file_extension": ".py",
   "mimetype": "text/x-python",
   "name": "python",
   "nbconvert_exporter": "python",
   "pygments_lexer": "ipython3",
   "version": "3.8.10"
  },
  "orig_nbformat": 4,
  "kernelspec": {
   "name": "python3",
   "display_name": "Python 3.8.10 64-bit ('tf_mac': conda)"
  },
  "interpreter": {
   "hash": "5c622353f32ef24c8d83e5c3e334107c074e82d7c3e8ca52c56b9fc900ce33e6"
  }
 },
 "nbformat": 4,
 "nbformat_minor": 2,
 "cells": [
  {
   "cell_type": "code",
   "execution_count": 1,
   "source": [
    "from dataset import BPI2012Dataset\n",
    "from parameters.dataset import BPI2012Parameters\n",
    "from utils.save import get_json_dict\n",
    "from parameters.training import TrainingParameters, LossParameters, OptimizerParameters\n",
    "from parameters.model import PredNextBERTParameters\n",
    "from model import PredNextBERT\n",
    "from controller import TrainingController"
   ],
   "outputs": [],
   "metadata": {}
  },
  {
   "cell_type": "code",
   "execution_count": 2,
   "source": [
    "bpi_2012_parms = BPI2012Parameters()"
   ],
   "outputs": [],
   "metadata": {}
  },
  {
   "cell_type": "code",
   "execution_count": 3,
   "source": [
    "get_json_dict(bpi_2012_parms)"
   ],
   "outputs": [
    {
     "output_type": "execute_result",
     "data": {
      "text/plain": [
       "{'file_path': './data/event_logs/BPI_Challenge_2012.xes',\n",
       " 'preprocessed_folder_path': './data/preprocessed/BPI_Challenge_2012_with_resource',\n",
       " 'include_types': ['A', 'O', 'W'],\n",
       " 'include_complete_only': True}"
      ]
     },
     "metadata": {},
     "execution_count": 3
    }
   ],
   "metadata": {}
  },
  {
   "cell_type": "code",
   "execution_count": 4,
   "source": [
    "dataset = BPI2012Dataset(bpi_2012_parms)"
   ],
   "outputs": [
    {
     "output_type": "stream",
     "name": "stdout",
     "text": [
      "\n",
      "========================================\n",
      "| Preprocessed data loaded successfully: ./data/preprocessed/BPI_Challenge_2012_with_resource/AOW_CompleteOnly \n",
      "========================================\n"
     ]
    }
   ],
   "metadata": {}
  },
  {
   "cell_type": "code",
   "execution_count": 5,
   "source": [
    "model_params = PredNextBERTParameters()"
   ],
   "outputs": [],
   "metadata": {}
  },
  {
   "cell_type": "code",
   "execution_count": 6,
   "source": [
    "get_json_dict(model_params)"
   ],
   "outputs": [
    {
     "output_type": "execute_result",
     "data": {
      "text/plain": [
       "{'num_layers': 4,\n",
       " 'model_dim': 32,\n",
       " 'feed_forward_dim': 64,\n",
       " 'num_heads': 4,\n",
       " 'dropout_rate': 0.1}"
      ]
     },
     "metadata": {},
     "execution_count": 6
    }
   ],
   "metadata": {}
  },
  {
   "cell_type": "code",
   "execution_count": 7,
   "source": [
    "model = PredNextBERT(\n",
    "    activity_vocab = dataset.activity_vocab,\n",
    "    parameters = model_params\n",
    ")"
   ],
   "outputs": [],
   "metadata": {}
  },
  {
   "cell_type": "code",
   "execution_count": 8,
   "source": [
    "train_params = TrainingParameters(\n",
    "    stop_epoch=50,\n",
    ")"
   ],
   "outputs": [],
   "metadata": {}
  },
  {
   "cell_type": "code",
   "execution_count": 9,
   "source": [
    "get_json_dict(train_params)"
   ],
   "outputs": [
    {
     "output_type": "execute_result",
     "data": {
      "text/plain": [
       "{'stop_epoch': 50,\n",
       " 'batch_size': 128,\n",
       " 'verbose_freq': 250,\n",
       " 'run_validation_freq': 80,\n",
       " 'train_test_split_portion': [0.8, 0.1],\n",
       " 'random_seed': 12345}"
      ]
     },
     "metadata": {},
     "execution_count": 9
    }
   ],
   "metadata": {}
  },
  {
   "cell_type": "code",
   "execution_count": 10,
   "source": [
    "from parameters.enum import SelectableLoss, SelectableLrScheduler, SelectableOptimizer"
   ],
   "outputs": [],
   "metadata": {}
  },
  {
   "cell_type": "code",
   "execution_count": 11,
   "source": [
    "loss_params = LossParameters(\n",
    "    loss=SelectableLoss.CrossEntropy,\n",
    "    from_logits=True\n",
    ")"
   ],
   "outputs": [],
   "metadata": {}
  },
  {
   "cell_type": "code",
   "execution_count": 12,
   "source": [
    "get_json_dict(loss_params)"
   ],
   "outputs": [
    {
     "output_type": "execute_result",
     "data": {
      "text/plain": [
       "{'loss': 'CrossEntropy', 'from_logits': True}"
      ]
     },
     "metadata": {},
     "execution_count": 12
    }
   ],
   "metadata": {}
  },
  {
   "cell_type": "code",
   "execution_count": 13,
   "source": [
    "optim_params = OptimizerParameters(\n",
    "    optimizer=SelectableOptimizer.Adam,\n",
    "    lr_scheduler=SelectableLrScheduler.BERTScheduler,\n",
    ")"
   ],
   "outputs": [],
   "metadata": {}
  },
  {
   "cell_type": "code",
   "execution_count": 14,
   "source": [
    "get_json_dict(optim_params)"
   ],
   "outputs": [
    {
     "output_type": "execute_result",
     "data": {
      "text/plain": [
       "{'optimizer': 'Adam',\n",
       " 'learning_rate': 0.005,\n",
       " 'l2': 1e-10,\n",
       " 'lr_scheduler': 'BERTScheduler',\n",
       " 'lr_step_scheduler_step': 800,\n",
       " 'lr_setp_scheduler_gamma': 0.8,\n",
       " 'lr_exp_decay_scheduler_step': 1000,\n",
       " 'lr_exp_decay_scheduler_rate': 0.96,\n",
       " 'lr_exp_decay_scheduler_staircase': True,\n",
       " 'SGD_momentum': 0.9}"
      ]
     },
     "metadata": {},
     "execution_count": 14
    }
   ],
   "metadata": {}
  },
  {
   "cell_type": "code",
   "execution_count": 15,
   "source": [
    "controller = TrainingController(\n",
    "    dataset,\n",
    "    model,\n",
    "    train_params,\n",
    "    optim_params,\n",
    "    loss_params,\n",
    ")"
   ],
   "outputs": [
    {
     "output_type": "stream",
     "name": "stdout",
     "text": [
      "\n",
      "========================================\n",
      "| Running on /job:localhost/replica:0/task:0/device:CPU:0  \n",
      "========================================\n"
     ]
    }
   ],
   "metadata": {}
  },
  {
   "cell_type": "code",
   "execution_count": 16,
   "source": [
    "controller.model_info()"
   ],
   "outputs": [
    {
     "output_type": "stream",
     "name": "stdout",
     "text": [
      "Model: \"PredNextBERT\"\n",
      "_________________________________________________________________\n",
      "Layer (type)                 Output Shape              Param #   \n",
      "=================================================================\n",
      "predict_next_encoder (Predic multiple                  35008     \n",
      "_________________________________________________________________\n",
      "dense_24 (Dense)             multiple                  858       \n",
      "=================================================================\n",
      "Total params: 35,866\n",
      "Trainable params: 35,866\n",
      "Non-trainable params: 0\n",
      "_________________________________________________________________\n"
     ]
    }
   ],
   "metadata": {}
  },
  {
   "cell_type": "code",
   "execution_count": 17,
   "source": [
    "# tensorboard --logdir logs/gradient_tape --host localhost --port 8088\n",
    "test_accuracy = controller.train()"
   ],
   "outputs": [
    {
     "output_type": "stream",
     "name": "stdout",
     "text": [
      "\n",
      "========================================\n",
      "| Training records in logs/gradient_tape/20210704-061448 \n",
      "========================================\n",
      "\n",
      "========================================\n",
      "| Total epochs: 50 \n",
      "========================================\n",
      "\n",
      "========================================\n",
      "| Total steps: 4100 \n",
      "========================================\n",
      "\n",
      "========================================\n",
      "| Start epoch 0 \n",
      "========================================\n",
      "\n",
      "========================================\n",
      "| Evaluation result | Loss [3.0928] | Accuracy [0.1105]  \n",
      "========================================\n",
      "\n",
      "========================================\n",
      "| Start epoch 1 \n",
      "========================================\n",
      "\n",
      "========================================\n",
      "| Evaluation result | Loss [2.6773] | Accuracy [0.3009]  \n",
      "========================================\n",
      "\n",
      "========================================\n",
      "| Start epoch 2 \n",
      "========================================\n",
      "\n",
      "========================================\n",
      "| Evaluation result | Loss [1.8532] | Accuracy [0.4875]  \n",
      "========================================\n",
      "\n",
      "========================================\n",
      "| Start epoch 3 \n",
      "========================================\n",
      "\n",
      "========================================\n",
      "| Evaluation result | Loss [1.2777] | Accuracy [0.6446]  \n",
      "========================================\n",
      "\n",
      "========================================\n",
      "| Start epoch 4 \n",
      "========================================\n",
      "\n",
      "========================================\n",
      "| Evaluation result | Loss [1.0530] | Accuracy [0.6698]  \n",
      "========================================\n",
      "\n",
      "========================================\n",
      "| Start epoch 5 \n",
      "========================================\n",
      "\n",
      "========================================\n",
      "| Evaluation result | Loss [0.9200] | Accuracy [0.7062]  \n",
      "========================================\n",
      "\n",
      "========================================\n",
      "| Start epoch 6 \n",
      "========================================\n",
      "\n",
      "========================================\n",
      "| Evaluation result | Loss [0.8062] | Accuracy [0.7270]  \n",
      "========================================\n",
      "\n",
      "========================================\n",
      "| Start epoch 7 \n",
      "========================================\n",
      "\n",
      "========================================\n",
      "| Evaluation result | Loss [0.7215] | Accuracy [0.7469]  \n",
      "========================================\n",
      "\n",
      "========================================\n",
      "| Start epoch 8 \n",
      "========================================\n",
      "\n",
      "========================================\n",
      "| Evaluation result | Loss [0.6827] | Accuracy [0.7548]  \n",
      "========================================\n",
      "\n",
      "========================================\n",
      "| Start epoch 9 \n",
      "========================================\n",
      "\n",
      "========================================\n",
      "| Evaluation result | Loss [0.6561] | Accuracy [0.7618]  \n",
      "========================================\n",
      "\n",
      "========================================\n",
      "| Start epoch 10 \n",
      "========================================\n",
      "\n",
      "========================================\n",
      "| Evaluation result | Loss [0.6366] | Accuracy [0.7680]  \n",
      "========================================\n",
      "\n",
      "========================================\n",
      "| Start epoch 11 \n",
      "========================================\n",
      "\n",
      "========================================\n",
      "| Evaluation result | Loss [0.6206] | Accuracy [0.7711]  \n",
      "========================================\n",
      "\n",
      "========================================\n",
      "| Start epoch 12 \n",
      "========================================\n",
      "\n",
      "========================================\n",
      "| Evaluation result | Loss [0.6055] | Accuracy [0.7762]  \n",
      "========================================\n",
      "\n",
      "========================================\n",
      "| Start epoch 13 \n",
      "========================================\n",
      "\n",
      "========================================\n",
      "| Evaluation result | Loss [0.5917] | Accuracy [0.7818]  \n",
      "========================================\n",
      "\n",
      "========================================\n",
      "| Start epoch 14 \n",
      "========================================\n",
      "\n",
      "========================================\n",
      "| Evaluation result | Loss [0.5811] | Accuracy [0.7846]  \n",
      "========================================\n",
      "\n",
      "========================================\n",
      "| Start epoch 15 \n",
      "========================================\n",
      "\n",
      "========================================\n",
      "| Evaluation result | Loss [0.5747] | Accuracy [0.7870]  \n",
      "========================================\n",
      "\n",
      "========================================\n",
      "| Start epoch 16 \n",
      "========================================\n",
      "\n",
      "========================================\n",
      "| Evaluation result | Loss [0.5693] | Accuracy [0.7877]  \n",
      "========================================\n",
      "\n",
      "========================================\n",
      "| Start epoch 17 \n",
      "========================================\n",
      "\n",
      "========================================\n",
      "| Evaluation result | Loss [0.5627] | Accuracy [0.7882]  \n",
      "========================================\n",
      "\n",
      "========================================\n",
      "| Start epoch 18 \n",
      "========================================\n",
      "\n",
      "========================================\n",
      "| Evaluation result | Loss [0.5587] | Accuracy [0.7888]  \n",
      "========================================\n",
      "\n",
      "========================================\n",
      "| Start epoch 19 \n",
      "========================================\n",
      "\n",
      "========================================\n",
      "| Evaluation result | Loss [0.5601] | Accuracy [0.7828]  \n",
      "========================================\n",
      "\n",
      "========================================\n",
      "| Start epoch 20 \n",
      "========================================\n",
      "\n",
      "========================================\n",
      "| Evaluation result | Loss [0.5607] | Accuracy [0.7829]  \n",
      "========================================\n",
      "\n",
      "========================================\n",
      "| Start epoch 21 \n",
      "========================================\n",
      "\n",
      "========================================\n",
      "| Evaluation result | Loss [0.5570] | Accuracy [0.7886]  \n",
      "========================================\n",
      "\n",
      "========================================\n",
      "| Start epoch 22 \n",
      "========================================\n",
      "\n",
      "========================================\n",
      "| Evaluation result | Loss [0.5563] | Accuracy [0.7898]  \n",
      "========================================\n",
      "\n",
      "========================================\n",
      "| Start epoch 23 \n",
      "========================================\n",
      "\n",
      "========================================\n",
      "| Evaluation result | Loss [0.5577] | Accuracy [0.7888]  \n",
      "========================================\n",
      "\n",
      "========================================\n",
      "| Start epoch 24 \n",
      "========================================\n",
      "\n",
      "========================================\n",
      "| Evaluation result | Loss [0.5578] | Accuracy [0.7869]  \n",
      "========================================\n",
      "\n",
      "========================================\n",
      "| Start epoch 25 \n",
      "========================================\n",
      "\n",
      "========================================\n",
      "| Evaluation result | Loss [0.5584] | Accuracy [0.7808]  \n",
      "========================================\n",
      "\n",
      "========================================\n",
      "| Start epoch 26 \n",
      "========================================\n",
      "\n",
      "========================================\n",
      "| Evaluation result | Loss [0.5554] | Accuracy [0.7816]  \n",
      "========================================\n",
      "\n",
      "========================================\n",
      "| Start epoch 27 \n",
      "========================================\n",
      "\n",
      "========================================\n",
      "| Evaluation result | Loss [0.5536] | Accuracy [0.7888]  \n",
      "========================================\n",
      "\n",
      "========================================\n",
      "| Start epoch 28 \n",
      "========================================\n",
      "\n",
      "========================================\n",
      "| Evaluation result | Loss [0.5521] | Accuracy [0.7888]  \n",
      "========================================\n",
      "\n",
      "========================================\n",
      "| Start epoch 29 \n",
      "========================================\n",
      "\n",
      "========================================\n",
      "| Evaluation result | Loss [0.5504] | Accuracy [0.7899]  \n",
      "========================================\n",
      "\n",
      "========================================\n",
      "| Start epoch 30 \n",
      "========================================\n",
      "\n",
      "========================================\n",
      "| Evaluation result | Loss [0.5515] | Accuracy [0.7900]  \n",
      "========================================\n",
      "\n",
      "========================================\n",
      "| Start epoch 31 \n",
      "========================================\n",
      "\n",
      "========================================\n",
      "| Evaluation result | Loss [0.5536] | Accuracy [0.7913]  \n",
      "========================================\n",
      "\n",
      "========================================\n",
      "| Start epoch 32 \n",
      "========================================\n",
      "\n",
      "========================================\n",
      "| Evaluation result | Loss [0.5571] | Accuracy [0.7909]  \n",
      "========================================\n",
      "\n",
      "========================================\n",
      "| Start epoch 33 \n",
      "========================================\n",
      "\n",
      "========================================\n",
      "| Evaluation result | Loss [0.5560] | Accuracy [0.7922]  \n",
      "========================================\n",
      "\n",
      "========================================\n",
      "| Start epoch 34 \n",
      "========================================\n",
      "\n",
      "========================================\n",
      "| Evaluation result | Loss [0.5555] | Accuracy [0.7891]  \n",
      "========================================\n",
      "\n",
      "========================================\n",
      "| Start epoch 35 \n",
      "========================================\n",
      "\n",
      "========================================\n",
      "| Evaluation result | Loss [0.5626] | Accuracy [0.7857]  \n",
      "========================================\n",
      "\n",
      "========================================\n",
      "| Start epoch 36 \n",
      "========================================\n",
      "\n",
      "========================================\n",
      "| Evaluation result | Loss [0.5626] | Accuracy [0.7820]  \n",
      "========================================\n",
      "\n",
      "========================================\n",
      "| Start epoch 37 \n",
      "========================================\n",
      "\n",
      "========================================\n",
      "| Evaluation result | Loss [0.5568] | Accuracy [0.7795]  \n",
      "========================================\n",
      "\n",
      "========================================\n",
      "| Start epoch 38 \n",
      "========================================\n",
      "\n",
      "========================================\n",
      "| Evaluation result | Loss [0.5619] | Accuracy [0.7900]  \n",
      "========================================\n",
      "\n",
      "========================================\n",
      "| Start epoch 39 \n",
      "========================================\n",
      "\n",
      "========================================\n",
      "| Evaluation result | Loss [0.5647] | Accuracy [0.7902]  \n",
      "========================================\n",
      "\n",
      "========================================\n",
      "| Evaluation result | Loss [0.5586] | Accuracy [0.7898]  \n",
      "========================================\n",
      "\n",
      "========================================\n",
      "| Start epoch 40 \n",
      "========================================\n",
      "\n",
      "========================================\n",
      "| Evaluation result | Loss [0.5560] | Accuracy [0.7863]  \n",
      "========================================\n",
      "\n",
      "========================================\n",
      "| Start epoch 41 \n",
      "========================================\n",
      "\n",
      "========================================\n",
      "| Evaluation result | Loss [0.5601] | Accuracy [0.7850]  \n",
      "========================================\n",
      "\n",
      "========================================\n",
      "| Start epoch 42 \n",
      "========================================\n",
      "\n",
      "========================================\n",
      "| Evaluation result | Loss [0.5632] | Accuracy [0.7799]  \n",
      "========================================\n",
      "\n",
      "========================================\n",
      "| Start epoch 43 \n",
      "========================================\n",
      "\n",
      "========================================\n",
      "| Evaluation result | Loss [0.5681] | Accuracy [0.7833]  \n",
      "========================================\n",
      "\n",
      "========================================\n",
      "| Start epoch 44 \n",
      "========================================\n",
      "\n",
      "========================================\n",
      "| Evaluation result | Loss [0.5649] | Accuracy [0.7904]  \n",
      "========================================\n",
      "\n",
      "========================================\n",
      "| Start epoch 45 \n",
      "========================================\n",
      "\n",
      "========================================\n",
      "| Evaluation result | Loss [0.5736] | Accuracy [0.7905]  \n",
      "========================================\n",
      "\n",
      "========================================\n",
      "| Start epoch 46 \n",
      "========================================\n",
      "\n",
      "========================================\n",
      "| Evaluation result | Loss [0.5705] | Accuracy [0.7890]  \n",
      "========================================\n",
      "\n",
      "========================================\n",
      "| Start epoch 47 \n",
      "========================================\n",
      "\n",
      "========================================\n",
      "| Evaluation result | Loss [0.5676] | Accuracy [0.7850]  \n",
      "========================================\n",
      "\n",
      "========================================\n",
      "| Start epoch 48 \n",
      "========================================\n",
      "\n",
      "========================================\n",
      "| Evaluation result | Loss [0.5625] | Accuracy [0.7883]  \n",
      "========================================\n",
      "\n",
      "========================================\n",
      "| Start epoch 49 \n",
      "========================================\n",
      "\n",
      "========================================\n",
      "| Evaluation result | Loss [0.5558] | Accuracy [0.7914]  \n",
      "========================================\n",
      "\n",
      "========================================\n",
      "| Performing Testing ... \n",
      "========================================\n",
      "\n",
      "========================================\n",
      "| Evaluation result | Loss [0.5772] | Accuracy [0.7876]  \n",
      "========================================\n"
     ]
    }
   ],
   "metadata": {}
  },
  {
   "cell_type": "code",
   "execution_count": 18,
   "source": [
    "save_folder_path = model.get_folder_path(\"bpi_2012_bert_training.ipynb\", test_accuracy , dataset.info_str())"
   ],
   "outputs": [],
   "metadata": {}
  },
  {
   "cell_type": "code",
   "execution_count": 19,
   "source": [
    "controller.save_parameters(save_folder_path)\n",
    "model.save(save_folder_path)"
   ],
   "outputs": [
    {
     "output_type": "stream",
     "name": "stdout",
     "text": [
      "\n",
      "========================================\n",
      "| Parameters saved successfully to: ./SavedModels/0.7876_PredNextBERT_AOW_CompleteOnly_2021-07-04 06:28:09.605710  \n",
      "========================================\n",
      "\n",
      "========================================\n",
      "| Vocabs saved successfully to: ./SavedModels/0.7876_PredNextBERT_AOW_CompleteOnly_2021-07-04 06:28:09.605710  \n",
      "========================================\n",
      "\n",
      "========================================\n",
      "| Model saved successfully to: ./SavedModels/0.7876_PredNextBERT_AOW_CompleteOnly_2021-07-04 06:28:09.605710  \n",
      "========================================\n"
     ]
    }
   ],
   "metadata": {}
  },
  {
   "cell_type": "code",
   "execution_count": 20,
   "source": [
    "# controller.load_parameters(save_folder_path)\n",
    "# model.load(save_folder_path)"
   ],
   "outputs": [],
   "metadata": {}
  },
  {
   "cell_type": "code",
   "execution_count": null,
   "source": [],
   "outputs": [],
   "metadata": {}
  }
 ]
}