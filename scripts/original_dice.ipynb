{
 "metadata": {
  "language_info": {
   "codemirror_mode": {
    "name": "ipython",
    "version": 3
   },
   "file_extension": ".py",
   "mimetype": "text/x-python",
   "name": "python",
   "nbconvert_exporter": "python",
   "pygments_lexer": "ipython3",
   "version": "3.8.10"
  },
  "orig_nbformat": 4,
  "kernelspec": {
   "name": "python3",
   "display_name": "Python 3.8.10 64-bit ('tf_mac': conda)"
  },
  "interpreter": {
   "hash": "5c622353f32ef24c8d83e5c3e334107c074e82d7c3e8ca52c56b9fc900ce33e6"
  }
 },
 "nbformat": 4,
 "nbformat_minor": 2,
 "cells": [
  {
   "cell_type": "code",
   "execution_count": 1,
   "source": [
    "from parameters.dataset import BPI2012Parameters\n",
    "from dataset import BPI2012Dataset\n",
    "from utils.print import print_block\n",
    "import tensorflow as tf\n",
    "import numpy as np\n",
    "from model import LSTMPredNextModel\n",
    "from utils.print import print_block\n",
    "from model import OriginalDiCEWrapper\n",
    "import dice_ml\n",
    "from utils.bpi2012 import print_model_prediction_result, remove_tags_for_seq, get_example_data_with_removed_tail, generate_fake_df\n",
    "import pandas as pd"
   ],
   "outputs": [],
   "metadata": {}
  },
  {
   "cell_type": "code",
   "execution_count": 2,
   "source": [
    "dataset = BPI2012Dataset(BPI2012Parameters()) "
   ],
   "outputs": [
    {
     "output_type": "stream",
     "name": "stdout",
     "text": [
      "\n",
      "========================================\n",
      "| Preprocessed data loaded successfully: ./data/preprocessed/BPI_Challenge_2012_with_resource/AOW_CompleteOnly \n",
      "========================================\n"
     ]
    }
   ],
   "metadata": {}
  },
  {
   "cell_type": "code",
   "execution_count": 3,
   "source": [
    "# Get example from dataset\n",
    "# 4 -> A_APPROVED_COMPLETE\n",
    "# 12 -> A_FINALIZED_COMPLETE\n",
    "# 13 -> A_ACCEPTED_COMPLETE\n",
    "\n",
    "(\n",
    "    example_vocab_activities,\n",
    "    example_idx_activities,\n",
    "    example_vocab_resources,\n",
    "    example_idx_resources,\n",
    "    example_amount,\n",
    "    ground_truth_vocab\n",
    ") = get_example_data_with_removed_tail(\n",
    "    dataset,\n",
    "    trace_idx=52,\n",
    "    tail_length_to_remove=4\n",
    ") \n"
   ],
   "outputs": [
    {
     "output_type": "stream",
     "name": "stdout",
     "text": [
      "\n",
      "====================Activity====================\n",
      "| [['<SOS>', 'A_SUBMITTED_COMPLETE', 'A_PARTLYSUBMITTED_COMPLETE', 'A_PREACCEPTED_COMPLETE', 'W_Completeren aanvraag_COMPLETE', 'W_Completeren aanvraag_COMPLETE', 'A_ACCEPTED_COMPLETE', 'A_FINALIZED_COMPLETE', 'O_SELECTED_COMPLETE', 'O_CREATED_COMPLETE', 'O_SENT_COMPLETE', 'W_Completeren aanvraag_COMPLETE', 'O_SENT_BACK_COMPLETE', 'W_Nabellen offertes_COMPLETE', 'O_ACCEPTED_COMPLETE', 'A_APPROVED_COMPLETE', 'A_REGISTERED_COMPLETE', 'A_ACTIVATED_COMPLETE', 'W_Valideren aanvraag_COMPLETE']] \n",
      "================================================\n",
      "\n",
      "====================Resource====================\n",
      "| [['<SOS>', '112', '112', '112', '11180', '11201', '11201', '11201', '11201', '11201', '11201', '11201', '11049', '11049', '10629', '10629', '10629', '10629', '10629']] \n",
      "================================================\n",
      "\n",
      "====================Amount====================\n",
      "| [15500.0] \n",
      "==============================================\n",
      "\n",
      "====================Activity (Tail removed)====================\n",
      "| ['<SOS>', 'A_SUBMITTED_COMPLETE', 'A_PARTLYSUBMITTED_COMPLETE', 'A_PREACCEPTED_COMPLETE', 'W_Completeren aanvraag_COMPLETE', 'W_Completeren aanvraag_COMPLETE', 'A_ACCEPTED_COMPLETE', 'A_FINALIZED_COMPLETE', 'O_SELECTED_COMPLETE', 'O_CREATED_COMPLETE', 'O_SENT_COMPLETE', 'W_Completeren aanvraag_COMPLETE', 'O_SENT_BACK_COMPLETE', 'W_Nabellen offertes_COMPLETE', 'O_ACCEPTED_COMPLETE'] \n",
      "===============================================================\n",
      "\n",
      "====================Resource (Tail removed)====================\n",
      "| ['<SOS>', '112', '112', '112', '11180', '11201', '11201', '11201', '11201', '11201', '11201', '11201', '11049', '11049', '10629'] \n",
      "===============================================================\n",
      "\n",
      "====================Ground Truth====================\n",
      "| A_APPROVED_COMPLETE \n",
      "====================================================\n"
     ]
    }
   ],
   "metadata": {}
  },
  {
   "cell_type": "code",
   "execution_count": 4,
   "source": [
    "pred_model = LSTMPredNextModel.load(\n",
    "    \"./SavedModels/%s\" % (\n",
    "    \"0.8175_LSTMPredNextModel_AOW_CompleteOnly_2021-07-01 20'45'16.353467\" \n",
    "    )\n",
    ")\n",
    "_ = pred_model(**pred_model.get_example_input())\n",
    "pred_model.summary()"
   ],
   "outputs": [
    {
     "output_type": "stream",
     "name": "stdout",
     "text": [
      "\n",
      "========================================\n",
      "| Model parameters loaded successfully from: ./SavedModels/0.8175_LSTMPredNextModel_AOW_CompleteOnly_2021-07-01 20'45'16.353467  \n",
      "========================================\n",
      "\n",
      "========================================\n",
      "| Vocab loaded successfully from: ./SavedModels/0.8175_LSTMPredNextModel_AOW_CompleteOnly_2021-07-01 20'45'16.353467  \n",
      "========================================\n",
      "\n",
      "========================================\n",
      "| Model loaded successfully from: ./SavedModels/0.8175_LSTMPredNextModel_AOW_CompleteOnly_2021-07-01 20'45'16.353467  \n",
      "========================================\n",
      "Model: \"LSTMPredNextModel\"\n",
      "_________________________________________________________________\n",
      "Layer (type)                 Output Shape              Param #   \n",
      "=================================================================\n",
      "embedding (Embedding)        multiple                  832       \n",
      "_________________________________________________________________\n",
      "embedding_1 (Embedding)      multiple                  9216      \n",
      "_________________________________________________________________\n",
      "lstm (LSTM)                  multiple                  24832     \n",
      "_________________________________________________________________\n",
      "lstm_1 (LSTM)                multiple                  33024     \n",
      "_________________________________________________________________\n",
      "lstm_2 (LSTM)                multiple                  49408     \n",
      "_________________________________________________________________\n",
      "lstm_3 (LSTM)                multiple                  33024     \n",
      "_________________________________________________________________\n",
      "sequential (Sequential)      (1, 64)                   4544      \n",
      "_________________________________________________________________\n",
      "sequential_1 (Sequential)    (1, 1, 26)                15066     \n",
      "=================================================================\n",
      "Total params: 169,946\n",
      "Trainable params: 169,306\n",
      "Non-trainable params: 640\n",
      "_________________________________________________________________\n"
     ]
    }
   ],
   "metadata": {}
  },
  {
   "cell_type": "code",
   "execution_count": 5,
   "source": [
    "##### Get model output #####\n",
    "example_activities_input = tf.constant(example_idx_activities)\n",
    "example_resources_input = tf.constant(example_idx_resources)\n",
    "example_amount_input = tf.constant(example_amount)\n",
    "\n",
    "predicted_df = print_model_prediction_result(pred_model, example_activities_input, example_resources_input, example_amount_input)"
   ],
   "outputs": [
    {
     "output_type": "stream",
     "name": "stdout",
     "text": [
      "\n",
      "========================================Predict result========================================\n",
      "| Predicted activity with highest probability (0.44) is \"A_REGISTERED_COMPLETE\" \n",
      "==============================================================================================\n",
      "\n",
      "\n",
      "\n",
      "<PAD>                                      3.822472e-06\n",
      "<EOS>                                      1.483298e-06\n",
      "<SOS>                                      7.272783e-06\n",
      "A_ACCEPTED_COMPLETE                        4.374774e-07\n",
      "A_ACTIVATED_COMPLETE                       1.337052e-01\n",
      "A_APPROVED_COMPLETE                        4.277948e-01\n",
      "A_CANCELLED_COMPLETE                       2.484289e-07\n",
      "A_DECLINED_COMPLETE                        9.023657e-06\n",
      "A_FINALIZED_COMPLETE                       1.034867e-04\n",
      "A_PARTLYSUBMITTED_COMPLETE                 1.634951e-04\n",
      "A_PREACCEPTED_COMPLETE                     1.066932e-06\n",
      "A_REGISTERED_COMPLETE                      4.373636e-01\n",
      "A_SUBMITTED_COMPLETE                       8.535364e-06\n",
      "O_ACCEPTED_COMPLETE                        2.829449e-04\n",
      "O_CANCELLED_COMPLETE                       3.999644e-04\n",
      "O_CREATED_COMPLETE                         7.831535e-06\n",
      "O_DECLINED_COMPLETE                        1.493994e-05\n",
      "O_SELECTED_COMPLETE                        7.610810e-07\n",
      "O_SENT_BACK_COMPLETE                       6.009959e-07\n",
      "O_SENT_COMPLETE                            8.271413e-07\n",
      "W_Afhandelen leads_COMPLETE                1.095829e-07\n",
      "W_Beoordelen fraude_COMPLETE               7.545712e-06\n",
      "W_Completeren aanvraag_COMPLETE            7.371925e-07\n",
      "W_Nabellen incomplete dossiers_COMPLETE    4.325165e-06\n",
      "W_Nabellen offertes_COMPLETE               8.101372e-07\n",
      "W_Valideren aanvraag_COMPLETE              1.162139e-04\n",
      "Name: 0, dtype: float64\n"
     ]
    }
   ],
   "metadata": {}
  },
  {
   "cell_type": "code",
   "execution_count": 6,
   "source": [
    "predicted_df"
   ],
   "outputs": [
    {
     "output_type": "execute_result",
     "data": {
      "text/html": [
       "<div>\n",
       "<style scoped>\n",
       "    .dataframe tbody tr th:only-of-type {\n",
       "        vertical-align: middle;\n",
       "    }\n",
       "\n",
       "    .dataframe tbody tr th {\n",
       "        vertical-align: top;\n",
       "    }\n",
       "\n",
       "    .dataframe thead th {\n",
       "        text-align: right;\n",
       "    }\n",
       "</style>\n",
       "<table border=\"1\" class=\"dataframe\">\n",
       "  <thead>\n",
       "    <tr style=\"text-align: right;\">\n",
       "      <th></th>\n",
       "      <th>&lt;PAD&gt;</th>\n",
       "      <th>&lt;EOS&gt;</th>\n",
       "      <th>&lt;SOS&gt;</th>\n",
       "      <th>A_ACCEPTED_COMPLETE</th>\n",
       "      <th>A_ACTIVATED_COMPLETE</th>\n",
       "      <th>A_APPROVED_COMPLETE</th>\n",
       "      <th>A_CANCELLED_COMPLETE</th>\n",
       "      <th>A_DECLINED_COMPLETE</th>\n",
       "      <th>A_FINALIZED_COMPLETE</th>\n",
       "      <th>A_PARTLYSUBMITTED_COMPLETE</th>\n",
       "      <th>...</th>\n",
       "      <th>O_DECLINED_COMPLETE</th>\n",
       "      <th>O_SELECTED_COMPLETE</th>\n",
       "      <th>O_SENT_BACK_COMPLETE</th>\n",
       "      <th>O_SENT_COMPLETE</th>\n",
       "      <th>W_Afhandelen leads_COMPLETE</th>\n",
       "      <th>W_Beoordelen fraude_COMPLETE</th>\n",
       "      <th>W_Completeren aanvraag_COMPLETE</th>\n",
       "      <th>W_Nabellen incomplete dossiers_COMPLETE</th>\n",
       "      <th>W_Nabellen offertes_COMPLETE</th>\n",
       "      <th>W_Valideren aanvraag_COMPLETE</th>\n",
       "    </tr>\n",
       "  </thead>\n",
       "  <tbody>\n",
       "    <tr>\n",
       "      <th>0</th>\n",
       "      <td>0.000004</td>\n",
       "      <td>0.000001</td>\n",
       "      <td>0.000007</td>\n",
       "      <td>4.374774e-07</td>\n",
       "      <td>0.133705</td>\n",
       "      <td>0.427795</td>\n",
       "      <td>2.484289e-07</td>\n",
       "      <td>0.000009</td>\n",
       "      <td>0.000103</td>\n",
       "      <td>0.000163</td>\n",
       "      <td>...</td>\n",
       "      <td>0.000015</td>\n",
       "      <td>7.610810e-07</td>\n",
       "      <td>6.009959e-07</td>\n",
       "      <td>8.271413e-07</td>\n",
       "      <td>1.095829e-07</td>\n",
       "      <td>0.000008</td>\n",
       "      <td>7.371925e-07</td>\n",
       "      <td>0.000004</td>\n",
       "      <td>8.101372e-07</td>\n",
       "      <td>0.000116</td>\n",
       "    </tr>\n",
       "  </tbody>\n",
       "</table>\n",
       "<p>1 rows × 26 columns</p>\n",
       "</div>"
      ],
      "text/plain": [
       "      <PAD>     <EOS>     <SOS>  A_ACCEPTED_COMPLETE  A_ACTIVATED_COMPLETE  \\\n",
       "0  0.000004  0.000001  0.000007         4.374774e-07              0.133705   \n",
       "\n",
       "   A_APPROVED_COMPLETE  A_CANCELLED_COMPLETE  A_DECLINED_COMPLETE  \\\n",
       "0             0.427795          2.484289e-07             0.000009   \n",
       "\n",
       "   A_FINALIZED_COMPLETE  A_PARTLYSUBMITTED_COMPLETE  ...  O_DECLINED_COMPLETE  \\\n",
       "0              0.000103                    0.000163  ...             0.000015   \n",
       "\n",
       "   O_SELECTED_COMPLETE  O_SENT_BACK_COMPLETE  O_SENT_COMPLETE  \\\n",
       "0         7.610810e-07          6.009959e-07     8.271413e-07   \n",
       "\n",
       "   W_Afhandelen leads_COMPLETE  W_Beoordelen fraude_COMPLETE  \\\n",
       "0                 1.095829e-07                      0.000008   \n",
       "\n",
       "   W_Completeren aanvraag_COMPLETE  W_Nabellen incomplete dossiers_COMPLETE  \\\n",
       "0                     7.371925e-07                                 0.000004   \n",
       "\n",
       "   W_Nabellen offertes_COMPLETE  W_Valideren aanvraag_COMPLETE  \n",
       "0                  8.101372e-07                       0.000116  \n",
       "\n",
       "[1 rows x 26 columns]"
      ]
     },
     "metadata": {},
     "execution_count": 6
    }
   ],
   "metadata": {}
  },
  {
   "cell_type": "code",
   "execution_count": 7,
   "source": [
    "no_need_tags = ['<EOS>', '<SOS>', '<PAD>']\n",
    "\n",
    "possible_activities = [ a for a in list(pred_model.activity_vocab.vocabs) if  not a in no_need_tags]\n",
    "possible_resources =  [ r for r in list(pred_model.resource_vocab.vocabs) if  not r in no_need_tags]\n",
    "\n",
    "example_vocab_activities_no_tag = remove_tags_for_seq(example_vocab_activities, no_need_tags)\n",
    "\n",
    "example_vocab_resources_no_tag = remove_tags_for_seq(example_vocab_resources, no_need_tags)\n",
    "\n",
    "# transform to possible dim\n",
    "example_idx_activities_no_tag = [ possible_activities.index(v)   for v in example_vocab_activities_no_tag ]\n",
    "\n",
    "example_idx_resources_no_tag = [\n",
    "possible_resources.index(v)   for v in example_vocab_resources_no_tag    \n",
    "]\n",
    "\n",
    "example_trace_len_no_tag = len(example_vocab_activities_no_tag)\n",
    "#### Determine feature names for DiCE ####\n",
    "activity_feature_names = np.array([\"activity_step_%d\" % (i+1) for i in range(example_trace_len_no_tag)])\n",
    "resource_feature_names = np.array([\"resource_step_%d\" % (i+1) for i in range(example_trace_len_no_tag)])\n",
    "possbile_amount = [min(dataset.df[\"amount\"]), max(dataset.df[\"amount\"])]\n",
    "\n",
    "print_block(example_vocab_activities_no_tag ,title=\"Example activities without tags\", num_marks = 30)\n",
    "print_block(example_vocab_resources_no_tag ,title=\"Example resources without tags\", num_marks = 30)\n",
    "print_block(example_amount, title=\"=================Amount=================\", num_marks=16)"
   ],
   "outputs": [
    {
     "output_type": "stream",
     "name": "stdout",
     "text": [
      "\n",
      "==============================Example activities without tags==============================\n",
      "| ['A_SUBMITTED_COMPLETE', 'A_PARTLYSUBMITTED_COMPLETE', 'A_PREACCEPTED_COMPLETE', 'W_Completeren aanvraag_COMPLETE', 'W_Completeren aanvraag_COMPLETE', 'A_ACCEPTED_COMPLETE', 'A_FINALIZED_COMPLETE', 'O_SELECTED_COMPLETE', 'O_CREATED_COMPLETE', 'O_SENT_COMPLETE', 'W_Completeren aanvraag_COMPLETE', 'O_SENT_BACK_COMPLETE', 'W_Nabellen offertes_COMPLETE', 'O_ACCEPTED_COMPLETE'] \n",
      "===========================================================================================\n",
      "\n",
      "==============================Example resources without tags==============================\n",
      "| ['112', '112', '112', '11180', '11201', '11201', '11201', '11201', '11201', '11201', '11201', '11049', '11049', '10629'] \n",
      "==========================================================================================\n",
      "\n",
      "=================================Amount=================================\n",
      "| [15500.0] \n",
      "========================================================================\n"
     ]
    }
   ],
   "metadata": {}
  },
  {
   "cell_type": "code",
   "execution_count": 8,
   "source": [
    "############ Setting up desired activity ############\n",
    "# A_DECLINED_COMPLETE, A_APPROVED_COMPLETE\n",
    "desired_activity = ground_truth_vocab\n",
    "print_block(desired_activity, \"Desired activity\")\n",
    "\n",
    "dice_binary_model = OriginalDiCEWrapper(\n",
    "    model=pred_model,\n",
    "    activity_vocab=pred_model.activity_vocab,\n",
    "    resource_vocab=pred_model.resource_vocab,\n",
    "    desired=pred_model.activity_vocab.vocab_to_index(desired_activity),\n",
    "    trace_length=example_trace_len_no_tag,\n",
    "    possible_amount=possbile_amount,\n",
    "    possible_resources=possible_resources,\n",
    "    possible_activities=possible_activities\n",
    ")\n"
   ],
   "outputs": [
    {
     "output_type": "stream",
     "name": "stdout",
     "text": [
      "\n",
      "====================Desired activity====================\n",
      "| A_APPROVED_COMPLETE \n",
      "========================================================\n"
     ]
    }
   ],
   "metadata": {}
  },
  {
   "cell_type": "code",
   "execution_count": 9,
   "source": [
    "fake_df = generate_fake_df(5000, activity_feature_names, resource_feature_names, possible_activities, possible_resources, possbile_amount, example_trace_len_no_tag)\n",
    "d = dice_ml.Data(dataframe=fake_df, outcome_name=\"predicted\",continuous_features = ['amount'])\n",
    "m = dice_ml.Model(model=dice_binary_model, backend=\"TF2\")\n",
    "exp = dice_ml.Dice(d, m)"
   ],
   "outputs": [],
   "metadata": {}
  },
  {
   "cell_type": "code",
   "execution_count": 10,
   "source": [
    "### Prepare input df\n",
    "feature_names = activity_feature_names.tolist() + resource_feature_names.tolist() + ['amount']\n",
    "query_instance = [example_vocab_activities_no_tag + example_vocab_resources_no_tag + example_amount]\n",
    "example_df = pd.DataFrame(query_instance, columns= feature_names)"
   ],
   "outputs": [],
   "metadata": {}
  },
  {
   "cell_type": "code",
   "execution_count": 11,
   "source": [
    "example_df"
   ],
   "outputs": [
    {
     "output_type": "execute_result",
     "data": {
      "text/html": [
       "<div>\n",
       "<style scoped>\n",
       "    .dataframe tbody tr th:only-of-type {\n",
       "        vertical-align: middle;\n",
       "    }\n",
       "\n",
       "    .dataframe tbody tr th {\n",
       "        vertical-align: top;\n",
       "    }\n",
       "\n",
       "    .dataframe thead th {\n",
       "        text-align: right;\n",
       "    }\n",
       "</style>\n",
       "<table border=\"1\" class=\"dataframe\">\n",
       "  <thead>\n",
       "    <tr style=\"text-align: right;\">\n",
       "      <th></th>\n",
       "      <th>activity_step_1</th>\n",
       "      <th>activity_step_2</th>\n",
       "      <th>activity_step_3</th>\n",
       "      <th>activity_step_4</th>\n",
       "      <th>activity_step_5</th>\n",
       "      <th>activity_step_6</th>\n",
       "      <th>activity_step_7</th>\n",
       "      <th>activity_step_8</th>\n",
       "      <th>activity_step_9</th>\n",
       "      <th>activity_step_10</th>\n",
       "      <th>...</th>\n",
       "      <th>resource_step_6</th>\n",
       "      <th>resource_step_7</th>\n",
       "      <th>resource_step_8</th>\n",
       "      <th>resource_step_9</th>\n",
       "      <th>resource_step_10</th>\n",
       "      <th>resource_step_11</th>\n",
       "      <th>resource_step_12</th>\n",
       "      <th>resource_step_13</th>\n",
       "      <th>resource_step_14</th>\n",
       "      <th>amount</th>\n",
       "    </tr>\n",
       "  </thead>\n",
       "  <tbody>\n",
       "    <tr>\n",
       "      <th>0</th>\n",
       "      <td>A_SUBMITTED_COMPLETE</td>\n",
       "      <td>A_PARTLYSUBMITTED_COMPLETE</td>\n",
       "      <td>A_PREACCEPTED_COMPLETE</td>\n",
       "      <td>W_Completeren aanvraag_COMPLETE</td>\n",
       "      <td>W_Completeren aanvraag_COMPLETE</td>\n",
       "      <td>A_ACCEPTED_COMPLETE</td>\n",
       "      <td>A_FINALIZED_COMPLETE</td>\n",
       "      <td>O_SELECTED_COMPLETE</td>\n",
       "      <td>O_CREATED_COMPLETE</td>\n",
       "      <td>O_SENT_COMPLETE</td>\n",
       "      <td>...</td>\n",
       "      <td>11201</td>\n",
       "      <td>11201</td>\n",
       "      <td>11201</td>\n",
       "      <td>11201</td>\n",
       "      <td>11201</td>\n",
       "      <td>11201</td>\n",
       "      <td>11049</td>\n",
       "      <td>11049</td>\n",
       "      <td>10629</td>\n",
       "      <td>15500.0</td>\n",
       "    </tr>\n",
       "  </tbody>\n",
       "</table>\n",
       "<p>1 rows × 29 columns</p>\n",
       "</div>"
      ],
      "text/plain": [
       "        activity_step_1             activity_step_2         activity_step_3  \\\n",
       "0  A_SUBMITTED_COMPLETE  A_PARTLYSUBMITTED_COMPLETE  A_PREACCEPTED_COMPLETE   \n",
       "\n",
       "                   activity_step_4                  activity_step_5  \\\n",
       "0  W_Completeren aanvraag_COMPLETE  W_Completeren aanvraag_COMPLETE   \n",
       "\n",
       "       activity_step_6       activity_step_7      activity_step_8  \\\n",
       "0  A_ACCEPTED_COMPLETE  A_FINALIZED_COMPLETE  O_SELECTED_COMPLETE   \n",
       "\n",
       "      activity_step_9 activity_step_10  ... resource_step_6 resource_step_7  \\\n",
       "0  O_CREATED_COMPLETE  O_SENT_COMPLETE  ...           11201           11201   \n",
       "\n",
       "  resource_step_8 resource_step_9 resource_step_10 resource_step_11  \\\n",
       "0           11201           11201            11201            11201   \n",
       "\n",
       "  resource_step_12 resource_step_13 resource_step_14   amount  \n",
       "0            11049            11049            10629  15500.0  \n",
       "\n",
       "[1 rows x 29 columns]"
      ]
     },
     "metadata": {},
     "execution_count": 11
    }
   ],
   "metadata": {}
  },
  {
   "cell_type": "code",
   "execution_count": 12,
   "source": [
    "example_amount"
   ],
   "outputs": [
    {
     "output_type": "execute_result",
     "data": {
      "text/plain": [
       "[15500.0]"
      ]
     },
     "metadata": {},
     "execution_count": 12
    }
   ],
   "metadata": {}
  },
  {
   "cell_type": "code",
   "execution_count": 13,
   "source": [
    "dice_exp = exp.generate_counterfactuals(\n",
    "        example_df,\n",
    "        total_CFs=3,\n",
    "        verbose=True,\n",
    "        # min_iter=100,\n",
    "        # max_iter=500,\n",
    "        features_to_vary=[\n",
    "            'amount',\n",
    "            *activity_feature_names.tolist(),\n",
    "            *resource_feature_names.tolist(),\n",
    "        ],\n",
    "        # desired_class=\"opposite\",\n",
    "        # yloss_type= \"log_loss\" # log_loss, hinge_loss, l2_loss\n",
    "        # algorithm = \"DiverseCF\", # DiverseCF, RandomInitCF\n",
    "        # proximity_weight=0.5, # 0.5,\n",
    "        # diversity_weight=1,# 1.0,\n",
    "        # init_near_query_instance=True,\n",
    "        # tie_random = True,\n",
    "        # categorical_penalty = 1,\n",
    "        # learning_rate=0.0005,\n",
    "    )"
   ],
   "outputs": [
    {
     "output_type": "stream",
     "name": "stdout",
     "text": [
      "step 1,  loss=256.16\n",
      "step 51,  loss=16.4047\n",
      "step 101,  loss=6.94313\n",
      "step 151,  loss=5.9864\n",
      "step 201,  loss=5.6078\n",
      "step 251,  loss=5.44624\n",
      "step 301,  loss=5.3714\n",
      "step 351,  loss=5.33176\n",
      "step 401,  loss=5.30849\n",
      "step 451,  loss=5.29136\n",
      "step 501,  loss=5.2772\n",
      "step 551,  loss=5.26555\n",
      "step 601,  loss=5.2567\n",
      "step 651,  loss=5.25117\n",
      "step 701,  loss=5.24654\n",
      "step 751,  loss=5.24247\n",
      "step 801,  loss=5.23889\n",
      "step 851,  loss=5.2357\n",
      "step 901,  loss=5.23278\n",
      "step 951,  loss=5.23016\n",
      "step 1001,  loss=5.22776\n",
      "step 1051,  loss=5.22607\n",
      "step 1101,  loss=5.22463\n",
      "step 1151,  loss=5.22332\n",
      "step 1201,  loss=5.2221\n",
      "step 1251,  loss=5.221\n",
      "step 1301,  loss=5.22\n",
      "step 1351,  loss=5.2191\n",
      "step 1401,  loss=4236.6\n",
      "step 1451,  loss=742.22\n",
      "step 1501,  loss=324.959\n",
      "step 1551,  loss=188.58\n",
      "step 1601,  loss=125.137\n",
      "step 1651,  loss=92.2858\n",
      "step 1701,  loss=72.208\n",
      "step 1751,  loss=57.7812\n",
      "step 1801,  loss=47.2398\n",
      "step 1851,  loss=39.5181\n",
      "step 1901,  loss=33.8948\n",
      "step 1951,  loss=29.4731\n",
      "step 2001,  loss=25.8291\n",
      "step 2051,  loss=23.0207\n",
      "step 2101,  loss=20.692\n",
      "step 2151,  loss=18.7705\n",
      "step 2201,  loss=17.0978\n",
      "step 2251,  loss=15.6474\n",
      "step 2301,  loss=14.4361\n",
      "step 2351,  loss=13.4147\n",
      "step 2401,  loss=12.5403\n",
      "step 2451,  loss=11.7981\n",
      "step 2501,  loss=11.1405\n",
      "step 2551,  loss=10.5498\n",
      "step 2601,  loss=10.0234\n",
      "step 2651,  loss=9.54682\n",
      "step 2701,  loss=9.14784\n",
      "step 2751,  loss=8.7802\n",
      "step 2801,  loss=8.43977\n",
      "step 2851,  loss=8.12861\n",
      "step 2901,  loss=7.85164\n",
      "step 2951,  loss=7.59576\n",
      "step 3001,  loss=7.37065\n",
      "step 3051,  loss=7.18217\n",
      "step 3101,  loss=7.02033\n",
      "step 3151,  loss=6.8782\n",
      "step 3201,  loss=6.74653\n",
      "step 3251,  loss=6.63729\n",
      "step 3301,  loss=6.54146\n",
      "step 3351,  loss=6.45102\n",
      "step 3401,  loss=6.3654\n",
      "step 3451,  loss=6.28438\n",
      "step 3501,  loss=6.20781\n",
      "step 3551,  loss=6.13562\n",
      "step 3601,  loss=6.06881\n",
      "step 3651,  loss=6.00855\n",
      "step 3701,  loss=5.95651\n",
      "step 3751,  loss=5.91297\n",
      "step 3801,  loss=5.87226\n",
      "step 3851,  loss=5.83325\n",
      "step 3901,  loss=5.79591\n",
      "step 3951,  loss=5.76019\n",
      "step 4001,  loss=5.72613\n",
      "step 4051,  loss=5.69371\n",
      "step 4101,  loss=5.6629\n",
      "step 4151,  loss=5.63367\n",
      "step 4201,  loss=5.606\n",
      "step 4251,  loss=5.57987\n",
      "step 4301,  loss=5.55524\n",
      "step 4351,  loss=5.53207\n",
      "step 4401,  loss=5.51033\n",
      "step 4451,  loss=5.49057\n",
      "step 4501,  loss=5.47424\n",
      "step 4551,  loss=5.45916\n",
      "step 4601,  loss=5.44497\n",
      "step 4651,  loss=5.43164\n",
      "step 4701,  loss=5.41913\n",
      "step 4751,  loss=5.40741\n",
      "step 4801,  loss=5.39644\n",
      "step 4851,  loss=5.38621\n",
      "step 4901,  loss=5.37667\n",
      "step 4951,  loss=5.36779\n",
      "No Counterfactuals found for the given configuation, perhaps try with different  values of proximity (or diversity) weights or learning rate... ; total time taken: 117 min 40 sec\n"
     ]
    }
   ],
   "metadata": {}
  },
  {
   "cell_type": "code",
   "execution_count": 14,
   "source": [
    "dice_exp.visualize_as_dataframe(show_only_changes=True, display_sparse_df=False)"
   ],
   "outputs": [
    {
     "output_type": "stream",
     "name": "stdout",
     "text": [
      "Query instance (original outcome : 10)\n"
     ]
    },
    {
     "output_type": "display_data",
     "data": {
      "text/html": [
       "<div>\n",
       "<style scoped>\n",
       "    .dataframe tbody tr th:only-of-type {\n",
       "        vertical-align: middle;\n",
       "    }\n",
       "\n",
       "    .dataframe tbody tr th {\n",
       "        vertical-align: top;\n",
       "    }\n",
       "\n",
       "    .dataframe thead th {\n",
       "        text-align: right;\n",
       "    }\n",
       "</style>\n",
       "<table border=\"1\" class=\"dataframe\">\n",
       "  <thead>\n",
       "    <tr style=\"text-align: right;\">\n",
       "      <th></th>\n",
       "      <th>activity_step_1</th>\n",
       "      <th>activity_step_2</th>\n",
       "      <th>activity_step_3</th>\n",
       "      <th>activity_step_4</th>\n",
       "      <th>activity_step_5</th>\n",
       "      <th>activity_step_6</th>\n",
       "      <th>activity_step_7</th>\n",
       "      <th>activity_step_8</th>\n",
       "      <th>activity_step_9</th>\n",
       "      <th>activity_step_10</th>\n",
       "      <th>...</th>\n",
       "      <th>resource_step_7</th>\n",
       "      <th>resource_step_8</th>\n",
       "      <th>resource_step_9</th>\n",
       "      <th>resource_step_10</th>\n",
       "      <th>resource_step_11</th>\n",
       "      <th>resource_step_12</th>\n",
       "      <th>resource_step_13</th>\n",
       "      <th>resource_step_14</th>\n",
       "      <th>amount</th>\n",
       "      <th>predicted</th>\n",
       "    </tr>\n",
       "  </thead>\n",
       "  <tbody>\n",
       "    <tr>\n",
       "      <th>0</th>\n",
       "      <td>A_SUBMITTED_COMPLETE</td>\n",
       "      <td>A_PARTLYSUBMITTED_COMPLETE</td>\n",
       "      <td>A_PREACCEPTED_COMPLETE</td>\n",
       "      <td>W_Completeren aanvraag_COMPLETE</td>\n",
       "      <td>W_Completeren aanvraag_COMPLETE</td>\n",
       "      <td>A_ACCEPTED_COMPLETE</td>\n",
       "      <td>A_FINALIZED_COMPLETE</td>\n",
       "      <td>O_SELECTED_COMPLETE</td>\n",
       "      <td>O_CREATED_COMPLETE</td>\n",
       "      <td>O_SENT_COMPLETE</td>\n",
       "      <td>...</td>\n",
       "      <td>11201</td>\n",
       "      <td>11201</td>\n",
       "      <td>11201</td>\n",
       "      <td>11201</td>\n",
       "      <td>11201</td>\n",
       "      <td>11049</td>\n",
       "      <td>11049</td>\n",
       "      <td>10629</td>\n",
       "      <td>15500.0</td>\n",
       "      <td>9.884</td>\n",
       "    </tr>\n",
       "  </tbody>\n",
       "</table>\n",
       "<p>1 rows × 30 columns</p>\n",
       "</div>"
      ],
      "text/plain": [
       "        activity_step_1             activity_step_2         activity_step_3  \\\n",
       "0  A_SUBMITTED_COMPLETE  A_PARTLYSUBMITTED_COMPLETE  A_PREACCEPTED_COMPLETE   \n",
       "\n",
       "                   activity_step_4                  activity_step_5  \\\n",
       "0  W_Completeren aanvraag_COMPLETE  W_Completeren aanvraag_COMPLETE   \n",
       "\n",
       "       activity_step_6       activity_step_7      activity_step_8  \\\n",
       "0  A_ACCEPTED_COMPLETE  A_FINALIZED_COMPLETE  O_SELECTED_COMPLETE   \n",
       "\n",
       "      activity_step_9 activity_step_10  ... resource_step_7 resource_step_8  \\\n",
       "0  O_CREATED_COMPLETE  O_SENT_COMPLETE  ...           11201           11201   \n",
       "\n",
       "  resource_step_9 resource_step_10 resource_step_11 resource_step_12  \\\n",
       "0           11201            11201            11201            11049   \n",
       "\n",
       "  resource_step_13 resource_step_14   amount predicted  \n",
       "0            11049            10629  15500.0     9.884  \n",
       "\n",
       "[1 rows x 30 columns]"
      ]
     },
     "metadata": {}
    },
    {
     "output_type": "stream",
     "name": "stdout",
     "text": [
      "\n",
      "No counterfactuals found!\n"
     ]
    }
   ],
   "metadata": {}
  },
  {
   "cell_type": "code",
   "execution_count": 15,
   "source": [
    "######## Print the example trace ########\n",
    "print_block(list(example_df.iloc[0]), \"Original\", num_marks = 50)"
   ],
   "outputs": [
    {
     "output_type": "stream",
     "name": "stdout",
     "text": [
      "\n",
      "==================================================Original==================================================\n",
      "| ['A_SUBMITTED_COMPLETE', 'A_PARTLYSUBMITTED_COMPLETE', 'A_PREACCEPTED_COMPLETE', 'W_Completeren aanvraag_COMPLETE', 'W_Completeren aanvraag_COMPLETE', 'A_ACCEPTED_COMPLETE', 'A_FINALIZED_COMPLETE', 'O_SELECTED_COMPLETE', 'O_CREATED_COMPLETE', 'O_SENT_COMPLETE', 'W_Completeren aanvraag_COMPLETE', 'O_SENT_BACK_COMPLETE', 'W_Nabellen offertes_COMPLETE', 'O_ACCEPTED_COMPLETE', '112', '112', '112', '11180', '11201', '11201', '11201', '11201', '11201', '11201', '11201', '11049', '11049', '10629', 15500.0] \n",
      "============================================================================================================\n"
     ]
    }
   ],
   "metadata": {}
  },
  {
   "cell_type": "code",
   "execution_count": 16,
   "source": [
    "######## Print the counterfactual trace ########\n",
    "if len(dice_exp.final_cfs_df) > 0:\n",
    "    print_block(list(dice_exp.final_cfs_df.iloc[0][:-1]), \"Counterfactual\", num_marks=50)\n",
    "else:\n",
    "    print_block(\"Not found!\", \"Counterfactual\")"
   ],
   "outputs": [
    {
     "output_type": "stream",
     "name": "stdout",
     "text": [
      "\n",
      "====================Counterfactual====================\n",
      "| Not found! \n",
      "======================================================\n"
     ]
    }
   ],
   "metadata": {}
  },
  {
   "cell_type": "code",
   "execution_count": 17,
   "source": [
    "# 5550.7s -> A_ACCEPTED_COMPLETE\n",
    "# 5667.7s -> A_FINALIZED_COMPLETE\n",
    "# 7062.4s -> A_APPROVED_COMPLETE\n"
   ],
   "outputs": [],
   "metadata": {}
  }
 ]
}