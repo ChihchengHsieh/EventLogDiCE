{
 "metadata": {
  "language_info": {
   "codemirror_mode": {
    "name": "ipython",
    "version": 3
   },
   "file_extension": ".py",
   "mimetype": "text/x-python",
   "name": "python",
   "nbconvert_exporter": "python",
   "pygments_lexer": "ipython3",
   "version": "3.8.10"
  },
  "orig_nbformat": 4,
  "kernelspec": {
   "name": "python3",
   "display_name": "Python 3.8.10 64-bit ('tf_mac': conda)"
  },
  "interpreter": {
   "hash": "5c622353f32ef24c8d83e5c3e334107c074e82d7c3e8ca52c56b9fc900ce33e6"
  }
 },
 "nbformat": 4,
 "nbformat_minor": 2,
 "cells": [
  {
   "cell_type": "code",
   "execution_count": 1,
   "metadata": {},
   "outputs": [],
   "source": [
    "from parameters.dataset import BPI2012Parameters\n",
    "from dataset import BPI2012Dataset\n",
    "from utils.print import print_block\n",
    "from utils.bpi2012 import remove_trail_steps, print_model_prediction_result, remove_tags_for_seq\n",
    "import tensorflow as tf\n",
    "from model import LSTMPredNextModel, LSTMScenarioCfModel\n",
    "import numpy as np\n",
    "from dice import EventLogDiCE\n",
    "from controller import TrainingController\n",
    "from sklearn.metrics import classification_report\n",
    "from parameters.training import TrainingParameters, LossParameters, OptimizerParameters\n"
   ]
  },
  {
   "cell_type": "code",
   "execution_count": 7,
   "metadata": {},
   "outputs": [],
   "source": []
  },
  {
   "cell_type": "code",
   "execution_count": 2,
   "metadata": {},
   "outputs": [
    {
     "output_type": "stream",
     "name": "stdout",
     "text": [
      "\n========================================\n| Preprocessed data loaded successfully: ./data/preprocessed/BPI_Challenge_2012_with_resource/AOW_CompleteOnly \n========================================\n"
     ]
    }
   ],
   "source": [
    "dataset = BPI2012Dataset(BPI2012Parameters()) "
   ]
  },
  {
   "cell_type": "code",
   "execution_count": 3,
   "metadata": {},
   "outputs": [
    {
     "output_type": "stream",
     "name": "stdout",
     "text": [
      "\n",
      "========================================\n",
      "| Model parameters loaded successfully from: ./SavedModels/0.8175_LSTMPredNextModel_AOW_CompleteOnly_2021-07-01 20'45'16.353467  \n",
      "========================================\n",
      "\n",
      "========================================\n",
      "| Vocab loaded successfully from: ./SavedModels/0.8175_LSTMPredNextModel_AOW_CompleteOnly_2021-07-01 20'45'16.353467  \n",
      "========================================\n",
      "\n",
      "========================================\n",
      "| Model loaded successfully from: ./SavedModels/0.8175_LSTMPredNextModel_AOW_CompleteOnly_2021-07-01 20'45'16.353467  \n",
      "========================================\n"
     ]
    }
   ],
   "source": [
    "model = LSTMPredNextModel.load(\n",
    "    \"./SavedModels/%s\" % (\n",
    "    \"0.8175_LSTMPredNextModel_AOW_CompleteOnly_2021-07-01 20'45'16.353467\" \n",
    "    )\n",
    ")"
   ]
  },
  {
   "cell_type": "code",
   "execution_count": 4,
   "metadata": {},
   "outputs": [],
   "source": [
    "train_params = TrainingParameters(\n",
    "    stop_epoch=20,\n",
    ")"
   ]
  },
  {
   "cell_type": "code",
   "execution_count": 5,
   "metadata": {},
   "outputs": [],
   "source": [
    "loss_params = LossParameters()\n"
   ]
  },
  {
   "cell_type": "code",
   "execution_count": 6,
   "metadata": {},
   "outputs": [],
   "source": [
    "optim_params = OptimizerParameters()\n"
   ]
  },
  {
   "cell_type": "code",
   "execution_count": 7,
   "metadata": {},
   "outputs": [
    {
     "output_type": "stream",
     "name": "stdout",
     "text": [
      "\n========================================\n| Running on /job:localhost/replica:0/task:0/device:CPU:0  \n========================================\n"
     ]
    }
   ],
   "source": [
    "controller = TrainingController(\n",
    "    dataset,\n",
    "    model,\n",
    "    train_params,\n",
    "    optim_params,\n",
    "    loss_params,\n",
    ")"
   ]
  },
  {
   "cell_type": "code",
   "execution_count": 8,
   "metadata": {},
   "outputs": [
    {
     "output_type": "stream",
     "name": "stdout",
     "text": [
      "\n",
      "========================================\n",
      "| Performing Testing ... \n",
      "========================================\n",
      "\n",
      "========================================\n",
      "| Evaluation result | Loss [0.1209] | Accuracy [0.8175]  \n",
      "========================================\n"
     ]
    },
    {
     "output_type": "execute_result",
     "data": {
      "text/plain": [
       "0.8175190606043742"
      ]
     },
     "metadata": {},
     "execution_count": 8
    }
   ],
   "source": [
    "controller.perform_eval_on_testset()"
   ]
  },
  {
   "cell_type": "code",
   "execution_count": 9,
   "metadata": {},
   "outputs": [
    {
     "output_type": "stream",
     "name": "stdout",
     "text": [
      "                                         precision    recall  f1-score   support\n\n                                  <EOS>       0.98      0.96      0.97      1309\n                    A_ACCEPTED_COMPLETE       0.43      0.01      0.01       534\n                   A_ACTIVATED_COMPLETE       0.87      0.53      0.65       211\n                    A_APPROVED_COMPLETE       0.70      0.56      0.62       211\n                   A_CANCELLED_COMPLETE       0.66      0.26      0.37       315\n                    A_DECLINED_COMPLETE       0.52      0.38      0.44       745\n                   A_FINALIZED_COMPLETE       0.80      0.71      0.75       523\n             A_PARTLYSUBMITTED_COMPLETE       1.00      1.00      1.00      1309\n                 A_PREACCEPTED_COMPLETE       0.61      0.74      0.67       759\n                  A_REGISTERED_COMPLETE       0.62      0.75      0.68       211\n                   A_SUBMITTED_COMPLETE       1.00      1.00      1.00      1309\n                    O_ACCEPTED_COMPLETE       0.51      0.32      0.40       210\n                   O_CANCELLED_COMPLETE       0.98      0.51      0.67       393\n                     O_CREATED_COMPLETE       1.00      1.00      1.00       719\n                    O_DECLINED_COMPLETE       1.00      0.44      0.61        88\n                    O_SELECTED_COMPLETE       0.72      0.68      0.70       719\n                   O_SENT_BACK_COMPLETE       0.28      0.06      0.10       343\n                        O_SENT_COMPLETE       1.00      1.00      1.00       719\n            W_Afhandelen leads_COMPLETE       0.97      0.82      0.89       593\n           W_Beoordelen fraude_COMPLETE       0.54      0.26      0.35        27\n        W_Completeren aanvraag_COMPLETE       0.76      0.99      0.86      2406\nW_Nabellen incomplete dossiers_COMPLETE       0.77      0.88      0.82      1094\n           W_Nabellen offertes_COMPLETE       0.78      0.98      0.87      2405\n          W_Valideren aanvraag_COMPLETE       0.69      0.82      0.75       817\n\n                               accuracy                           0.82     17969\n                              macro avg       0.76      0.65      0.67     17969\n                           weighted avg       0.80      0.82      0.79     17969\n\n"
     ]
    }
   ],
   "source": [
    "print(classification_report(controller.all_target, controller.all_predictions, target_names=[dataset.activity_vocab.vocabs[i] for i in  list(set(controller.all_target))]))"
   ]
  },
  {
   "cell_type": "code",
   "execution_count": null,
   "metadata": {},
   "outputs": [],
   "source": []
  }
 ]
}