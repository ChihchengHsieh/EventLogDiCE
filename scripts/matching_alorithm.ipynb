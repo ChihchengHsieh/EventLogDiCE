{
 "metadata": {
  "language_info": {
   "codemirror_mode": {
    "name": "ipython",
    "version": 3
   },
   "file_extension": ".py",
   "mimetype": "text/x-python",
   "name": "python",
   "nbconvert_exporter": "python",
   "pygments_lexer": "ipython3",
   "version": "3.8.10"
  },
  "orig_nbformat": 4,
  "kernelspec": {
   "name": "python3",
   "display_name": "Python 3.8.10 64-bit ('tf_mac': conda)"
  },
  "interpreter": {
   "hash": "5c622353f32ef24c8d83e5c3e334107c074e82d7c3e8ca52c56b9fc900ce33e6"
  }
 },
 "nbformat": 4,
 "nbformat_minor": 2,
 "cells": [
  {
   "cell_type": "code",
   "execution_count": 1,
   "metadata": {},
   "outputs": [],
   "source": [
    "from parameters.dataset import BPI2012Parameters\n",
    "from dataset import BPI2012Dataset\n",
    "from utils.print import print_block\n",
    "from utils.bpi2012 import remove_trail_steps, print_model_prediction_result, remove_tags_for_seq\n",
    "import tensorflow as tf\n",
    "from model import LSTMPredNextModel, LSTMScenarioCfModel\n",
    "import numpy as np\n",
    "from dice import EventLogDiCE\n",
    "from parameters.training import TrainingParameters, LossParameters, OptimizerParameters\n",
    "from utils.preprocessing import dataset_split"
   ]
  },
  {
   "cell_type": "code",
   "execution_count": 2,
   "metadata": {},
   "outputs": [
    {
     "output_type": "stream",
     "name": "stdout",
     "text": [
      "\n========================================\n| Preprocessed data loaded successfully: ./data/preprocessed/BPI_Challenge_2012_with_resource/AOW_CompleteOnly \n========================================\n"
     ]
    }
   ],
   "source": [
    "dataset = BPI2012Dataset(BPI2012Parameters()) "
   ]
  },
  {
   "cell_type": "code",
   "execution_count": 3,
   "metadata": {},
   "outputs": [],
   "source": [
    "### Prepare the training dataset.\n",
    "train_params = TrainingParameters(\n",
    "    stop_epoch=20,\n",
    ")\n",
    "train_dataset, test_dataset, validation_dataset = dataset_split(\n",
    "    list(range(len(dataset))),\n",
    "    train_params.train_test_split_portion,\n",
    "    seed=train_params.random_seed,\n",
    "    shuffle=True\n",
    ")\n",
    "training_df = dataset.df.iloc[train_dataset]"
   ]
  },
  {
   "cell_type": "code",
   "execution_count": 4,
   "metadata": {},
   "outputs": [
    {
     "output_type": "stream",
     "name": "stdout",
     "text": [
      "\n",
      "====================Activity====================\n",
      "| [['<SOS>', 'A_SUBMITTED_COMPLETE', 'A_PARTLYSUBMITTED_COMPLETE', 'A_PREACCEPTED_COMPLETE', 'W_Completeren aanvraag_COMPLETE', 'W_Completeren aanvraag_COMPLETE', 'A_ACCEPTED_COMPLETE', 'A_FINALIZED_COMPLETE', 'O_SELECTED_COMPLETE', 'O_CREATED_COMPLETE', 'O_SENT_COMPLETE', 'W_Completeren aanvraag_COMPLETE', 'O_SENT_BACK_COMPLETE', 'W_Nabellen offertes_COMPLETE', 'O_ACCEPTED_COMPLETE', 'A_APPROVED_COMPLETE', 'A_REGISTERED_COMPLETE', 'A_ACTIVATED_COMPLETE', 'W_Valideren aanvraag_COMPLETE']] \n",
      "================================================\n",
      "\n",
      "====================Resource====================\n",
      "| [['<SOS>', '112', '112', '112', '11180', '11201', '11201', '11201', '11201', '11201', '11201', '11201', '11049', '11049', '10629', '10629', '10629', '10629', '10629']] \n",
      "================================================\n"
     ]
    }
   ],
   "source": [
    "#### Get the trace\n",
    "trace_idx = 52\n",
    "_, example_activities, _, example_resources, example_amount, _ = dataset.collate_fn([trace_idx])\n",
    "print_block(dataset.activity_vocab.list_of_index_to_vocab_2d(example_activities),\"Activity\")\n",
    "print_block(dataset.resource_vocab.list_of_index_to_vocab_2d(example_resources),\"Resource\")"
   ]
  },
  {
   "cell_type": "code",
   "execution_count": 5,
   "metadata": {},
   "outputs": [
    {
     "output_type": "stream",
     "name": "stdout",
     "text": [
      "\n",
      "====================Activity (Tail removed)====================\n",
      "| ['<SOS>', 'A_SUBMITTED_COMPLETE', 'A_PARTLYSUBMITTED_COMPLETE', 'A_PREACCEPTED_COMPLETE', 'W_Completeren aanvraag_COMPLETE', 'W_Completeren aanvraag_COMPLETE'] \n",
      "===============================================================\n",
      "\n",
      "====================Resource (Tail removed)====================\n",
      "| ['<SOS>', '112', '112', '112', '11180', '11201'] \n",
      "===============================================================\n",
      "\n",
      "====================Ground Truth====================\n",
      "| A_ACCEPTED_COMPLETE \n",
      "====================================================\n"
     ]
    }
   ],
   "source": [
    "## Remove tails\n",
    "tail_length_to_remove = 13\n",
    "example_idx_activities, example_idx_resources = remove_trail_steps(example_activities, example_resources, tail_length_to_remove)\n",
    "example_vocab_activities = dataset.activity_vocab.list_of_index_to_vocab_2d(example_idx_activities)[0]\n",
    "example_vocab_resources = dataset.resource_vocab.list_of_index_to_vocab_2d(example_idx_resources)[0]\n",
    "print_block(example_vocab_activities, \"Activity (Tail removed)\")\n",
    "print_block(example_vocab_resources, \"Resource (Tail removed)\")\n",
    "\n",
    "ground_truth_vocab =dataset.activity_vocab.index_to_vocab(example_activities[:, len(example_vocab_activities)][0])\n",
    "\n",
    "print_block(ground_truth_vocab, \"Ground Truth\")"
   ]
  },
  {
   "cell_type": "code",
   "execution_count": 6,
   "metadata": {},
   "outputs": [
    {
     "output_type": "stream",
     "name": "stdout",
     "text": [
      "\n",
      "========================================\n",
      "| Model parameters loaded successfully from: ./SavedModels/0.8175_LSTMPredNextModel_AOW_CompleteOnly_2021-07-01 20:45:16.353467  \n",
      "========================================\n",
      "\n",
      "========================================\n",
      "| Vocab loaded successfully from: ./SavedModels/0.8175_LSTMPredNextModel_AOW_CompleteOnly_2021-07-01 20:45:16.353467  \n",
      "========================================\n",
      "\n",
      "========================================\n",
      "| Model loaded successfully from: ./SavedModels/0.8175_LSTMPredNextModel_AOW_CompleteOnly_2021-07-01 20:45:16.353467  \n",
      "========================================\n"
     ]
    }
   ],
   "source": [
    "pred_model = LSTMPredNextModel.load(\n",
    "    \"./SavedModels/%s\" % (\n",
    "    \"0.8175_LSTMPredNextModel_AOW_CompleteOnly_2021-07-01 20:45:16.353467\" \n",
    "    )\n",
    ")"
   ]
  },
  {
   "cell_type": "code",
   "execution_count": 7,
   "metadata": {},
   "outputs": [
    {
     "output_type": "stream",
     "name": "stdout",
     "text": [
      "Model: \"LSTMPredNextModel\"\n_________________________________________________________________\nLayer (type)                 Output Shape              Param #   \n=================================================================\nembedding (Embedding)        multiple                  832       \n_________________________________________________________________\nembedding_1 (Embedding)      multiple                  9216      \n_________________________________________________________________\nlstm (LSTM)                  multiple                  24832     \n_________________________________________________________________\nlstm_1 (LSTM)                multiple                  33024     \n_________________________________________________________________\nlstm_2 (LSTM)                multiple                  49408     \n_________________________________________________________________\nlstm_3 (LSTM)                multiple                  33024     \n_________________________________________________________________\nsequential (Sequential)      (1, 64)                   4544      \n_________________________________________________________________\nsequential_1 (Sequential)    (1, 1, 26)                15066     \n=================================================================\nTotal params: 169,946\nTrainable params: 169,306\nNon-trainable params: 640\n_________________________________________________________________\n"
     ]
    }
   ],
   "source": [
    "_ = pred_model(**pred_model.get_example_input())\n",
    "pred_model.summary()"
   ]
  },
  {
   "cell_type": "code",
   "execution_count": 8,
   "metadata": {},
   "outputs": [
    {
     "output_type": "stream",
     "name": "stdout",
     "text": [
      "\n",
      "========================================Predict result========================================\n",
      "| Predicted activity with highest probability (0.69) is \"W_Completeren aanvraag_COMPLETE\" \n",
      "==============================================================================================\n",
      "\n",
      "\n",
      "\n",
      "<PAD>                                      1.174409e-07\n",
      "<EOS>                                      3.132308e-05\n",
      "<SOS>                                      1.881654e-07\n",
      "A_ACCEPTED_COMPLETE                        2.363838e-01\n",
      "A_ACTIVATED_COMPLETE                       1.805911e-06\n",
      "A_APPROVED_COMPLETE                        2.348171e-06\n",
      "A_CANCELLED_COMPLETE                       6.621396e-02\n",
      "A_DECLINED_COMPLETE                        1.187625e-02\n",
      "A_FINALIZED_COMPLETE                       9.158659e-06\n",
      "A_PARTLYSUBMITTED_COMPLETE                 1.821592e-07\n",
      "A_PREACCEPTED_COMPLETE                     1.974105e-07\n",
      "A_REGISTERED_COMPLETE                      2.050257e-06\n",
      "A_SUBMITTED_COMPLETE                       1.642594e-06\n",
      "O_ACCEPTED_COMPLETE                        1.552491e-05\n",
      "O_CANCELLED_COMPLETE                       5.550547e-06\n",
      "O_CREATED_COMPLETE                         4.282120e-08\n",
      "O_DECLINED_COMPLETE                        7.751900e-07\n",
      "O_SELECTED_COMPLETE                        3.321999e-05\n",
      "O_SENT_BACK_COMPLETE                       8.179315e-08\n",
      "O_SENT_COMPLETE                            4.313907e-07\n",
      "W_Afhandelen leads_COMPLETE                3.938352e-07\n",
      "W_Beoordelen fraude_COMPLETE               4.016037e-07\n",
      "W_Completeren aanvraag_COMPLETE            6.854161e-01\n",
      "W_Nabellen incomplete dossiers_COMPLETE    2.609098e-06\n",
      "W_Nabellen offertes_COMPLETE               5.625714e-07\n",
      "W_Valideren aanvraag_COMPLETE              1.329827e-06\n",
      "Name: 0, dtype: float64\n"
     ]
    }
   ],
   "source": [
    "##### Get model output\n",
    "example_activities_input = tf.constant(example_idx_activities)\n",
    "example_resources_input = tf.constant(example_idx_resources)\n",
    "example_amount_input = tf.constant(example_amount)\n",
    "\n",
    "predicted_df = print_model_prediction_result(pred_model, example_activities_input, example_resources_input, example_amount_input)"
   ]
  },
  {
   "cell_type": "code",
   "execution_count": 9,
   "metadata": {},
   "outputs": [
    {
     "output_type": "execute_result",
     "data": {
      "text/plain": [
       "          <PAD>     <EOS>         <SOS>  A_ACCEPTED_COMPLETE  \\\n",
       "0  1.174409e-07  0.000031  1.881654e-07             0.236384   \n",
       "\n",
       "   A_ACTIVATED_COMPLETE  A_APPROVED_COMPLETE  A_CANCELLED_COMPLETE  \\\n",
       "0              0.000002             0.000002              0.066214   \n",
       "\n",
       "   A_DECLINED_COMPLETE  A_FINALIZED_COMPLETE  A_PARTLYSUBMITTED_COMPLETE  ...  \\\n",
       "0             0.011876              0.000009                1.821592e-07  ...   \n",
       "\n",
       "   O_DECLINED_COMPLETE  O_SELECTED_COMPLETE  O_SENT_BACK_COMPLETE  \\\n",
       "0         7.751900e-07             0.000033          8.179315e-08   \n",
       "\n",
       "   O_SENT_COMPLETE  W_Afhandelen leads_COMPLETE  W_Beoordelen fraude_COMPLETE  \\\n",
       "0     4.313907e-07                 3.938352e-07                  4.016037e-07   \n",
       "\n",
       "   W_Completeren aanvraag_COMPLETE  W_Nabellen incomplete dossiers_COMPLETE  \\\n",
       "0                         0.685416                                 0.000003   \n",
       "\n",
       "   W_Nabellen offertes_COMPLETE  W_Valideren aanvraag_COMPLETE  \n",
       "0                  5.625714e-07                       0.000001  \n",
       "\n",
       "[1 rows x 26 columns]"
      ],
      "text/html": "<div>\n<style scoped>\n    .dataframe tbody tr th:only-of-type {\n        vertical-align: middle;\n    }\n\n    .dataframe tbody tr th {\n        vertical-align: top;\n    }\n\n    .dataframe thead th {\n        text-align: right;\n    }\n</style>\n<table border=\"1\" class=\"dataframe\">\n  <thead>\n    <tr style=\"text-align: right;\">\n      <th></th>\n      <th>&lt;PAD&gt;</th>\n      <th>&lt;EOS&gt;</th>\n      <th>&lt;SOS&gt;</th>\n      <th>A_ACCEPTED_COMPLETE</th>\n      <th>A_ACTIVATED_COMPLETE</th>\n      <th>A_APPROVED_COMPLETE</th>\n      <th>A_CANCELLED_COMPLETE</th>\n      <th>A_DECLINED_COMPLETE</th>\n      <th>A_FINALIZED_COMPLETE</th>\n      <th>A_PARTLYSUBMITTED_COMPLETE</th>\n      <th>...</th>\n      <th>O_DECLINED_COMPLETE</th>\n      <th>O_SELECTED_COMPLETE</th>\n      <th>O_SENT_BACK_COMPLETE</th>\n      <th>O_SENT_COMPLETE</th>\n      <th>W_Afhandelen leads_COMPLETE</th>\n      <th>W_Beoordelen fraude_COMPLETE</th>\n      <th>W_Completeren aanvraag_COMPLETE</th>\n      <th>W_Nabellen incomplete dossiers_COMPLETE</th>\n      <th>W_Nabellen offertes_COMPLETE</th>\n      <th>W_Valideren aanvraag_COMPLETE</th>\n    </tr>\n  </thead>\n  <tbody>\n    <tr>\n      <th>0</th>\n      <td>1.174409e-07</td>\n      <td>0.000031</td>\n      <td>1.881654e-07</td>\n      <td>0.236384</td>\n      <td>0.000002</td>\n      <td>0.000002</td>\n      <td>0.066214</td>\n      <td>0.011876</td>\n      <td>0.000009</td>\n      <td>1.821592e-07</td>\n      <td>...</td>\n      <td>7.751900e-07</td>\n      <td>0.000033</td>\n      <td>8.179315e-08</td>\n      <td>4.313907e-07</td>\n      <td>3.938352e-07</td>\n      <td>4.016037e-07</td>\n      <td>0.685416</td>\n      <td>0.000003</td>\n      <td>5.625714e-07</td>\n      <td>0.000001</td>\n    </tr>\n  </tbody>\n</table>\n<p>1 rows × 26 columns</p>\n</div>"
     },
     "metadata": {},
     "execution_count": 9
    }
   ],
   "source": [
    "predicted_df"
   ]
  },
  {
   "cell_type": "code",
   "execution_count": 10,
   "metadata": {},
   "outputs": [
    {
     "output_type": "execute_result",
     "data": {
      "text/plain": [
       "['<SOS>',\n",
       " 'A_SUBMITTED_COMPLETE',\n",
       " 'A_PARTLYSUBMITTED_COMPLETE',\n",
       " 'A_PREACCEPTED_COMPLETE',\n",
       " 'W_Completeren aanvraag_COMPLETE',\n",
       " 'W_Completeren aanvraag_COMPLETE']"
      ]
     },
     "metadata": {},
     "execution_count": 10
    }
   ],
   "source": [
    "example_vocab_activities"
   ]
  },
  {
   "cell_type": "code",
   "execution_count": 11,
   "metadata": {},
   "outputs": [
    {
     "output_type": "execute_result",
     "data": {
      "text/plain": [
       "['<SOS>', '112', '112', '112', '11180', '11201']"
      ]
     },
     "metadata": {},
     "execution_count": 11
    }
   ],
   "source": [
    "example_vocab_resources"
   ]
  },
  {
   "cell_type": "code",
   "execution_count": 12,
   "metadata": {},
   "outputs": [
    {
     "output_type": "execute_result",
     "data": {
      "text/plain": [
       "[15500.0]"
      ]
     },
     "metadata": {},
     "execution_count": 12
    }
   ],
   "source": [
    "example_amount"
   ]
  },
  {
   "cell_type": "code",
   "execution_count": 13,
   "metadata": {},
   "outputs": [
    {
     "output_type": "execute_result",
     "data": {
      "text/plain": [
       "['<PAD>',\n",
       " '<EOS>',\n",
       " '<SOS>',\n",
       " 'A_ACCEPTED_COMPLETE',\n",
       " 'A_ACTIVATED_COMPLETE',\n",
       " 'A_APPROVED_COMPLETE',\n",
       " 'A_CANCELLED_COMPLETE',\n",
       " 'A_DECLINED_COMPLETE',\n",
       " 'A_FINALIZED_COMPLETE',\n",
       " 'A_PARTLYSUBMITTED_COMPLETE',\n",
       " 'A_PREACCEPTED_COMPLETE',\n",
       " 'A_REGISTERED_COMPLETE',\n",
       " 'A_SUBMITTED_COMPLETE',\n",
       " 'O_ACCEPTED_COMPLETE',\n",
       " 'O_CANCELLED_COMPLETE',\n",
       " 'O_CREATED_COMPLETE',\n",
       " 'O_DECLINED_COMPLETE',\n",
       " 'O_SELECTED_COMPLETE',\n",
       " 'O_SENT_BACK_COMPLETE',\n",
       " 'O_SENT_COMPLETE',\n",
       " 'W_Afhandelen leads_COMPLETE',\n",
       " 'W_Beoordelen fraude_COMPLETE',\n",
       " 'W_Completeren aanvraag_COMPLETE',\n",
       " 'W_Nabellen incomplete dossiers_COMPLETE',\n",
       " 'W_Nabellen offertes_COMPLETE',\n",
       " 'W_Valideren aanvraag_COMPLETE']"
      ]
     },
     "metadata": {},
     "execution_count": 13
    }
   ],
   "source": [
    "dataset.activity_vocab.vocabs"
   ]
  },
  {
   "cell_type": "code",
   "execution_count": 14,
   "metadata": {},
   "outputs": [],
   "source": [
    "###### Searching for the instance.\n",
    "# Define miltstones \n",
    "milestones = [\n",
    "    \"A_SUBMITTED_COMPLETE\",\n",
    "    \"A_PARTLYSUBMITTED_COMPLETE\",\n",
    "    \"A_PREACCEPTED_COMPLETE\",\n",
    "    \"A_ACCEPTED_COMPLETE\",\n",
    "    \"A_FINALIZED_COMPLETE\",\n",
    "    \"O_SELECTED_COMPLETE\",\n",
    "    \"O_CREATED_COMPLETE\",\n",
    "    \"O_SENT_COMPLETE\",\n",
    "    \"O_SENT_BACK_COMPLETE\",\n",
    "    \"A_APPROVED_COMPLETE\",\n",
    "    \"A_ACTIVATED_COMPLETE\",\n",
    "    \"A_REGISTERED_COMPLETE\"\n",
    "]"
   ]
  },
  {
   "cell_type": "code",
   "execution_count": 15,
   "metadata": {},
   "outputs": [
    {
     "output_type": "execute_result",
     "data": {
      "text/plain": [
       "['A_SUBMITTED_COMPLETE',\n",
       " 'A_PARTLYSUBMITTED_COMPLETE',\n",
       " 'A_PREACCEPTED_COMPLETE']"
      ]
     },
     "metadata": {},
     "execution_count": 15
    }
   ],
   "source": [
    "milestone_filtered = [ a  for a in example_vocab_activities if a in milestones]\n",
    "milestone_filtered"
   ]
  },
  {
   "cell_type": "code",
   "execution_count": null,
   "metadata": {},
   "outputs": [],
   "source": []
  },
  {
   "cell_type": "code",
   "execution_count": 16,
   "metadata": {},
   "outputs": [],
   "source": [
    "desired = \"A_ACCEPTED_COMPLETE\""
   ]
  },
  {
   "cell_type": "code",
   "execution_count": 17,
   "metadata": {},
   "outputs": [],
   "source": [
    "query_df = training_df[[all([v in t['activity_vocab'] for v in milestone_filtered]) for t in training_df.iloc]]\n",
    "\n",
    "only_same_amount =True"
   ]
  },
  {
   "cell_type": "code",
   "execution_count": 18,
   "metadata": {},
   "outputs": [
    {
     "output_type": "execute_result",
     "data": {
      "text/plain": [
       "5874"
      ]
     },
     "metadata": {},
     "execution_count": 18
    }
   ],
   "source": [
    "len(query_df)"
   ]
  },
  {
   "cell_type": "code",
   "execution_count": 19,
   "metadata": {},
   "outputs": [],
   "source": [
    "c = 15"
   ]
  },
  {
   "cell_type": "code",
   "execution_count": 20,
   "metadata": {},
   "outputs": [
    {
     "output_type": "execute_result",
     "data": {
      "text/plain": [
       "True"
      ]
     },
     "metadata": {},
     "execution_count": 20
    }
   ],
   "source": [
    "not c is None"
   ]
  },
  {
   "cell_type": "code",
   "execution_count": 21,
   "metadata": {},
   "outputs": [],
   "source": [
    "if only_same_amount:\n",
    "    query_df = query_df[query_df['amount']==example_amount[0]]"
   ]
  },
  {
   "cell_type": "code",
   "execution_count": 22,
   "metadata": {},
   "outputs": [],
   "source": [
    "# Find with desired\n",
    "desired_df = query_df[[ desired in v for v in query_df['activity_vocab']]]"
   ]
  },
  {
   "cell_type": "code",
   "execution_count": 23,
   "metadata": {},
   "outputs": [
    {
     "output_type": "execute_result",
     "data": {
      "text/plain": [
       "                                               activity  \\\n",
       "52    [2, 12, 9, 10, 22, 22, 3, 8, 17, 15, 19, 22, 1...   \n",
       "61    [2, 12, 9, 10, 22, 22, 22, 22, 22, 3, 17, 8, 1...   \n",
       "6714  [2, 12, 9, 10, 20, 3, 17, 8, 15, 19, 22, 24, 1...   \n",
       "\n",
       "                                         activity_vocab  caseid   amount  \\\n",
       "52    [<SOS>, A_SUBMITTED_COMPLETE, A_PARTLYSUBMITTE...  173844  15500.0   \n",
       "61    [<SOS>, A_SUBMITTED_COMPLETE, A_PARTLYSUBMITTE...  173871  15500.0   \n",
       "6714  [<SOS>, A_SUBMITTED_COMPLETE, A_PARTLYSUBMITTE...  194583  15500.0   \n",
       "\n",
       "                                               resource  \\\n",
       "52    [70, 53, 53, 53, 50, 55, 55, 55, 55, 55, 55, 5...   \n",
       "61    [70, 53, 53, 53, 71, 55, 18, 18, 20, 20, 20, 2...   \n",
       "6714  [70, 53, 53, 30, 30, 52, 52, 52, 52, 52, 52, 5...   \n",
       "\n",
       "                                         resource_vocab  \n",
       "52    [<SOS>, 112, 112, 112, 11180, 11201, 11201, 11...  \n",
       "61    [<SOS>, 112, 112, 112, UNKNOWN, 11201, 10889, ...  \n",
       "6714  [<SOS>, 112, 112, 10939, 10939, 11189, 11189, ...  "
      ],
      "text/html": "<div>\n<style scoped>\n    .dataframe tbody tr th:only-of-type {\n        vertical-align: middle;\n    }\n\n    .dataframe tbody tr th {\n        vertical-align: top;\n    }\n\n    .dataframe thead th {\n        text-align: right;\n    }\n</style>\n<table border=\"1\" class=\"dataframe\">\n  <thead>\n    <tr style=\"text-align: right;\">\n      <th></th>\n      <th>activity</th>\n      <th>activity_vocab</th>\n      <th>caseid</th>\n      <th>amount</th>\n      <th>resource</th>\n      <th>resource_vocab</th>\n    </tr>\n  </thead>\n  <tbody>\n    <tr>\n      <th>52</th>\n      <td>[2, 12, 9, 10, 22, 22, 3, 8, 17, 15, 19, 22, 1...</td>\n      <td>[&lt;SOS&gt;, A_SUBMITTED_COMPLETE, A_PARTLYSUBMITTE...</td>\n      <td>173844</td>\n      <td>15500.0</td>\n      <td>[70, 53, 53, 53, 50, 55, 55, 55, 55, 55, 55, 5...</td>\n      <td>[&lt;SOS&gt;, 112, 112, 112, 11180, 11201, 11201, 11...</td>\n    </tr>\n    <tr>\n      <th>61</th>\n      <td>[2, 12, 9, 10, 22, 22, 22, 22, 22, 3, 17, 8, 1...</td>\n      <td>[&lt;SOS&gt;, A_SUBMITTED_COMPLETE, A_PARTLYSUBMITTE...</td>\n      <td>173871</td>\n      <td>15500.0</td>\n      <td>[70, 53, 53, 53, 71, 55, 18, 18, 20, 20, 20, 2...</td>\n      <td>[&lt;SOS&gt;, 112, 112, 112, UNKNOWN, 11201, 10889, ...</td>\n    </tr>\n    <tr>\n      <th>6714</th>\n      <td>[2, 12, 9, 10, 20, 3, 17, 8, 15, 19, 22, 24, 1...</td>\n      <td>[&lt;SOS&gt;, A_SUBMITTED_COMPLETE, A_PARTLYSUBMITTE...</td>\n      <td>194583</td>\n      <td>15500.0</td>\n      <td>[70, 53, 53, 30, 30, 52, 52, 52, 52, 52, 52, 5...</td>\n      <td>[&lt;SOS&gt;, 112, 112, 10939, 10939, 11189, 11189, ...</td>\n    </tr>\n  </tbody>\n</table>\n</div>"
     },
     "metadata": {},
     "execution_count": 23
    }
   ],
   "source": [
    "desired_df.head(3)"
   ]
  },
  {
   "cell_type": "code",
   "execution_count": 24,
   "metadata": {},
   "outputs": [],
   "source": [
    "if (len(desired_df) <= 0):\n",
    "    raise Exception(\"Not matches found in trainig set\")"
   ]
  },
  {
   "cell_type": "code",
   "execution_count": 25,
   "metadata": {},
   "outputs": [],
   "source": [
    "for idx in list(desired_df.index):\n",
    "    desired_idx = desired_df.loc[idx]['activity_vocab'].index(ground_truth_vocab)\n",
    "\n",
    "    for col in ['activity', 'activity_vocab', 'resource', 'resource_vocab']:\n",
    "        desired_df.at[idx, col] = desired_df.loc[idx][col][:desired_idx]"
   ]
  },
  {
   "cell_type": "code",
   "execution_count": 26,
   "metadata": {},
   "outputs": [],
   "source": [
    "all_predicted_vocabs = []\n",
    "all_predicted_value = []\n",
    "for idx in range(len(desired_df)):\n",
    "    ex_activity = tf.constant([desired_df.iloc[idx]['activity']], dtype=tf.float32)\n",
    "    ex_resource = tf.constant([desired_df.iloc[idx]['resource']], dtype=tf.float32)\n",
    "    ex_amount = tf.constant([desired_df.iloc[idx]['amount']], dtype=tf.float32)\n",
    "    out, _ = pred_model(ex_activity, ex_resource, ex_amount, training=False)\n",
    "    out = tf.nn.softmax(out, axis=-1)\n",
    "    pred_idx = tf.argmax(out[:, -1, :], axis=-1).numpy()[0]\n",
    "    predicted_vocab =  dataset.activity_vocab.index_to_vocab(pred_idx)\n",
    "    all_predicted_vocabs.append(predicted_vocab)\n",
    "    all_predicted_value.append(out[:, -1, pred_idx].numpy()[0])"
   ]
  },
  {
   "cell_type": "code",
   "execution_count": 36,
   "metadata": {},
   "outputs": [],
   "source": [
    "import pandas as pd"
   ]
  },
  {
   "cell_type": "code",
   "execution_count": 39,
   "metadata": {},
   "outputs": [],
   "source": [
    "desired_df = pd.DataFrame(desired_df)"
   ]
  },
  {
   "cell_type": "code",
   "execution_count": 40,
   "metadata": {},
   "outputs": [
    {
     "output_type": "execute_result",
     "data": {
      "text/plain": [
       "                                activity  \\\n",
       "52                [2, 12, 9, 10, 22, 22]   \n",
       "61    [2, 12, 9, 10, 22, 22, 22, 22, 22]   \n",
       "6714                  [2, 12, 9, 10, 20]   \n",
       "1031                  [2, 12, 9, 10, 20]   \n",
       "7405                      [2, 12, 9, 10]   \n",
       "583                   [2, 12, 9, 10, 22]   \n",
       "7554                  [2, 12, 9, 10, 20]   \n",
       "9470                  [2, 12, 9, 10, 20]   \n",
       "7786                      [2, 12, 9, 10]   \n",
       "\n",
       "                                         activity_vocab  caseid   amount  \\\n",
       "52    [<SOS>, A_SUBMITTED_COMPLETE, A_PARTLYSUBMITTE...  173844  15500.0   \n",
       "61    [<SOS>, A_SUBMITTED_COMPLETE, A_PARTLYSUBMITTE...  173871  15500.0   \n",
       "6714  [<SOS>, A_SUBMITTED_COMPLETE, A_PARTLYSUBMITTE...  194583  15500.0   \n",
       "1031  [<SOS>, A_SUBMITTED_COMPLETE, A_PARTLYSUBMITTE...  176927  15500.0   \n",
       "7405  [<SOS>, A_SUBMITTED_COMPLETE, A_PARTLYSUBMITTE...  196777  15500.0   \n",
       "583   [<SOS>, A_SUBMITTED_COMPLETE, A_PARTLYSUBMITTE...  175528  15500.0   \n",
       "7554  [<SOS>, A_SUBMITTED_COMPLETE, A_PARTLYSUBMITTE...  197234  15500.0   \n",
       "9470  [<SOS>, A_SUBMITTED_COMPLETE, A_PARTLYSUBMITTE...  203206  15500.0   \n",
       "7786  [<SOS>, A_SUBMITTED_COMPLETE, A_PARTLYSUBMITTE...  197948  15500.0   \n",
       "\n",
       "                                  resource  \\\n",
       "52                [70, 53, 53, 53, 50, 55]   \n",
       "61    [70, 53, 53, 53, 71, 55, 18, 18, 20]   \n",
       "6714                  [70, 53, 53, 30, 30]   \n",
       "1031                  [70, 53, 53, 38, 38]   \n",
       "7405                      [70, 53, 53, 53]   \n",
       "583                   [70, 53, 53, 53, 22]   \n",
       "7554                  [70, 53, 53, 25, 25]   \n",
       "9470                  [70, 53, 53, 21, 21]   \n",
       "7786                      [70, 53, 53, 53]   \n",
       "\n",
       "                                         resource_vocab  \\\n",
       "52                 [<SOS>, 112, 112, 112, 11180, 11201]   \n",
       "61    [<SOS>, 112, 112, 112, UNKNOWN, 11201, 10889, ...   \n",
       "6714                    [<SOS>, 112, 112, 10939, 10939]   \n",
       "1031                    [<SOS>, 112, 112, 11009, 11009]   \n",
       "7405                             [<SOS>, 112, 112, 112]   \n",
       "583                       [<SOS>, 112, 112, 112, 10912]   \n",
       "7554                    [<SOS>, 112, 112, 10929, 10929]   \n",
       "9470                    [<SOS>, 112, 112, 10910, 10910]   \n",
       "7786                             [<SOS>, 112, 112, 112]   \n",
       "\n",
       "                            Predicted  \n",
       "52    W_Completeren aanvraag_COMPLETE  \n",
       "61    W_Completeren aanvraag_COMPLETE  \n",
       "6714  W_Completeren aanvraag_COMPLETE  \n",
       "1031  W_Completeren aanvraag_COMPLETE  \n",
       "7405  W_Completeren aanvraag_COMPLETE  \n",
       "583   W_Completeren aanvraag_COMPLETE  \n",
       "7554  W_Completeren aanvraag_COMPLETE  \n",
       "9470  W_Completeren aanvraag_COMPLETE  \n",
       "7786  W_Completeren aanvraag_COMPLETE  "
      ],
      "text/html": "<div>\n<style scoped>\n    .dataframe tbody tr th:only-of-type {\n        vertical-align: middle;\n    }\n\n    .dataframe tbody tr th {\n        vertical-align: top;\n    }\n\n    .dataframe thead th {\n        text-align: right;\n    }\n</style>\n<table border=\"1\" class=\"dataframe\">\n  <thead>\n    <tr style=\"text-align: right;\">\n      <th></th>\n      <th>activity</th>\n      <th>activity_vocab</th>\n      <th>caseid</th>\n      <th>amount</th>\n      <th>resource</th>\n      <th>resource_vocab</th>\n      <th>Predicted</th>\n    </tr>\n  </thead>\n  <tbody>\n    <tr>\n      <th>52</th>\n      <td>[2, 12, 9, 10, 22, 22]</td>\n      <td>[&lt;SOS&gt;, A_SUBMITTED_COMPLETE, A_PARTLYSUBMITTE...</td>\n      <td>173844</td>\n      <td>15500.0</td>\n      <td>[70, 53, 53, 53, 50, 55]</td>\n      <td>[&lt;SOS&gt;, 112, 112, 112, 11180, 11201]</td>\n      <td>W_Completeren aanvraag_COMPLETE</td>\n    </tr>\n    <tr>\n      <th>61</th>\n      <td>[2, 12, 9, 10, 22, 22, 22, 22, 22]</td>\n      <td>[&lt;SOS&gt;, A_SUBMITTED_COMPLETE, A_PARTLYSUBMITTE...</td>\n      <td>173871</td>\n      <td>15500.0</td>\n      <td>[70, 53, 53, 53, 71, 55, 18, 18, 20]</td>\n      <td>[&lt;SOS&gt;, 112, 112, 112, UNKNOWN, 11201, 10889, ...</td>\n      <td>W_Completeren aanvraag_COMPLETE</td>\n    </tr>\n    <tr>\n      <th>6714</th>\n      <td>[2, 12, 9, 10, 20]</td>\n      <td>[&lt;SOS&gt;, A_SUBMITTED_COMPLETE, A_PARTLYSUBMITTE...</td>\n      <td>194583</td>\n      <td>15500.0</td>\n      <td>[70, 53, 53, 30, 30]</td>\n      <td>[&lt;SOS&gt;, 112, 112, 10939, 10939]</td>\n      <td>W_Completeren aanvraag_COMPLETE</td>\n    </tr>\n    <tr>\n      <th>1031</th>\n      <td>[2, 12, 9, 10, 20]</td>\n      <td>[&lt;SOS&gt;, A_SUBMITTED_COMPLETE, A_PARTLYSUBMITTE...</td>\n      <td>176927</td>\n      <td>15500.0</td>\n      <td>[70, 53, 53, 38, 38]</td>\n      <td>[&lt;SOS&gt;, 112, 112, 11009, 11009]</td>\n      <td>W_Completeren aanvraag_COMPLETE</td>\n    </tr>\n    <tr>\n      <th>7405</th>\n      <td>[2, 12, 9, 10]</td>\n      <td>[&lt;SOS&gt;, A_SUBMITTED_COMPLETE, A_PARTLYSUBMITTE...</td>\n      <td>196777</td>\n      <td>15500.0</td>\n      <td>[70, 53, 53, 53]</td>\n      <td>[&lt;SOS&gt;, 112, 112, 112]</td>\n      <td>W_Completeren aanvraag_COMPLETE</td>\n    </tr>\n    <tr>\n      <th>583</th>\n      <td>[2, 12, 9, 10, 22]</td>\n      <td>[&lt;SOS&gt;, A_SUBMITTED_COMPLETE, A_PARTLYSUBMITTE...</td>\n      <td>175528</td>\n      <td>15500.0</td>\n      <td>[70, 53, 53, 53, 22]</td>\n      <td>[&lt;SOS&gt;, 112, 112, 112, 10912]</td>\n      <td>W_Completeren aanvraag_COMPLETE</td>\n    </tr>\n    <tr>\n      <th>7554</th>\n      <td>[2, 12, 9, 10, 20]</td>\n      <td>[&lt;SOS&gt;, A_SUBMITTED_COMPLETE, A_PARTLYSUBMITTE...</td>\n      <td>197234</td>\n      <td>15500.0</td>\n      <td>[70, 53, 53, 25, 25]</td>\n      <td>[&lt;SOS&gt;, 112, 112, 10929, 10929]</td>\n      <td>W_Completeren aanvraag_COMPLETE</td>\n    </tr>\n    <tr>\n      <th>9470</th>\n      <td>[2, 12, 9, 10, 20]</td>\n      <td>[&lt;SOS&gt;, A_SUBMITTED_COMPLETE, A_PARTLYSUBMITTE...</td>\n      <td>203206</td>\n      <td>15500.0</td>\n      <td>[70, 53, 53, 21, 21]</td>\n      <td>[&lt;SOS&gt;, 112, 112, 10910, 10910]</td>\n      <td>W_Completeren aanvraag_COMPLETE</td>\n    </tr>\n    <tr>\n      <th>7786</th>\n      <td>[2, 12, 9, 10]</td>\n      <td>[&lt;SOS&gt;, A_SUBMITTED_COMPLETE, A_PARTLYSUBMITTE...</td>\n      <td>197948</td>\n      <td>15500.0</td>\n      <td>[70, 53, 53, 53]</td>\n      <td>[&lt;SOS&gt;, 112, 112, 112]</td>\n      <td>W_Completeren aanvraag_COMPLETE</td>\n    </tr>\n  </tbody>\n</table>\n</div>"
     },
     "metadata": {},
     "execution_count": 40
    }
   ],
   "source": [
    "desired_df"
   ]
  },
  {
   "cell_type": "code",
   "execution_count": 38,
   "metadata": {},
   "outputs": [],
   "source": [
    "desired_df.loc[:, \"Predicted\"] = all_predicted_vocabs"
   ]
  },
  {
   "cell_type": "code",
   "execution_count": null,
   "metadata": {},
   "outputs": [],
   "source": []
  },
  {
   "cell_type": "code",
   "execution_count": 28,
   "metadata": {},
   "outputs": [
    {
     "output_type": "execute_result",
     "data": {
      "text/plain": [
       "                                activity  \\\n",
       "52                [2, 12, 9, 10, 22, 22]   \n",
       "61    [2, 12, 9, 10, 22, 22, 22, 22, 22]   \n",
       "6714                  [2, 12, 9, 10, 20]   \n",
       "1031                  [2, 12, 9, 10, 20]   \n",
       "7405                      [2, 12, 9, 10]   \n",
       "583                   [2, 12, 9, 10, 22]   \n",
       "7554                  [2, 12, 9, 10, 20]   \n",
       "9470                  [2, 12, 9, 10, 20]   \n",
       "7786                      [2, 12, 9, 10]   \n",
       "\n",
       "                                         activity_vocab  caseid   amount  \\\n",
       "52    [<SOS>, A_SUBMITTED_COMPLETE, A_PARTLYSUBMITTE...  173844  15500.0   \n",
       "61    [<SOS>, A_SUBMITTED_COMPLETE, A_PARTLYSUBMITTE...  173871  15500.0   \n",
       "6714  [<SOS>, A_SUBMITTED_COMPLETE, A_PARTLYSUBMITTE...  194583  15500.0   \n",
       "1031  [<SOS>, A_SUBMITTED_COMPLETE, A_PARTLYSUBMITTE...  176927  15500.0   \n",
       "7405  [<SOS>, A_SUBMITTED_COMPLETE, A_PARTLYSUBMITTE...  196777  15500.0   \n",
       "583   [<SOS>, A_SUBMITTED_COMPLETE, A_PARTLYSUBMITTE...  175528  15500.0   \n",
       "7554  [<SOS>, A_SUBMITTED_COMPLETE, A_PARTLYSUBMITTE...  197234  15500.0   \n",
       "9470  [<SOS>, A_SUBMITTED_COMPLETE, A_PARTLYSUBMITTE...  203206  15500.0   \n",
       "7786  [<SOS>, A_SUBMITTED_COMPLETE, A_PARTLYSUBMITTE...  197948  15500.0   \n",
       "\n",
       "                                  resource  \\\n",
       "52                [70, 53, 53, 53, 50, 55]   \n",
       "61    [70, 53, 53, 53, 71, 55, 18, 18, 20]   \n",
       "6714                  [70, 53, 53, 30, 30]   \n",
       "1031                  [70, 53, 53, 38, 38]   \n",
       "7405                      [70, 53, 53, 53]   \n",
       "583                   [70, 53, 53, 53, 22]   \n",
       "7554                  [70, 53, 53, 25, 25]   \n",
       "9470                  [70, 53, 53, 21, 21]   \n",
       "7786                      [70, 53, 53, 53]   \n",
       "\n",
       "                                         resource_vocab  \\\n",
       "52                 [<SOS>, 112, 112, 112, 11180, 11201]   \n",
       "61    [<SOS>, 112, 112, 112, UNKNOWN, 11201, 10889, ...   \n",
       "6714                    [<SOS>, 112, 112, 10939, 10939]   \n",
       "1031                    [<SOS>, 112, 112, 11009, 11009]   \n",
       "7405                             [<SOS>, 112, 112, 112]   \n",
       "583                       [<SOS>, 112, 112, 112, 10912]   \n",
       "7554                    [<SOS>, 112, 112, 10929, 10929]   \n",
       "9470                    [<SOS>, 112, 112, 10910, 10910]   \n",
       "7786                             [<SOS>, 112, 112, 112]   \n",
       "\n",
       "                            Predicted  \n",
       "52    W_Completeren aanvraag_COMPLETE  \n",
       "61    W_Completeren aanvraag_COMPLETE  \n",
       "6714  W_Completeren aanvraag_COMPLETE  \n",
       "1031  W_Completeren aanvraag_COMPLETE  \n",
       "7405  W_Completeren aanvraag_COMPLETE  \n",
       "583   W_Completeren aanvraag_COMPLETE  \n",
       "7554  W_Completeren aanvraag_COMPLETE  \n",
       "9470  W_Completeren aanvraag_COMPLETE  \n",
       "7786  W_Completeren aanvraag_COMPLETE  "
      ],
      "text/html": "<div>\n<style scoped>\n    .dataframe tbody tr th:only-of-type {\n        vertical-align: middle;\n    }\n\n    .dataframe tbody tr th {\n        vertical-align: top;\n    }\n\n    .dataframe thead th {\n        text-align: right;\n    }\n</style>\n<table border=\"1\" class=\"dataframe\">\n  <thead>\n    <tr style=\"text-align: right;\">\n      <th></th>\n      <th>activity</th>\n      <th>activity_vocab</th>\n      <th>caseid</th>\n      <th>amount</th>\n      <th>resource</th>\n      <th>resource_vocab</th>\n      <th>Predicted</th>\n    </tr>\n  </thead>\n  <tbody>\n    <tr>\n      <th>52</th>\n      <td>[2, 12, 9, 10, 22, 22]</td>\n      <td>[&lt;SOS&gt;, A_SUBMITTED_COMPLETE, A_PARTLYSUBMITTE...</td>\n      <td>173844</td>\n      <td>15500.0</td>\n      <td>[70, 53, 53, 53, 50, 55]</td>\n      <td>[&lt;SOS&gt;, 112, 112, 112, 11180, 11201]</td>\n      <td>W_Completeren aanvraag_COMPLETE</td>\n    </tr>\n    <tr>\n      <th>61</th>\n      <td>[2, 12, 9, 10, 22, 22, 22, 22, 22]</td>\n      <td>[&lt;SOS&gt;, A_SUBMITTED_COMPLETE, A_PARTLYSUBMITTE...</td>\n      <td>173871</td>\n      <td>15500.0</td>\n      <td>[70, 53, 53, 53, 71, 55, 18, 18, 20]</td>\n      <td>[&lt;SOS&gt;, 112, 112, 112, UNKNOWN, 11201, 10889, ...</td>\n      <td>W_Completeren aanvraag_COMPLETE</td>\n    </tr>\n    <tr>\n      <th>6714</th>\n      <td>[2, 12, 9, 10, 20]</td>\n      <td>[&lt;SOS&gt;, A_SUBMITTED_COMPLETE, A_PARTLYSUBMITTE...</td>\n      <td>194583</td>\n      <td>15500.0</td>\n      <td>[70, 53, 53, 30, 30]</td>\n      <td>[&lt;SOS&gt;, 112, 112, 10939, 10939]</td>\n      <td>W_Completeren aanvraag_COMPLETE</td>\n    </tr>\n    <tr>\n      <th>1031</th>\n      <td>[2, 12, 9, 10, 20]</td>\n      <td>[&lt;SOS&gt;, A_SUBMITTED_COMPLETE, A_PARTLYSUBMITTE...</td>\n      <td>176927</td>\n      <td>15500.0</td>\n      <td>[70, 53, 53, 38, 38]</td>\n      <td>[&lt;SOS&gt;, 112, 112, 11009, 11009]</td>\n      <td>W_Completeren aanvraag_COMPLETE</td>\n    </tr>\n    <tr>\n      <th>7405</th>\n      <td>[2, 12, 9, 10]</td>\n      <td>[&lt;SOS&gt;, A_SUBMITTED_COMPLETE, A_PARTLYSUBMITTE...</td>\n      <td>196777</td>\n      <td>15500.0</td>\n      <td>[70, 53, 53, 53]</td>\n      <td>[&lt;SOS&gt;, 112, 112, 112]</td>\n      <td>W_Completeren aanvraag_COMPLETE</td>\n    </tr>\n    <tr>\n      <th>583</th>\n      <td>[2, 12, 9, 10, 22]</td>\n      <td>[&lt;SOS&gt;, A_SUBMITTED_COMPLETE, A_PARTLYSUBMITTE...</td>\n      <td>175528</td>\n      <td>15500.0</td>\n      <td>[70, 53, 53, 53, 22]</td>\n      <td>[&lt;SOS&gt;, 112, 112, 112, 10912]</td>\n      <td>W_Completeren aanvraag_COMPLETE</td>\n    </tr>\n    <tr>\n      <th>7554</th>\n      <td>[2, 12, 9, 10, 20]</td>\n      <td>[&lt;SOS&gt;, A_SUBMITTED_COMPLETE, A_PARTLYSUBMITTE...</td>\n      <td>197234</td>\n      <td>15500.0</td>\n      <td>[70, 53, 53, 25, 25]</td>\n      <td>[&lt;SOS&gt;, 112, 112, 10929, 10929]</td>\n      <td>W_Completeren aanvraag_COMPLETE</td>\n    </tr>\n    <tr>\n      <th>9470</th>\n      <td>[2, 12, 9, 10, 20]</td>\n      <td>[&lt;SOS&gt;, A_SUBMITTED_COMPLETE, A_PARTLYSUBMITTE...</td>\n      <td>203206</td>\n      <td>15500.0</td>\n      <td>[70, 53, 53, 21, 21]</td>\n      <td>[&lt;SOS&gt;, 112, 112, 10910, 10910]</td>\n      <td>W_Completeren aanvraag_COMPLETE</td>\n    </tr>\n    <tr>\n      <th>7786</th>\n      <td>[2, 12, 9, 10]</td>\n      <td>[&lt;SOS&gt;, A_SUBMITTED_COMPLETE, A_PARTLYSUBMITTE...</td>\n      <td>197948</td>\n      <td>15500.0</td>\n      <td>[70, 53, 53, 53]</td>\n      <td>[&lt;SOS&gt;, 112, 112, 112]</td>\n      <td>W_Completeren aanvraag_COMPLETE</td>\n    </tr>\n  </tbody>\n</table>\n</div>"
     },
     "metadata": {},
     "execution_count": 28
    }
   ],
   "source": [
    "desired_df"
   ]
  },
  {
   "cell_type": "code",
   "execution_count": 29,
   "metadata": {},
   "outputs": [],
   "source": [
    "from cf_search import CfSearcher"
   ]
  },
  {
   "cell_type": "code",
   "execution_count": 30,
   "metadata": {},
   "outputs": [],
   "source": [
    "searcher = CfSearcher(training_df, pred_model)"
   ]
  },
  {
   "cell_type": "code",
   "execution_count": 32,
   "metadata": {},
   "outputs": [
    {
     "output_type": "stream",
     "name": "stderr",
     "text": [
      "/Users/jrhs/EventLogDiCE/cf_search/CfSearcher.py:62: SettingWithCopyWarning: \nA value is trying to be set on a copy of a slice from a DataFrame.\nTry using .loc[row_indexer,col_indexer] = value instead\n\nSee the caveats in the documentation: https://pandas.pydata.org/pandas-docs/stable/user_guide/indexing.html#returning-a-view-versus-a-copy\n  desired_df['Predicted_vocab'] = all_predicted_vocabs\n/Users/jrhs/EventLogDiCE/cf_search/CfSearcher.py:63: SettingWithCopyWarning: \nA value is trying to be set on a copy of a slice from a DataFrame.\nTry using .loc[row_indexer,col_indexer] = value instead\n\nSee the caveats in the documentation: https://pandas.pydata.org/pandas-docs/stable/user_guide/indexing.html#returning-a-view-versus-a-copy\n  desired_df['Predicted_value'] = all_predicted_value\n"
     ]
    },
    {
     "output_type": "execute_result",
     "data": {
      "text/plain": [
       "                                activity  \\\n",
       "52                [2, 12, 9, 10, 22, 22]   \n",
       "61    [2, 12, 9, 10, 22, 22, 22, 22, 22]   \n",
       "6714                  [2, 12, 9, 10, 20]   \n",
       "1031                  [2, 12, 9, 10, 20]   \n",
       "7405                      [2, 12, 9, 10]   \n",
       "583                   [2, 12, 9, 10, 22]   \n",
       "7554                  [2, 12, 9, 10, 20]   \n",
       "9470                  [2, 12, 9, 10, 20]   \n",
       "7786                      [2, 12, 9, 10]   \n",
       "\n",
       "                                         activity_vocab  caseid   amount  \\\n",
       "52    [<SOS>, A_SUBMITTED_COMPLETE, A_PARTLYSUBMITTE...  173844  15500.0   \n",
       "61    [<SOS>, A_SUBMITTED_COMPLETE, A_PARTLYSUBMITTE...  173871  15500.0   \n",
       "6714  [<SOS>, A_SUBMITTED_COMPLETE, A_PARTLYSUBMITTE...  194583  15500.0   \n",
       "1031  [<SOS>, A_SUBMITTED_COMPLETE, A_PARTLYSUBMITTE...  176927  15500.0   \n",
       "7405  [<SOS>, A_SUBMITTED_COMPLETE, A_PARTLYSUBMITTE...  196777  15500.0   \n",
       "583   [<SOS>, A_SUBMITTED_COMPLETE, A_PARTLYSUBMITTE...  175528  15500.0   \n",
       "7554  [<SOS>, A_SUBMITTED_COMPLETE, A_PARTLYSUBMITTE...  197234  15500.0   \n",
       "9470  [<SOS>, A_SUBMITTED_COMPLETE, A_PARTLYSUBMITTE...  203206  15500.0   \n",
       "7786  [<SOS>, A_SUBMITTED_COMPLETE, A_PARTLYSUBMITTE...  197948  15500.0   \n",
       "\n",
       "                                  resource  \\\n",
       "52                [70, 53, 53, 53, 50, 55]   \n",
       "61    [70, 53, 53, 53, 71, 55, 18, 18, 20]   \n",
       "6714                  [70, 53, 53, 30, 30]   \n",
       "1031                  [70, 53, 53, 38, 38]   \n",
       "7405                      [70, 53, 53, 53]   \n",
       "583                   [70, 53, 53, 53, 22]   \n",
       "7554                  [70, 53, 53, 25, 25]   \n",
       "9470                  [70, 53, 53, 21, 21]   \n",
       "7786                      [70, 53, 53, 53]   \n",
       "\n",
       "                                         resource_vocab  \\\n",
       "52                 [<SOS>, 112, 112, 112, 11180, 11201]   \n",
       "61    [<SOS>, 112, 112, 112, UNKNOWN, 11201, 10889, ...   \n",
       "6714                    [<SOS>, 112, 112, 10939, 10939]   \n",
       "1031                    [<SOS>, 112, 112, 11009, 11009]   \n",
       "7405                             [<SOS>, 112, 112, 112]   \n",
       "583                       [<SOS>, 112, 112, 112, 10912]   \n",
       "7554                    [<SOS>, 112, 112, 10929, 10929]   \n",
       "9470                    [<SOS>, 112, 112, 10910, 10910]   \n",
       "7786                             [<SOS>, 112, 112, 112]   \n",
       "\n",
       "                      Predicted_vocab  Predicted_value  \n",
       "52    W_Completeren aanvraag_COMPLETE         0.685416  \n",
       "61    W_Completeren aanvraag_COMPLETE         0.878228  \n",
       "6714  W_Completeren aanvraag_COMPLETE         0.528128  \n",
       "1031  W_Completeren aanvraag_COMPLETE         0.671937  \n",
       "7405  W_Completeren aanvraag_COMPLETE         0.555065  \n",
       "583   W_Completeren aanvraag_COMPLETE         0.652978  \n",
       "7554  W_Completeren aanvraag_COMPLETE         0.608703  \n",
       "9470  W_Completeren aanvraag_COMPLETE         0.634169  \n",
       "7786  W_Completeren aanvraag_COMPLETE         0.555065  "
      ],
      "text/html": "<div>\n<style scoped>\n    .dataframe tbody tr th:only-of-type {\n        vertical-align: middle;\n    }\n\n    .dataframe tbody tr th {\n        vertical-align: top;\n    }\n\n    .dataframe thead th {\n        text-align: right;\n    }\n</style>\n<table border=\"1\" class=\"dataframe\">\n  <thead>\n    <tr style=\"text-align: right;\">\n      <th></th>\n      <th>activity</th>\n      <th>activity_vocab</th>\n      <th>caseid</th>\n      <th>amount</th>\n      <th>resource</th>\n      <th>resource_vocab</th>\n      <th>Predicted_vocab</th>\n      <th>Predicted_value</th>\n    </tr>\n  </thead>\n  <tbody>\n    <tr>\n      <th>52</th>\n      <td>[2, 12, 9, 10, 22, 22]</td>\n      <td>[&lt;SOS&gt;, A_SUBMITTED_COMPLETE, A_PARTLYSUBMITTE...</td>\n      <td>173844</td>\n      <td>15500.0</td>\n      <td>[70, 53, 53, 53, 50, 55]</td>\n      <td>[&lt;SOS&gt;, 112, 112, 112, 11180, 11201]</td>\n      <td>W_Completeren aanvraag_COMPLETE</td>\n      <td>0.685416</td>\n    </tr>\n    <tr>\n      <th>61</th>\n      <td>[2, 12, 9, 10, 22, 22, 22, 22, 22]</td>\n      <td>[&lt;SOS&gt;, A_SUBMITTED_COMPLETE, A_PARTLYSUBMITTE...</td>\n      <td>173871</td>\n      <td>15500.0</td>\n      <td>[70, 53, 53, 53, 71, 55, 18, 18, 20]</td>\n      <td>[&lt;SOS&gt;, 112, 112, 112, UNKNOWN, 11201, 10889, ...</td>\n      <td>W_Completeren aanvraag_COMPLETE</td>\n      <td>0.878228</td>\n    </tr>\n    <tr>\n      <th>6714</th>\n      <td>[2, 12, 9, 10, 20]</td>\n      <td>[&lt;SOS&gt;, A_SUBMITTED_COMPLETE, A_PARTLYSUBMITTE...</td>\n      <td>194583</td>\n      <td>15500.0</td>\n      <td>[70, 53, 53, 30, 30]</td>\n      <td>[&lt;SOS&gt;, 112, 112, 10939, 10939]</td>\n      <td>W_Completeren aanvraag_COMPLETE</td>\n      <td>0.528128</td>\n    </tr>\n    <tr>\n      <th>1031</th>\n      <td>[2, 12, 9, 10, 20]</td>\n      <td>[&lt;SOS&gt;, A_SUBMITTED_COMPLETE, A_PARTLYSUBMITTE...</td>\n      <td>176927</td>\n      <td>15500.0</td>\n      <td>[70, 53, 53, 38, 38]</td>\n      <td>[&lt;SOS&gt;, 112, 112, 11009, 11009]</td>\n      <td>W_Completeren aanvraag_COMPLETE</td>\n      <td>0.671937</td>\n    </tr>\n    <tr>\n      <th>7405</th>\n      <td>[2, 12, 9, 10]</td>\n      <td>[&lt;SOS&gt;, A_SUBMITTED_COMPLETE, A_PARTLYSUBMITTE...</td>\n      <td>196777</td>\n      <td>15500.0</td>\n      <td>[70, 53, 53, 53]</td>\n      <td>[&lt;SOS&gt;, 112, 112, 112]</td>\n      <td>W_Completeren aanvraag_COMPLETE</td>\n      <td>0.555065</td>\n    </tr>\n    <tr>\n      <th>583</th>\n      <td>[2, 12, 9, 10, 22]</td>\n      <td>[&lt;SOS&gt;, A_SUBMITTED_COMPLETE, A_PARTLYSUBMITTE...</td>\n      <td>175528</td>\n      <td>15500.0</td>\n      <td>[70, 53, 53, 53, 22]</td>\n      <td>[&lt;SOS&gt;, 112, 112, 112, 10912]</td>\n      <td>W_Completeren aanvraag_COMPLETE</td>\n      <td>0.652978</td>\n    </tr>\n    <tr>\n      <th>7554</th>\n      <td>[2, 12, 9, 10, 20]</td>\n      <td>[&lt;SOS&gt;, A_SUBMITTED_COMPLETE, A_PARTLYSUBMITTE...</td>\n      <td>197234</td>\n      <td>15500.0</td>\n      <td>[70, 53, 53, 25, 25]</td>\n      <td>[&lt;SOS&gt;, 112, 112, 10929, 10929]</td>\n      <td>W_Completeren aanvraag_COMPLETE</td>\n      <td>0.608703</td>\n    </tr>\n    <tr>\n      <th>9470</th>\n      <td>[2, 12, 9, 10, 20]</td>\n      <td>[&lt;SOS&gt;, A_SUBMITTED_COMPLETE, A_PARTLYSUBMITTE...</td>\n      <td>203206</td>\n      <td>15500.0</td>\n      <td>[70, 53, 53, 21, 21]</td>\n      <td>[&lt;SOS&gt;, 112, 112, 10910, 10910]</td>\n      <td>W_Completeren aanvraag_COMPLETE</td>\n      <td>0.634169</td>\n    </tr>\n    <tr>\n      <th>7786</th>\n      <td>[2, 12, 9, 10]</td>\n      <td>[&lt;SOS&gt;, A_SUBMITTED_COMPLETE, A_PARTLYSUBMITTE...</td>\n      <td>197948</td>\n      <td>15500.0</td>\n      <td>[70, 53, 53, 53]</td>\n      <td>[&lt;SOS&gt;, 112, 112, 112]</td>\n      <td>W_Completeren aanvraag_COMPLETE</td>\n      <td>0.555065</td>\n    </tr>\n  </tbody>\n</table>\n</div>"
     },
     "metadata": {},
     "execution_count": 32
    }
   ],
   "source": [
    "searcher.search(example_vocab_activities, \"A_ACCEPTED_COMPLETE\", amount=example_amount[0])"
   ]
  },
  {
   "cell_type": "code",
   "execution_count": null,
   "metadata": {},
   "outputs": [],
   "source": []
  }
 ]
}