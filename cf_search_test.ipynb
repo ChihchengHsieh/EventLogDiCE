{
 "metadata": {
  "language_info": {
   "codemirror_mode": {
    "name": "ipython",
    "version": 3
   },
   "file_extension": ".py",
   "mimetype": "text/x-python",
   "name": "python",
   "nbconvert_exporter": "python",
   "pygments_lexer": "ipython3",
   "version": "3.8.10"
  },
  "orig_nbformat": 4,
  "kernelspec": {
   "name": "python3",
   "display_name": "Python 3.8.10 64-bit ('tf_mac': conda)"
  },
  "interpreter": {
   "hash": "5c622353f32ef24c8d83e5c3e334107c074e82d7c3e8ca52c56b9fc900ce33e6"
  }
 },
 "nbformat": 4,
 "nbformat_minor": 2,
 "cells": [
  {
   "cell_type": "code",
   "execution_count": 1,
   "metadata": {},
   "outputs": [],
   "source": [
    "from parameters.dataset import BPI2012Parameters\n",
    "from dataset import BPI2012Dataset\n",
    "from utils.print import print_block\n",
    "from utils.bpi2012 import remove_trail_steps, print_model_prediction_result, remove_tags_for_seq, get_example_data_with_removed_tail\n",
    "import tensorflow as tf\n",
    "from model import LSTMPredNextModel, LSTMScenarioCfModel\n",
    "import numpy as np\n",
    "from dice import EventLogDiCE\n",
    "from parameters.training import TrainingParameters, LossParameters, OptimizerParameters\n",
    "from utils.preprocessing import dataset_split\n",
    "from cf_search import CfSearcher"
   ]
  },
  {
   "cell_type": "code",
   "execution_count": 2,
   "metadata": {},
   "outputs": [
    {
     "output_type": "stream",
     "name": "stdout",
     "text": [
      "\n========================================\n| Preprocessed data loaded successfully: ./data/preprocessed/BPI_Challenge_2012_with_resource/AOW_CompleteOnly \n========================================\n"
     ]
    }
   ],
   "source": [
    "### Load dataset\n",
    "dataset = BPI2012Dataset(BPI2012Parameters()) "
   ]
  },
  {
   "cell_type": "code",
   "execution_count": 3,
   "metadata": {},
   "outputs": [],
   "source": [
    "### Prepare the training dataset.\n",
    "train_params = TrainingParameters(\n",
    "    stop_epoch=20,\n",
    ")\n",
    "train_dataset, test_dataset, validation_dataset = dataset_split(\n",
    "    list(range(len(dataset))),\n",
    "    train_params.train_test_split_portion,\n",
    "    seed=train_params.random_seed,\n",
    "    shuffle=True\n",
    ")\n",
    "training_df = dataset.df.iloc[train_dataset]"
   ]
  },
  {
   "cell_type": "code",
   "execution_count": 4,
   "metadata": {},
   "outputs": [
    {
     "output_type": "stream",
     "name": "stdout",
     "text": [
      "\n",
      "====================Activity====================\n",
      "| [['<SOS>', 'A_SUBMITTED_COMPLETE', 'A_PARTLYSUBMITTED_COMPLETE', 'A_PREACCEPTED_COMPLETE', 'W_Completeren aanvraag_COMPLETE', 'W_Completeren aanvraag_COMPLETE', 'A_ACCEPTED_COMPLETE', 'A_FINALIZED_COMPLETE', 'O_SELECTED_COMPLETE', 'O_CREATED_COMPLETE', 'O_SENT_COMPLETE', 'W_Completeren aanvraag_COMPLETE', 'O_SENT_BACK_COMPLETE', 'W_Nabellen offertes_COMPLETE', 'O_ACCEPTED_COMPLETE', 'A_APPROVED_COMPLETE', 'A_REGISTERED_COMPLETE', 'A_ACTIVATED_COMPLETE', 'W_Valideren aanvraag_COMPLETE']] \n",
      "================================================\n",
      "\n",
      "====================Resource====================\n",
      "| [['<SOS>', '112', '112', '112', '11180', '11201', '11201', '11201', '11201', '11201', '11201', '11201', '11049', '11049', '10629', '10629', '10629', '10629', '10629']] \n",
      "================================================\n",
      "\n",
      "====================Amount====================\n",
      "| [15500.0] \n",
      "==============================================\n",
      "\n",
      "====================Activity (Tail removed)====================\n",
      "| ['<SOS>', 'A_SUBMITTED_COMPLETE', 'A_PARTLYSUBMITTED_COMPLETE', 'A_PREACCEPTED_COMPLETE', 'W_Completeren aanvraag_COMPLETE', 'W_Completeren aanvraag_COMPLETE', 'A_ACCEPTED_COMPLETE', 'A_FINALIZED_COMPLETE', 'O_SELECTED_COMPLETE', 'O_CREATED_COMPLETE', 'O_SENT_COMPLETE', 'W_Completeren aanvraag_COMPLETE', 'O_SENT_BACK_COMPLETE', 'W_Nabellen offertes_COMPLETE', 'O_ACCEPTED_COMPLETE'] \n",
      "===============================================================\n",
      "\n",
      "====================Resource (Tail removed)====================\n",
      "| ['<SOS>', '112', '112', '112', '11180', '11201', '11201', '11201', '11201', '11201', '11201', '11201', '11049', '11049', '10629'] \n",
      "===============================================================\n",
      "\n",
      "====================Ground Truth====================\n",
      "| A_APPROVED_COMPLETE \n",
      "====================================================\n"
     ]
    }
   ],
   "source": [
    "# Get example from dataset\n",
    "example_vocab_activities, example_idx_activities, example_vocab_resources, example_idx_resources, example_amount, ground_truth_vocab = get_example_data_with_removed_tail(dataset, trace_idx=52, tail_length_to_remove=4)"
   ]
  },
  {
   "cell_type": "code",
   "execution_count": 5,
   "metadata": {},
   "outputs": [
    {
     "output_type": "stream",
     "name": "stdout",
     "text": [
      "\n",
      "========================================\n",
      "| Model parameters loaded successfully from: ./SavedModels/0.8175_LSTMPredNextModel_AOW_CompleteOnly_2021-07-01 20:45:16.353467  \n",
      "========================================\n",
      "\n",
      "========================================\n",
      "| Vocab loaded successfully from: ./SavedModels/0.8175_LSTMPredNextModel_AOW_CompleteOnly_2021-07-01 20:45:16.353467  \n",
      "========================================\n",
      "\n",
      "========================================\n",
      "| Model loaded successfully from: ./SavedModels/0.8175_LSTMPredNextModel_AOW_CompleteOnly_2021-07-01 20:45:16.353467  \n",
      "========================================\n",
      "Model: \"LSTMPredNextModel\"\n",
      "_________________________________________________________________\n",
      "Layer (type)                 Output Shape              Param #   \n",
      "=================================================================\n",
      "embedding (Embedding)        multiple                  832       \n",
      "_________________________________________________________________\n",
      "embedding_1 (Embedding)      multiple                  9216      \n",
      "_________________________________________________________________\n",
      "lstm (LSTM)                  multiple                  24832     \n",
      "_________________________________________________________________\n",
      "lstm_1 (LSTM)                multiple                  33024     \n",
      "_________________________________________________________________\n",
      "lstm_2 (LSTM)                multiple                  49408     \n",
      "_________________________________________________________________\n",
      "lstm_3 (LSTM)                multiple                  33024     \n",
      "_________________________________________________________________\n",
      "sequential (Sequential)      (1, 64)                   4544      \n",
      "_________________________________________________________________\n",
      "sequential_1 (Sequential)    (1, 1, 26)                15066     \n",
      "=================================================================\n",
      "Total params: 169,946\n",
      "Trainable params: 169,306\n",
      "Non-trainable params: 640\n",
      "_________________________________________________________________\n"
     ]
    }
   ],
   "source": [
    "##### load prediction model #####\n",
    "pred_model = LSTMPredNextModel.load(\n",
    "    \"./SavedModels/%s\" % (\n",
    "    \"0.8175_LSTMPredNextModel_AOW_CompleteOnly_2021-07-01 20:45:16.353467\" \n",
    "    )\n",
    ")\n",
    "_ = pred_model(**pred_model.get_example_input())\n",
    "pred_model.summary()"
   ]
  },
  {
   "cell_type": "code",
   "execution_count": 6,
   "metadata": {},
   "outputs": [
    {
     "output_type": "stream",
     "name": "stdout",
     "text": [
      "\n",
      "========================================Predict result========================================\n",
      "| Predicted activity with highest probability (0.44) is \"A_REGISTERED_COMPLETE\" \n",
      "==============================================================================================\n",
      "\n",
      "\n",
      "\n",
      "<PAD>                                      3.822472e-06\n",
      "<EOS>                                      1.483298e-06\n",
      "<SOS>                                      7.272783e-06\n",
      "A_ACCEPTED_COMPLETE                        4.374774e-07\n",
      "A_ACTIVATED_COMPLETE                       1.337052e-01\n",
      "A_APPROVED_COMPLETE                        4.277948e-01\n",
      "A_CANCELLED_COMPLETE                       2.484289e-07\n",
      "A_DECLINED_COMPLETE                        9.023657e-06\n",
      "A_FINALIZED_COMPLETE                       1.034867e-04\n",
      "A_PARTLYSUBMITTED_COMPLETE                 1.634951e-04\n",
      "A_PREACCEPTED_COMPLETE                     1.066932e-06\n",
      "A_REGISTERED_COMPLETE                      4.373636e-01\n",
      "A_SUBMITTED_COMPLETE                       8.535364e-06\n",
      "O_ACCEPTED_COMPLETE                        2.829449e-04\n",
      "O_CANCELLED_COMPLETE                       3.999644e-04\n",
      "O_CREATED_COMPLETE                         7.831535e-06\n",
      "O_DECLINED_COMPLETE                        1.493994e-05\n",
      "O_SELECTED_COMPLETE                        7.610810e-07\n",
      "O_SENT_BACK_COMPLETE                       6.009959e-07\n",
      "O_SENT_COMPLETE                            8.271413e-07\n",
      "W_Afhandelen leads_COMPLETE                1.095829e-07\n",
      "W_Beoordelen fraude_COMPLETE               7.545712e-06\n",
      "W_Completeren aanvraag_COMPLETE            7.371925e-07\n",
      "W_Nabellen incomplete dossiers_COMPLETE    4.325165e-06\n",
      "W_Nabellen offertes_COMPLETE               8.101372e-07\n",
      "W_Valideren aanvraag_COMPLETE              1.162139e-04\n",
      "Name: 0, dtype: float64\n"
     ]
    }
   ],
   "source": [
    "##### Get model output #####\n",
    "example_activities_input = tf.constant(example_idx_activities)\n",
    "example_resources_input = tf.constant(example_idx_resources)\n",
    "example_amount_input = tf.constant(example_amount)\n",
    "\n",
    "predicted_df = print_model_prediction_result(pred_model, example_activities_input, example_resources_input, example_amount_input)"
   ]
  },
  {
   "cell_type": "code",
   "execution_count": 7,
   "metadata": {},
   "outputs": [],
   "source": [
    "## initialise searcher\n",
    "searcher = CfSearcher(training_df, pred_model)"
   ]
  },
  {
   "cell_type": "code",
   "execution_count": 20,
   "metadata": {},
   "outputs": [],
   "source": [
    "## 3 ways to search\n",
    "\n",
    "# 1. amount = example_amount, replace_amount = None (Find cases with same milestones and amount)\n",
    "amount = example_amount[0]\n",
    "replace_amount = None\n",
    "\n",
    "# 2. amount = None, replace_aomunt = None (Find cases with same milstones, and use the amount in dataset)\n",
    "# amount = None\n",
    "# replace_amount = None\n",
    "\n",
    "# 3. amount = None, replace_amount = example_amonut (Find cases with same milstones, and replace their amount by replace_amount)\n",
    "# amount = None\n",
    "# replace_amount = example_amount[0]\n",
    "\n",
    "desired_df, cf  = searcher.search(\n",
    "    example_vocab_activities,\n",
    "    desired=ground_truth_vocab,\n",
    "    amount=amount,\n",
    "    replace_amount=replace_amount\n",
    ")\n",
    "\n",
    "# {counterfactual(cf) or all_prediction(desired_df)}_{ground truth}_Amount_{amount argument value}_ReplaceAmount_{replace amount argment value}"
   ]
  },
  {
   "cell_type": "code",
   "execution_count": 21,
   "metadata": {},
   "outputs": [
    {
     "output_type": "execute_result",
     "data": {
      "text/plain": [
       "                                           activity  \\\n",
       "7294   [2, 12, 9, 10, 3, 8, 17, 15, 19, 22, 18, 24]   \n",
       "1453   [2, 12, 9, 10, 3, 17, 8, 15, 19, 22, 18, 24]   \n",
       "4909   [2, 12, 9, 10, 3, 17, 8, 15, 19, 22, 18, 24]   \n",
       "10780  [2, 12, 9, 10, 3, 8, 17, 15, 19, 22, 18, 24]   \n",
       "2906   [2, 12, 9, 10, 3, 8, 17, 15, 19, 22, 18, 24]   \n",
       "\n",
       "                                          activity_vocab  caseid   amount  \\\n",
       "7294   [<SOS>, A_SUBMITTED_COMPLETE, A_PARTLYSUBMITTE...  196422  15500.0   \n",
       "1453   [<SOS>, A_SUBMITTED_COMPLETE, A_PARTLYSUBMITTE...  178257  15500.0   \n",
       "4909   [<SOS>, A_SUBMITTED_COMPLETE, A_PARTLYSUBMITTE...  188998  15500.0   \n",
       "10780  [<SOS>, A_SUBMITTED_COMPLETE, A_PARTLYSUBMITTE...  207278  15500.0   \n",
       "2906   [<SOS>, A_SUBMITTED_COMPLETE, A_PARTLYSUBMITTE...  182780  15500.0   \n",
       "\n",
       "                                               resource  \\\n",
       "7294   [70, 53, 53, 53, 38, 38, 38, 38, 38, 38, 41, 41]   \n",
       "1453   [70, 53, 53, 53, 50, 50, 50, 50, 50, 50, 41, 41]   \n",
       "4909   [70, 53, 53, 53, 27, 27, 27, 27, 27, 27, 41, 41]   \n",
       "10780  [70, 53, 53, 53, 48, 48, 48, 48, 48, 48, 59, 59]   \n",
       "2906           [70, 53, 53, 53, 7, 7, 7, 7, 7, 7, 7, 7]   \n",
       "\n",
       "                                          resource_vocab  \\\n",
       "7294   [<SOS>, 112, 112, 112, 11009, 11009, 11009, 11...   \n",
       "1453   [<SOS>, 112, 112, 112, 11180, 11180, 11180, 11...   \n",
       "4909   [<SOS>, 112, 112, 112, 10932, 10932, 10932, 10...   \n",
       "10780  [<SOS>, 112, 112, 112, 11169, 11169, 11169, 11...   \n",
       "2906   [<SOS>, 112, 112, 112, 10629, 10629, 10629, 10...   \n",
       "\n",
       "                     predicted_vocab  predicted_value  lengths  \n",
       "7294   W_Valideren aanvraag_COMPLETE         0.652488       12  \n",
       "1453   W_Valideren aanvraag_COMPLETE         0.674835       12  \n",
       "4909   W_Valideren aanvraag_COMPLETE         0.636611       12  \n",
       "10780  W_Valideren aanvraag_COMPLETE         0.730330       12  \n",
       "2906   W_Valideren aanvraag_COMPLETE         0.606881       12  "
      ],
      "text/html": "<div>\n<style scoped>\n    .dataframe tbody tr th:only-of-type {\n        vertical-align: middle;\n    }\n\n    .dataframe tbody tr th {\n        vertical-align: top;\n    }\n\n    .dataframe thead th {\n        text-align: right;\n    }\n</style>\n<table border=\"1\" class=\"dataframe\">\n  <thead>\n    <tr style=\"text-align: right;\">\n      <th></th>\n      <th>activity</th>\n      <th>activity_vocab</th>\n      <th>caseid</th>\n      <th>amount</th>\n      <th>resource</th>\n      <th>resource_vocab</th>\n      <th>predicted_vocab</th>\n      <th>predicted_value</th>\n      <th>lengths</th>\n    </tr>\n  </thead>\n  <tbody>\n    <tr>\n      <th>7294</th>\n      <td>[2, 12, 9, 10, 3, 8, 17, 15, 19, 22, 18, 24]</td>\n      <td>[&lt;SOS&gt;, A_SUBMITTED_COMPLETE, A_PARTLYSUBMITTE...</td>\n      <td>196422</td>\n      <td>15500.0</td>\n      <td>[70, 53, 53, 53, 38, 38, 38, 38, 38, 38, 41, 41]</td>\n      <td>[&lt;SOS&gt;, 112, 112, 112, 11009, 11009, 11009, 11...</td>\n      <td>W_Valideren aanvraag_COMPLETE</td>\n      <td>0.652488</td>\n      <td>12</td>\n    </tr>\n    <tr>\n      <th>1453</th>\n      <td>[2, 12, 9, 10, 3, 17, 8, 15, 19, 22, 18, 24]</td>\n      <td>[&lt;SOS&gt;, A_SUBMITTED_COMPLETE, A_PARTLYSUBMITTE...</td>\n      <td>178257</td>\n      <td>15500.0</td>\n      <td>[70, 53, 53, 53, 50, 50, 50, 50, 50, 50, 41, 41]</td>\n      <td>[&lt;SOS&gt;, 112, 112, 112, 11180, 11180, 11180, 11...</td>\n      <td>W_Valideren aanvraag_COMPLETE</td>\n      <td>0.674835</td>\n      <td>12</td>\n    </tr>\n    <tr>\n      <th>4909</th>\n      <td>[2, 12, 9, 10, 3, 17, 8, 15, 19, 22, 18, 24]</td>\n      <td>[&lt;SOS&gt;, A_SUBMITTED_COMPLETE, A_PARTLYSUBMITTE...</td>\n      <td>188998</td>\n      <td>15500.0</td>\n      <td>[70, 53, 53, 53, 27, 27, 27, 27, 27, 27, 41, 41]</td>\n      <td>[&lt;SOS&gt;, 112, 112, 112, 10932, 10932, 10932, 10...</td>\n      <td>W_Valideren aanvraag_COMPLETE</td>\n      <td>0.636611</td>\n      <td>12</td>\n    </tr>\n    <tr>\n      <th>10780</th>\n      <td>[2, 12, 9, 10, 3, 8, 17, 15, 19, 22, 18, 24]</td>\n      <td>[&lt;SOS&gt;, A_SUBMITTED_COMPLETE, A_PARTLYSUBMITTE...</td>\n      <td>207278</td>\n      <td>15500.0</td>\n      <td>[70, 53, 53, 53, 48, 48, 48, 48, 48, 48, 59, 59]</td>\n      <td>[&lt;SOS&gt;, 112, 112, 112, 11169, 11169, 11169, 11...</td>\n      <td>W_Valideren aanvraag_COMPLETE</td>\n      <td>0.730330</td>\n      <td>12</td>\n    </tr>\n    <tr>\n      <th>2906</th>\n      <td>[2, 12, 9, 10, 3, 8, 17, 15, 19, 22, 18, 24]</td>\n      <td>[&lt;SOS&gt;, A_SUBMITTED_COMPLETE, A_PARTLYSUBMITTE...</td>\n      <td>182780</td>\n      <td>15500.0</td>\n      <td>[70, 53, 53, 53, 7, 7, 7, 7, 7, 7, 7, 7]</td>\n      <td>[&lt;SOS&gt;, 112, 112, 112, 10629, 10629, 10629, 10...</td>\n      <td>W_Valideren aanvraag_COMPLETE</td>\n      <td>0.606881</td>\n      <td>12</td>\n    </tr>\n  </tbody>\n</table>\n</div>"
     },
     "metadata": {},
     "execution_count": 21
    }
   ],
   "source": [
    "desired_df.head(5)"
   ]
  },
  {
   "cell_type": "code",
   "execution_count": 22,
   "metadata": {},
   "outputs": [
    {
     "output_type": "execute_result",
     "data": {
      "text/plain": [
       "                                               activity  \\\n",
       "3774   [2, 12, 9, 10, 3, 8, 17, 15, 19, 22, 18, 24, 11]   \n",
       "1580   [2, 12, 9, 10, 3, 8, 17, 15, 19, 22, 18, 24, 11]   \n",
       "3865   [2, 12, 9, 10, 3, 8, 17, 15, 19, 22, 18, 24, 13]   \n",
       "12426   [2, 12, 9, 10, 3, 8, 17, 15, 19, 22, 18, 24, 4]   \n",
       "7617   [2, 12, 9, 10, 3, 17, 8, 15, 19, 22, 18, 24, 13]   \n",
       "\n",
       "                                          activity_vocab  caseid   amount  \\\n",
       "3774   [<SOS>, A_SUBMITTED_COMPLETE, A_PARTLYSUBMITTE...  185461  15500.0   \n",
       "1580   [<SOS>, A_SUBMITTED_COMPLETE, A_PARTLYSUBMITTE...  178659  15500.0   \n",
       "3865   [<SOS>, A_SUBMITTED_COMPLETE, A_PARTLYSUBMITTE...  185740  15500.0   \n",
       "12426  [<SOS>, A_SUBMITTED_COMPLETE, A_PARTLYSUBMITTE...  212355  15500.0   \n",
       "7617   [<SOS>, A_SUBMITTED_COMPLETE, A_PARTLYSUBMITTE...  197425  15500.0   \n",
       "\n",
       "                                                resource  \\\n",
       "3774         [70, 53, 53, 53, 3, 3, 3, 3, 3, 3, 3, 3, 3]   \n",
       "1580   [70, 53, 53, 53, 49, 49, 49, 49, 49, 49, 40, 7...   \n",
       "3865   [70, 53, 53, 53, 48, 48, 48, 48, 48, 48, 19, 1...   \n",
       "12426  [70, 53, 53, 53, 63, 63, 63, 63, 63, 63, 19, 1...   \n",
       "7617   [70, 53, 53, 53, 25, 25, 25, 25, 25, 25, 59, 5...   \n",
       "\n",
       "                                          resource_vocab      predicted_vocab  \\\n",
       "3774   [<SOS>, 112, 112, 112, 10138, 10138, 10138, 10...  A_APPROVED_COMPLETE   \n",
       "1580   [<SOS>, 112, 112, 112, 11179, 11179, 11179, 11...  A_APPROVED_COMPLETE   \n",
       "3865   [<SOS>, 112, 112, 112, 11169, 11169, 11169, 11...  A_APPROVED_COMPLETE   \n",
       "12426  [<SOS>, 112, 112, 112, 11300, 11300, 11300, 11...  A_APPROVED_COMPLETE   \n",
       "7617   [<SOS>, 112, 112, 112, 10929, 10929, 10929, 10...  A_APPROVED_COMPLETE   \n",
       "\n",
       "       predicted_value  lengths  \n",
       "3774          0.605262       13  \n",
       "1580          0.614594       13  \n",
       "3865          0.550128       13  \n",
       "12426         0.658343       13  \n",
       "7617          0.625466       13  "
      ],
      "text/html": "<div>\n<style scoped>\n    .dataframe tbody tr th:only-of-type {\n        vertical-align: middle;\n    }\n\n    .dataframe tbody tr th {\n        vertical-align: top;\n    }\n\n    .dataframe thead th {\n        text-align: right;\n    }\n</style>\n<table border=\"1\" class=\"dataframe\">\n  <thead>\n    <tr style=\"text-align: right;\">\n      <th></th>\n      <th>activity</th>\n      <th>activity_vocab</th>\n      <th>caseid</th>\n      <th>amount</th>\n      <th>resource</th>\n      <th>resource_vocab</th>\n      <th>predicted_vocab</th>\n      <th>predicted_value</th>\n      <th>lengths</th>\n    </tr>\n  </thead>\n  <tbody>\n    <tr>\n      <th>3774</th>\n      <td>[2, 12, 9, 10, 3, 8, 17, 15, 19, 22, 18, 24, 11]</td>\n      <td>[&lt;SOS&gt;, A_SUBMITTED_COMPLETE, A_PARTLYSUBMITTE...</td>\n      <td>185461</td>\n      <td>15500.0</td>\n      <td>[70, 53, 53, 53, 3, 3, 3, 3, 3, 3, 3, 3, 3]</td>\n      <td>[&lt;SOS&gt;, 112, 112, 112, 10138, 10138, 10138, 10...</td>\n      <td>A_APPROVED_COMPLETE</td>\n      <td>0.605262</td>\n      <td>13</td>\n    </tr>\n    <tr>\n      <th>1580</th>\n      <td>[2, 12, 9, 10, 3, 8, 17, 15, 19, 22, 18, 24, 11]</td>\n      <td>[&lt;SOS&gt;, A_SUBMITTED_COMPLETE, A_PARTLYSUBMITTE...</td>\n      <td>178659</td>\n      <td>15500.0</td>\n      <td>[70, 53, 53, 53, 49, 49, 49, 49, 49, 49, 40, 7...</td>\n      <td>[&lt;SOS&gt;, 112, 112, 112, 11179, 11179, 11179, 11...</td>\n      <td>A_APPROVED_COMPLETE</td>\n      <td>0.614594</td>\n      <td>13</td>\n    </tr>\n    <tr>\n      <th>3865</th>\n      <td>[2, 12, 9, 10, 3, 8, 17, 15, 19, 22, 18, 24, 13]</td>\n      <td>[&lt;SOS&gt;, A_SUBMITTED_COMPLETE, A_PARTLYSUBMITTE...</td>\n      <td>185740</td>\n      <td>15500.0</td>\n      <td>[70, 53, 53, 53, 48, 48, 48, 48, 48, 48, 19, 1...</td>\n      <td>[&lt;SOS&gt;, 112, 112, 112, 11169, 11169, 11169, 11...</td>\n      <td>A_APPROVED_COMPLETE</td>\n      <td>0.550128</td>\n      <td>13</td>\n    </tr>\n    <tr>\n      <th>12426</th>\n      <td>[2, 12, 9, 10, 3, 8, 17, 15, 19, 22, 18, 24, 4]</td>\n      <td>[&lt;SOS&gt;, A_SUBMITTED_COMPLETE, A_PARTLYSUBMITTE...</td>\n      <td>212355</td>\n      <td>15500.0</td>\n      <td>[70, 53, 53, 53, 63, 63, 63, 63, 63, 63, 19, 1...</td>\n      <td>[&lt;SOS&gt;, 112, 112, 112, 11300, 11300, 11300, 11...</td>\n      <td>A_APPROVED_COMPLETE</td>\n      <td>0.658343</td>\n      <td>13</td>\n    </tr>\n    <tr>\n      <th>7617</th>\n      <td>[2, 12, 9, 10, 3, 17, 8, 15, 19, 22, 18, 24, 13]</td>\n      <td>[&lt;SOS&gt;, A_SUBMITTED_COMPLETE, A_PARTLYSUBMITTE...</td>\n      <td>197425</td>\n      <td>15500.0</td>\n      <td>[70, 53, 53, 53, 25, 25, 25, 25, 25, 25, 59, 5...</td>\n      <td>[&lt;SOS&gt;, 112, 112, 112, 10929, 10929, 10929, 10...</td>\n      <td>A_APPROVED_COMPLETE</td>\n      <td>0.625466</td>\n      <td>13</td>\n    </tr>\n  </tbody>\n</table>\n</div>"
     },
     "metadata": {},
     "execution_count": 22
    }
   ],
   "source": [
    "cf.head(5)"
   ]
  },
  {
   "cell_type": "code",
   "execution_count": 23,
   "metadata": {},
   "outputs": [
    {
     "output_type": "execute_result",
     "data": {
      "text/plain": [
       "A_APPROVED_COMPLETE                        1031\n",
       "A_REGISTERED_COMPLETE                       312\n",
       "W_Valideren aanvraag_COMPLETE               263\n",
       "W_Nabellen incomplete dossiers_COMPLETE     107\n",
       "O_ACCEPTED_COMPLETE                          85\n",
       "A_ACTIVATED_COMPLETE                          6\n",
       "Name: predicted_vocab, dtype: int64"
      ]
     },
     "metadata": {},
     "execution_count": 23
    }
   ],
   "source": [
    "desired_df['predicted_vocab'].value_counts()"
   ]
  },
  {
   "cell_type": "code",
   "execution_count": 24,
   "metadata": {},
   "outputs": [],
   "source": [
    "desired_df.to_csv(f\"./cf_searching_result/desired_{ground_truth_vocab}_Amount_{amount}_ReplaceAmount_{replace_amount}_result.csv\")"
   ]
  },
  {
   "cell_type": "code",
   "execution_count": 25,
   "metadata": {},
   "outputs": [],
   "source": [
    "cf.to_csv(f\"./cf_searching_result/cf_{ground_truth_vocab}_Amount_{amount}_ReplaceAmount_{replace_amount}_result.csv\")"
   ]
  },
  {
   "cell_type": "code",
   "execution_count": null,
   "metadata": {},
   "outputs": [],
   "source": []
  }
 ]
}